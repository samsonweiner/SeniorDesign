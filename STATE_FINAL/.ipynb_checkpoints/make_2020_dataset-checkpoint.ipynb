{
 "cells": [
  {
   "cell_type": "code",
   "execution_count": 3,
   "metadata": {},
   "outputs": [],
   "source": [
    "import pandas as pd\n",
    "import numpy as np\n",
    "import csv"
   ]
  },
  {
   "cell_type": "code",
   "execution_count": 4,
   "metadata": {},
   "outputs": [],
   "source": [
    "abrvKeys = {'Alabama': 'AL', 'Alaska': 'AK', 'Arizona': 'AZ', 'Arkansas': 'AR', 'California': 'CA', 'Colorado': 'CO', 'Connecticut': 'CT', 'Delaware': 'DE', 'Florida': 'FL', 'Georgia': 'GA', 'Hawaii': 'HI', 'Idaho': 'ID', 'Illinois': 'IL', 'Indiana': 'IN', 'Iowa': 'IA', 'Kansas': 'KS', 'Kentucky': 'KY', 'Louisiana': 'LA', 'Maine': 'ME', 'Maryland': 'MD', 'Massachusetts': 'MA', 'Michigan': 'MI', 'Minnesota': 'MN', 'Mississippi': 'MS', 'Missouri': 'MO', 'Montana': 'MT', 'Nebraska': 'NE', 'Nevada': 'NV', 'New Hampshire': 'NH', 'New Jersey': 'NJ', 'New Mexico': 'NM', 'New York': 'NY', 'North Carolina': 'NC', 'North Dakota': 'ND', 'Ohio': 'OH', 'Oklahoma': 'OK', 'Oregon': 'OR', 'Pennsylvania': 'PA', 'Rhode Island': 'RI', 'South Carolina': 'SC', 'South Dakota': 'SD', 'Tennessee': 'TN', 'Texas': 'TX', 'Utah': 'UT', 'Vermont': 'VT', 'Virginia': 'VA', 'Washington': 'WA', 'West Virginia': 'WV', 'Wisconsin': 'WI', 'Wyoming': 'WY'}\n",
    "fullKeys = {'AL': 'Alabama', 'AK': 'Alaska', 'AZ': 'Arizona', 'AR': 'Arkansas', 'CA': 'California', \n",
    "            'CO': 'Colorado', 'CT': 'Connecticut', 'DE': 'Delaware', 'FL': 'Florida', 'GA': 'Georgia', \n",
    "            'HI': 'Hawaii', 'ID': 'Idaho', 'IL': 'Illinois', 'IN': 'Indiana', 'IA': 'Iowa', 'KS': 'Kansas', \n",
    "            'KY': 'Kentucky', 'LA': 'Louisiana', 'ME': 'Maine', 'MD': 'Maryland', 'MA': 'Massachusetts', \n",
    "            'MI': 'Michigan', 'MN': 'Minnesota', 'MS': 'Mississippi', 'MO': 'Missouri', 'MT': 'Montana', \n",
    "            'NE': 'Nebraska', 'NV': 'Nevada', 'NH': 'New Hampshire', 'NJ': 'New Jersey', 'NM': 'New Mexico', \n",
    "            'NY': 'New York', 'NC': 'North Carolina', 'ND': 'North Dakota', 'OH': 'Ohio', 'OK': 'Oklahoma', \n",
    "            'OR': 'Oregon', 'PA': 'Pennsylvania', 'RI': 'Rhode Island', 'SC': 'South Carolina', 'SD': 'South Dakota', \n",
    "            'TN': 'Tennessee', 'TX': 'Texas', 'UT': 'Utah', 'VT': 'Vermont', 'VA': 'Virginia', 'WA': 'Washington', \n",
    "            'WV': 'West Virginia', 'WI': 'Wisconsin', 'WY': 'Wyoming'}"
   ]
  },
  {
   "cell_type": "code",
   "execution_count": 41,
   "metadata": {},
   "outputs": [],
   "source": [
    "unemployment = {'ND': 2.2, 'VT': 2.4, 'CO': 2.5, 'SC': 2.5, 'UT': 2.5, 'NH': 2.6, 'VA': 2.6, 'AL': 2.7, 'HI': 2.7,\n",
    "                'ID': 2.7, 'FL': 2.8, 'IA': 2.8, 'MA': 2.8, 'NE': 2.9, 'GA': 3.1, 'IN': 3.1, 'KS': 3.1, 'MN': 3.1,\n",
    "                'ME': 3.2, 'OK': 3.2, 'MD': 3.3, 'OR': 3.3, 'SD': 3.3, 'IL': 3.4, 'RI': 3.4, 'TN': 3.4, 'AR': 3.5,\n",
    "                'MO': 3.5, 'MT': 3.5, 'TX': 3.5, 'WI': 3.5, 'MI': 3.6, 'NV': 3.6, 'NC': 3.6, 'NY': 3.7, 'WY': 3.7,\n",
    "                'CT': 3.8, 'NJ': 3.8, 'WA': 3.8, 'CA': 3.9, 'DE': 3.9, 'OH': 4.1, 'KY': 4.2, 'AZ': 4.5, 'PA': 4.7,\n",
    "                'NM': 4.8, 'WV': 4.9, 'LA': 5.2, 'MS': 5.4, 'AK': 5.8}"
   ]
  },
  {
   "cell_type": "code",
   "execution_count": 6,
   "metadata": {},
   "outputs": [],
   "source": [
    "education = {'AL': 47, 'AK': 45, 'AZ': 48, 'AR': 42, 'CA': 56, 'CO': 60, 'CT': 60, 'DE': 57, 'FL': 54, 'GA': 53, \n",
    "             'HI': 60, 'ID': 49, 'IL': 60, 'IN': 53, 'IA': 60, 'KS': 60, 'KY': 49, 'LA': 44, 'ME': 57, 'MD': 60, \n",
    "             'MA': 60, 'MI': 54, 'MN': 60, 'MS': 46, 'MO': 57, 'MT': 57, 'NE': 60, 'NV': 42, 'NH': 60, 'NJ': 60, \n",
    "             'NM': 42, 'NY': 60, 'NC': 57, 'ND': 60, 'OH': 56, 'OK': 47, 'OR': 57, 'PA': 60, 'RI': 60, 'SC': 53, \n",
    "             'SD': 60, 'TN': 49, 'TX': 47, 'UT': 57, 'VT': 60, 'VA': 60, 'WA': 60, 'WV': 43, 'WI': 60, 'WY': 53}"
   ]
  },
  {
   "cell_type": "code",
   "execution_count": 7,
   "metadata": {},
   "outputs": [],
   "source": [
    "income = {}\n",
    "with open('/Users/samsonweiner/Downloads/MHI_data.csv') as incomeFile:\n",
    "    incomeData = csv.reader(incomeFile, delimiter=\",\")\n",
    "    for row in incomeData:\n",
    "        if str(row[1]) in abrvKeys:\n",
    "            income[abrvKeys[row[1]]] = int(row[3])"
   ]
  },
  {
   "cell_type": "code",
   "execution_count": 11,
   "metadata": {},
   "outputs": [],
   "source": [
    "religion_full = {'Washington': 0.55, 'Oregon': 0.57, 'California': 0.54, 'Idaho': 0.62, 'Nevada': 0.59, 'Arizona': 0.62,\n",
    "            'Utah': 0.61, 'Montana': 0.64, 'Wyoming': 0.66, 'Colorado': 0.55, 'New Mexico': 0.54, 'North Dakota': 0.64,\n",
    "            'South Dakota': 0.69, 'Nebraska': 0.66, 'Kansas': 0.66, 'Oklahoma': 0.71, 'Texas': 0.69, 'Minnesota': 0.56,\n",
    "            'Iowa': 0.66, 'Missouri': 0.70, 'Arkansas': 0.77, 'Louisiana': 0.75, 'Wisconsin': 0.56, 'Illinois': 0.61,\n",
    "            'Mississippi': 0.82, 'Michigan': 0.63, 'Indiana': 0.63, 'Kentucky': 0.75, 'Tennessee': 0.78, 'Alabama': 0.82,\n",
    "            'Ohio': 0.67, 'Georgia': 0.74, 'Florida': 0.64, 'West Virginia': 0.77, 'Virginia': 0.67, 'South Carolina': 0.74,\n",
    "            'Maryland': 0.64, 'Pennsylvania': 0.61, 'Delaware': 0.61, 'New Jersey': 0.60, 'New York': 0.56, 'Connecticut': 0.54,\n",
    "            'Rhode Island': 0.60, 'Massachusetts': 0.40, 'Vermont': 0.41, 'New Hampshire': 0.43, 'Maine': 0.48, 'Alaska': 0.55,\n",
    "            'Hawaii': 0.62, 'North Carolina': 0.73}"
   ]
  },
  {
   "cell_type": "code",
   "execution_count": 34,
   "metadata": {},
   "outputs": [],
   "source": [
    "six = ['OR', 'WV', 'ME']\n",
    "five = ['AR','KY', 'OK', 'AL', 'VT', 'TN', 'WA', 'UT', 'MO', 'MI', 'RI', 'NH', 'LA', 'MT', 'OH', 'SC', 'IN', 'MS']\n",
    "four = ['PA', 'NM', 'MA', 'KS', 'NC', 'ID', 'WY', 'MN', 'ND', 'NE', 'WI', 'DE', 'IA', 'AZ', 'CO', 'GA', 'CT', 'VA', 'AK', 'IL', 'SD', 'NV', 'MD']\n",
    "three = ['FL', 'TX', 'NY', 'CA']\n",
    "two = ['NJ', 'HI']\n",
    "depression = {}\n",
    "for state in six:\n",
    "    depression[state] = 6\n",
    "for state in five:\n",
    "    depression[state] = 5\n",
    "for state in four:\n",
    "    depression[state] = 4\n",
    "for state in three:\n",
    "    depression[state] = 3\n",
    "for state in two:\n",
    "    depression[state] = 2"
   ]
  },
  {
   "cell_type": "code",
   "execution_count": 35,
   "metadata": {},
   "outputs": [],
   "source": [
    "religion = {}\n",
    "for x in religion_full:\n",
    "    religion[abrvKeys[x]] = religion_full[x]"
   ]
  },
  {
   "cell_type": "code",
   "execution_count": 36,
   "metadata": {},
   "outputs": [],
   "source": [
    "compiled_data = {}"
   ]
  },
  {
   "cell_type": "code",
   "execution_count": 37,
   "metadata": {},
   "outputs": [],
   "source": [
    "for x in fullKeys:\n",
    "    compiled_data[x] = []"
   ]
  },
  {
   "cell_type": "code",
   "execution_count": 44,
   "metadata": {},
   "outputs": [],
   "source": [
    "for x in compiled_data:\n",
    "    compiled_data[x] = [depression[x], education[x], unemployment[x], income[x], religion[x]]"
   ]
  },
  {
   "cell_type": "code",
   "execution_count": 46,
   "metadata": {},
   "outputs": [],
   "source": [
    "full_df = pd.DataFrame(compiled_data)\n",
    "full_df = full_df.T"
   ]
  },
  {
   "cell_type": "code",
   "execution_count": 48,
   "metadata": {},
   "outputs": [
    {
     "name": "stdout",
     "output_type": "stream",
     "text": [
      "Index(['depression', 'edu', 'employ', 'income', 'religion'], dtype='object')\n"
     ]
    }
   ],
   "source": [
    "full_df.columns = ['depression', 'edu', 'employ', 'income', 'religion']\n",
    "print(full_df.columns)"
   ]
  },
  {
   "cell_type": "code",
   "execution_count": 49,
   "metadata": {},
   "outputs": [
    {
     "data": {
      "text/html": [
       "<div>\n",
       "<style scoped>\n",
       "    .dataframe tbody tr th:only-of-type {\n",
       "        vertical-align: middle;\n",
       "    }\n",
       "\n",
       "    .dataframe tbody tr th {\n",
       "        vertical-align: top;\n",
       "    }\n",
       "\n",
       "    .dataframe thead th {\n",
       "        text-align: right;\n",
       "    }\n",
       "</style>\n",
       "<table border=\"1\" class=\"dataframe\">\n",
       "  <thead>\n",
       "    <tr style=\"text-align: right;\">\n",
       "      <th></th>\n",
       "      <th>depression</th>\n",
       "      <th>edu</th>\n",
       "      <th>employ</th>\n",
       "      <th>income</th>\n",
       "      <th>religion</th>\n",
       "    </tr>\n",
       "  </thead>\n",
       "  <tbody>\n",
       "    <tr>\n",
       "      <th>AL</th>\n",
       "      <td>5.0</td>\n",
       "      <td>47.0</td>\n",
       "      <td>2.7</td>\n",
       "      <td>48486.0</td>\n",
       "      <td>0.82</td>\n",
       "    </tr>\n",
       "    <tr>\n",
       "      <th>AK</th>\n",
       "      <td>4.0</td>\n",
       "      <td>45.0</td>\n",
       "      <td>5.8</td>\n",
       "      <td>76715.0</td>\n",
       "      <td>0.55</td>\n",
       "    </tr>\n",
       "    <tr>\n",
       "      <th>AZ</th>\n",
       "      <td>4.0</td>\n",
       "      <td>48.0</td>\n",
       "      <td>4.5</td>\n",
       "      <td>56213.0</td>\n",
       "      <td>0.62</td>\n",
       "    </tr>\n",
       "    <tr>\n",
       "      <th>AR</th>\n",
       "      <td>5.0</td>\n",
       "      <td>42.0</td>\n",
       "      <td>3.5</td>\n",
       "      <td>45726.0</td>\n",
       "      <td>0.77</td>\n",
       "    </tr>\n",
       "    <tr>\n",
       "      <th>CA</th>\n",
       "      <td>3.0</td>\n",
       "      <td>56.0</td>\n",
       "      <td>3.9</td>\n",
       "      <td>71228.0</td>\n",
       "      <td>0.54</td>\n",
       "    </tr>\n",
       "  </tbody>\n",
       "</table>\n",
       "</div>"
      ],
      "text/plain": [
       "    depression   edu  employ   income  religion\n",
       "AL         5.0  47.0     2.7  48486.0      0.82\n",
       "AK         4.0  45.0     5.8  76715.0      0.55\n",
       "AZ         4.0  48.0     4.5  56213.0      0.62\n",
       "AR         5.0  42.0     3.5  45726.0      0.77\n",
       "CA         3.0  56.0     3.9  71228.0      0.54"
      ]
     },
     "execution_count": 49,
     "metadata": {},
     "output_type": "execute_result"
    }
   ],
   "source": [
    "full_df.index = ['AL', 'AK', 'AZ', 'AR', 'CA', 'CO', 'CT', 'DE', 'FL', 'GA', 'HI', 'ID', 'IL', 'IN', 'IA', 'KS', 'KY', 'LA', 'ME', 'MD', 'MA', 'MI', 'MN', 'MS', 'MO', 'MT', 'NE', 'NV', 'NH', 'NJ', 'NM', 'NY', 'NC', 'ND', 'OH', 'OK', 'OR', 'PA', 'RI', 'SC', 'SD', 'TN', 'TX', 'UT', 'VT', 'VA', 'WA', 'WV', 'WI', 'WY']\n",
    "full_df.head()"
   ]
  },
  {
   "cell_type": "code",
   "execution_count": null,
   "metadata": {},
   "outputs": [],
   "source": [
    "f = open('', 'w+')\n",
    "add_df.to_csv('')"
   ]
  }
 ],
 "metadata": {
  "kernelspec": {
   "display_name": "Python 3",
   "language": "python",
   "name": "python3"
  },
  "language_info": {
   "codemirror_mode": {
    "name": "ipython",
    "version": 3
   },
   "file_extension": ".py",
   "mimetype": "text/x-python",
   "name": "python",
   "nbconvert_exporter": "python",
   "pygments_lexer": "ipython3",
   "version": "3.7.4"
  }
 },
 "nbformat": 4,
 "nbformat_minor": 2
}
