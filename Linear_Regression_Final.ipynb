{
 "cells": [
  {
   "cell_type": "code",
   "execution_count": 132,
   "metadata": {},
   "outputs": [],
   "source": [
    "import numpy as np\n",
    "import matplotlib.pyplot as plt\n",
    "from sklearn.linear_model import LinearRegression\n",
    "import pandas as pd\n",
    "import xlrd\n",
    "from sklearn.impute import SimpleImputer"
   ]
  },
  {
   "cell_type": "code",
   "execution_count": 133,
   "metadata": {},
   "outputs": [],
   "source": [
    "pop_2010 = pd.read_excel(r\"C:\\Users\\sdpou\\Desktop\\sdp\\Prescription_Population_Combined (1).xlsx\")[\"April 1, 2010 - Census\"]\n",
    "pop_2010 = pop_2010.fillna(pop_2010.mean())\n",
    "pop_2010 = pop_2010.to_numpy()\n",
    "\n",
    "pop_2015 = pd.read_excel(r\"C:\\Users\\sdpou\\Desktop\\sdp\\Prescription_Population_Combined (1).xlsx\")[\"Population Estimate (as of July 1) - 2015\"]\n",
    "pop_2015 = pop_2015.fillna(pop_2015.mean())\n",
    "pop_2015 = pop_2015.to_numpy()\n",
    "\n",
    "rx_2010 = pd.read_excel(r\"C:\\Users\\sdpou\\Desktop\\sdp\\Prescription_Population_Combined (1).xlsx\")[\"MME per cap 2010\"]\n",
    "rx_2010 = rx_2010.fillna(rx_2010.mean())\n",
    "rx_2010 = rx_2010.to_numpy()\n",
    "\n",
    "rx_2015 = pd.read_excel(r\"C:\\Users\\sdpou\\Desktop\\sdp\\Prescription_Population_Combined (1).xlsx\")[\"MME per cap 2015\"]\n",
    "rx_2015 = rx_2015.fillna(rx_2015.mean())\n",
    "rx_2015 = rx_2015.to_numpy()"
   ]
  },
  {
   "cell_type": "code",
   "execution_count": 134,
   "metadata": {},
   "outputs": [],
   "source": [
    "##pop_2010\n",
    "##pop_2015\n",
    "##rx_2010\n",
    "##rx_2015"
   ]
  },
  {
   "cell_type": "code",
   "execution_count": 135,
   "metadata": {},
   "outputs": [],
   "source": [
    "data = pd.read_excel(r\"C:\\Users\\sdpou\\Desktop\\sdp\\Prescription_Population_Combined (1).xlsx\")"
   ]
  },
  {
   "cell_type": "code",
   "execution_count": 136,
   "metadata": {},
   "outputs": [],
   "source": [
    "linearReg2010 = LinearRegression()\n",
    "linearReg2015 = LinearRegression()"
   ]
  },
  {
   "cell_type": "code",
   "execution_count": 137,
   "metadata": {},
   "outputs": [],
   "source": [
    "pop_2010 = pop_2010.reshape(-1, 1)\n",
    "rx_2010 = rx_2010.reshape(-1,1)\n",
    "pop_2015 = pop_2015.reshape(-1, 1)\n",
    "rx_2015 = rx_2015.reshape(-1, 1)"
   ]
  },
  {
   "cell_type": "code",
   "execution_count": 138,
   "metadata": {},
   "outputs": [
    {
     "data": {
      "text/plain": [
       "LinearRegression(copy_X=True, fit_intercept=True, n_jobs=None, normalize=False)"
      ]
     },
     "execution_count": 138,
     "metadata": {},
     "output_type": "execute_result"
    }
   ],
   "source": [
    "linearReg2010.fit(pop_2010, rx_2010)\n"
   ]
  },
  {
   "cell_type": "code",
   "execution_count": 139,
   "metadata": {},
   "outputs": [
    {
     "data": {
      "image/png": "[encoded data removed]",
      "text/plain": [
       "<Figure size 432x288 with 1 Axes>"
      ]
     },
     "metadata": {
      "needs_background": "light"
     },
     "output_type": "display_data"
    }
   ],
   "source": [
    "plt.scatter(pop_2010, rx_2010)\n",
    "slope_2010 = linearReg2010.predict(pop_2010)\n",
    "plt.plot(pop_2010, slope_2010, color = 'red')\n",
    "plt.show()\n"
   ]
  },
  {
   "cell_type": "code",
   "execution_count": 141,
   "metadata": {},
   "outputs": [
    {
     "data": {
      "text/plain": [
       "LinearRegression(copy_X=True, fit_intercept=True, n_jobs=None, normalize=False)"
      ]
     },
     "execution_count": 141,
     "metadata": {},
     "output_type": "execute_result"
    }
   ],
   "source": [
    "linearReg2015.fit(pop_2015, rx_2015)"
   ]
  },
  {
   "cell_type": "code",
   "execution_count": 143,
   "metadata": {},
   "outputs": [
    {
     "data": {
      "image/png": "[encoded data removed]",
      "text/plain": [
       "<Figure size 432x288 with 1 Axes>"
      ]
     },
     "metadata": {
      "needs_background": "light"
     },
     "output_type": "display_data"
    }
   ],
   "source": [
    "plt.scatter(pop_2015, rx_2015)\n",
    "plt.scatter(pop_2015, rx_2015)\n",
    "slope_2015 = linearReg2015.predict(pop_2015)\n",
    "plt.plot(pop_2015, slope_2015, color = 'purple')\n",
    "plt.show()"
   ]
  },
  {
   "cell_type": "code",
   "execution_count": null,
   "metadata": {},
   "outputs": [],
   "source": []
  }
 ],
 "metadata": {
  "kernelspec": {
   "display_name": "Python 3",
   "language": "python",
   "name": "python3"
  },
  "language_info": {
   "codemirror_mode": {
    "name": "ipython",
    "version": 3
   },
   "file_extension": ".py",
   "mimetype": "text/x-python",
   "name": "python",
   "nbconvert_exporter": "python",
   "pygments_lexer": "ipython3",
   "version": "3.7.4"
  }
 },
 "nbformat": 4,
 "nbformat_minor": 2
}
