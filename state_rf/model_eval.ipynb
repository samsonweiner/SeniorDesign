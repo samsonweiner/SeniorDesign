{
 "cells": [
  {
   "cell_type": "code",
   "execution_count": 1,
   "metadata": {},
   "outputs": [],
   "source": [
    "from model_select_eval_utils import load_data, select_model_one_fold, select_model_all_folds\n",
    "from model_select_eval_utils import evaluate_model, evaluate_bagging_model, write_model_results_to_file\n",
    "from sklearn.ensemble import RandomForestRegressor\n",
    "import numpy as np"
   ]
  },
  {
   "cell_type": "code",
   "execution_count": 7,
   "metadata": {},
   "outputs": [],
   "source": [
    "source_directory = \"/Users/samsonweiner/Desktop/SeniorDesign/epidemic_modeling/SeniorDesign/state_rf/stratified_data/\"\n",
    "input_features = [\"edu\", \"employ\", \"MME\", \"income\", \"religion\", \"HIV\", \"depression\"]\n",
    "labels = ['deaths']\n",
    "desc_features = ['id', 'description']\n",
    "\n",
    "forest_reg = RandomForestRegressor(random_state=42)\n",
    "param_grid = [\n",
    "        {'bootstrap':[False],'max_depth':[2,4,6,8], 'max_features':[2,3,4,5,6,7], 'min_samples_leaf':[2,4,6,8],\n",
    "         'max_leaf_nodes': [4,6,8,10,12],'min_samples_split':[2,4,6,8,10],'n_estimators': [20, 100, 150, 200, 250]},\n",
    "  ]"
   ]
  },
  {
   "cell_type": "code",
   "execution_count": 3,
   "metadata": {},
   "outputs": [
    {
     "name": "stderr",
     "output_type": "stream",
     "text": [
      "/Users/samsonweiner/opt/anaconda3/lib/python3.7/site-packages/sklearn/model_selection/_search.py:814: DeprecationWarning: The default of the `iid` parameter will change from True to False in version 0.22 and will be removed in 0.24. This will change numeric results when test-set sizes are unequal.\n",
      "  DeprecationWarning)\n",
      "/Users/samsonweiner/opt/anaconda3/lib/python3.7/site-packages/sklearn/model_selection/_search.py:814: DeprecationWarning: The default of the `iid` parameter will change from True to False in version 0.22 and will be removed in 0.24. This will change numeric results when test-set sizes are unequal.\n",
      "  DeprecationWarning)\n",
      "/Users/samsonweiner/opt/anaconda3/lib/python3.7/site-packages/sklearn/model_selection/_search.py:814: DeprecationWarning: The default of the `iid` parameter will change from True to False in version 0.22 and will be removed in 0.24. This will change numeric results when test-set sizes are unequal.\n",
      "  DeprecationWarning)\n",
      "/Users/samsonweiner/opt/anaconda3/lib/python3.7/site-packages/sklearn/model_selection/_search.py:814: DeprecationWarning: The default of the `iid` parameter will change from True to False in version 0.22 and will be removed in 0.24. This will change numeric results when test-set sizes are unequal.\n",
      "  DeprecationWarning)\n",
      "/Users/samsonweiner/opt/anaconda3/lib/python3.7/site-packages/sklearn/model_selection/_search.py:814: DeprecationWarning: The default of the `iid` parameter will change from True to False in version 0.22 and will be removed in 0.24. This will change numeric results when test-set sizes are unequal.\n",
      "  DeprecationWarning)\n"
     ]
    }
   ],
   "source": [
    "best_models = select_model_all_folds(source_directory, forest_reg, \n",
    "                              input_features, labels, param_grid)"
   ]
  },
  {
   "cell_type": "code",
   "execution_count": 5,
   "metadata": {},
   "outputs": [
    {
     "name": "stdout",
     "output_type": "stream",
     "text": [
      "{'run_time': 7970.206934, 'best_mse': -59.43205124267465, 'best_params': {'bootstrap': False, 'max_depth': 2, 'max_features': 3, 'max_leaf_nodes': 4, 'min_samples_leaf': 2, 'min_samples_split': 2, 'n_estimators': 20}}\n",
      "{'run_time': 10493.711496000002, 'best_mse': -52.35190381530102, 'best_params': {'bootstrap': False, 'max_depth': 6, 'max_features': 2, 'max_leaf_nodes': 10, 'min_samples_leaf': 2, 'min_samples_split': 6, 'n_estimators': 150}}\n",
      "{'run_time': 8078.021012000001, 'best_mse': -86.89318432725692, 'best_params': {'bootstrap': False, 'max_depth': 8, 'max_features': 6, 'max_leaf_nodes': 12, 'min_samples_leaf': 2, 'min_samples_split': 2, 'n_estimators': 20}}\n",
      "{'run_time': 9014.059976, 'best_mse': -98.88251339213882, 'best_params': {'bootstrap': False, 'max_depth': 2, 'max_features': 2, 'max_leaf_nodes': 4, 'min_samples_leaf': 8, 'min_samples_split': 2, 'n_estimators': 20}}\n",
      "{'run_time': 7920.526511999997, 'best_mse': -87.28943651749584, 'best_params': {'bootstrap': False, 'max_depth': 2, 'max_features': 2, 'max_leaf_nodes': 4, 'min_samples_leaf': 4, 'min_samples_split': 10, 'n_estimators': 150}}\n"
     ]
    }
   ],
   "source": [
    "for i in range(5):\n",
    "    print(best_models['best_model_' + str(i+1)])"
   ]
  },
  {
   "cell_type": "code",
   "execution_count": 41,
   "metadata": {},
   "outputs": [],
   "source": [
    "forest_reg = RandomForestRegressor(random_state=42,\n",
    "                                   max_depth = 2,\n",
    "                                   max_features = 2,\n",
    "                                   max_leaf_nodes = 4,\n",
    "                                   min_samples_leaf = 2,\n",
    "                                   min_samples_split = 2,\n",
    "                                   n_estimators = 150)"
   ]
  },
  {
   "cell_type": "code",
   "execution_count": 42,
   "metadata": {},
   "outputs": [],
   "source": [
    "import pandas as pd\n",
    "import numpy as np\n",
    "data = pd.read_csv(\"../RF_datasets/stateData.csv\")"
   ]
  },
  {
   "cell_type": "code",
   "execution_count": 43,
   "metadata": {},
   "outputs": [
    {
     "data": {
      "text/html": [
       "<div>\n",
       "<style scoped>\n",
       "    .dataframe tbody tr th:only-of-type {\n",
       "        vertical-align: middle;\n",
       "    }\n",
       "\n",
       "    .dataframe tbody tr th {\n",
       "        vertical-align: top;\n",
       "    }\n",
       "\n",
       "    .dataframe thead th {\n",
       "        text-align: right;\n",
       "    }\n",
       "</style>\n",
       "<table border=\"1\" class=\"dataframe\">\n",
       "  <thead>\n",
       "    <tr style=\"text-align: right;\">\n",
       "      <th></th>\n",
       "      <th>Unnamed: 0</th>\n",
       "      <th>pop</th>\n",
       "      <th>deaths</th>\n",
       "      <th>edu</th>\n",
       "      <th>employ</th>\n",
       "      <th>MME</th>\n",
       "      <th>strat</th>\n",
       "      <th>income</th>\n",
       "      <th>religion</th>\n",
       "      <th>HIV</th>\n",
       "      <th>depression</th>\n",
       "    </tr>\n",
       "  </thead>\n",
       "  <tbody>\n",
       "    <tr>\n",
       "      <th>AL</th>\n",
       "      <td>AL</td>\n",
       "      <td>4863300.0</td>\n",
       "      <td>7.5</td>\n",
       "      <td>24.5</td>\n",
       "      <td>5.8</td>\n",
       "      <td>1037.824230</td>\n",
       "      <td>5</td>\n",
       "      <td>46257</td>\n",
       "      <td>0.77</td>\n",
       "      <td>13.5</td>\n",
       "      <td>5</td>\n",
       "    </tr>\n",
       "    <tr>\n",
       "      <th>AK</th>\n",
       "      <td>AK</td>\n",
       "      <td>741894.0</td>\n",
       "      <td>12.5</td>\n",
       "      <td>29.0</td>\n",
       "      <td>6.9</td>\n",
       "      <td>757.650696</td>\n",
       "      <td>4</td>\n",
       "      <td>76440</td>\n",
       "      <td>0.45</td>\n",
       "      <td>3.9</td>\n",
       "      <td>3</td>\n",
       "    </tr>\n",
       "    <tr>\n",
       "      <th>AZ</th>\n",
       "      <td>AZ</td>\n",
       "      <td>6931071.0</td>\n",
       "      <td>11.4</td>\n",
       "      <td>28.4</td>\n",
       "      <td>5.4</td>\n",
       "      <td>849.237172</td>\n",
       "      <td>4</td>\n",
       "      <td>53558</td>\n",
       "      <td>0.53</td>\n",
       "      <td>10.9</td>\n",
       "      <td>3</td>\n",
       "    </tr>\n",
       "    <tr>\n",
       "      <th>AR</th>\n",
       "      <td>AR</td>\n",
       "      <td>2988248.0</td>\n",
       "      <td>5.9</td>\n",
       "      <td>22.0</td>\n",
       "      <td>4.0</td>\n",
       "      <td>922.833575</td>\n",
       "      <td>5</td>\n",
       "      <td>44334</td>\n",
       "      <td>0.70</td>\n",
       "      <td>9.7</td>\n",
       "      <td>5</td>\n",
       "    </tr>\n",
       "    <tr>\n",
       "      <th>CA</th>\n",
       "      <td>CA</td>\n",
       "      <td>39250017.0</td>\n",
       "      <td>4.9</td>\n",
       "      <td>32.6</td>\n",
       "      <td>5.5</td>\n",
       "      <td>462.578769</td>\n",
       "      <td>1</td>\n",
       "      <td>67739</td>\n",
       "      <td>0.49</td>\n",
       "      <td>11.4</td>\n",
       "      <td>4</td>\n",
       "    </tr>\n",
       "  </tbody>\n",
       "</table>\n",
       "</div>"
      ],
      "text/plain": [
       "   Unnamed: 0         pop  deaths   edu  employ          MME  strat  income  \\\n",
       "AL         AL   4863300.0     7.5  24.5     5.8  1037.824230      5   46257   \n",
       "AK         AK    741894.0    12.5  29.0     6.9   757.650696      4   76440   \n",
       "AZ         AZ   6931071.0    11.4  28.4     5.4   849.237172      4   53558   \n",
       "AR         AR   2988248.0     5.9  22.0     4.0   922.833575      5   44334   \n",
       "CA         CA  39250017.0     4.9  32.6     5.5   462.578769      1   67739   \n",
       "\n",
       "    religion   HIV  depression  \n",
       "AL      0.77  13.5           5  \n",
       "AK      0.45   3.9           3  \n",
       "AZ      0.53  10.9           3  \n",
       "AR      0.70   9.7           5  \n",
       "CA      0.49  11.4           4  "
      ]
     },
     "execution_count": 43,
     "metadata": {},
     "output_type": "execute_result"
    }
   ],
   "source": [
    "data.index = ['AL', 'AK', 'AZ', 'AR', 'CA', 'CO', 'CT', 'DE', 'FL', 'GA', 'HI', 'ID', 'IL', 'IN', 'IA', 'KS', 'KY', 'LA', 'ME', 'MD', 'MA', 'MI', 'MN', 'MS', 'MO', 'MT', 'NE', 'NV', 'NH', 'NJ', 'NM', 'NY', 'NC', 'ND', 'OH', 'OK', 'OR', 'PA', 'RI', 'SC', 'SD', 'TN', 'TX', 'UT', 'VT', 'VA', 'WA', 'WV', 'WI', 'WY']\n",
    "data.head()"
   ]
  },
  {
   "cell_type": "code",
   "execution_count": 44,
   "metadata": {},
   "outputs": [],
   "source": [
    "y_train = data.iloc[:, 2]"
   ]
  },
  {
   "cell_type": "code",
   "execution_count": 45,
   "metadata": {},
   "outputs": [],
   "source": [
    "x_train = data.iloc[:, 3:]\n",
    "x_train = x_train.drop(['strat'], axis=1)"
   ]
  },
  {
   "cell_type": "code",
   "execution_count": 46,
   "metadata": {},
   "outputs": [
    {
     "data": {
      "text/plain": [
       "RandomForestRegressor(bootstrap=True, criterion='mse', max_depth=2,\n",
       "                      max_features=2, max_leaf_nodes=4,\n",
       "                      min_impurity_decrease=0.0, min_impurity_split=None,\n",
       "                      min_samples_leaf=2, min_samples_split=2,\n",
       "                      min_weight_fraction_leaf=0.0, n_estimators=150,\n",
       "                      n_jobs=None, oob_score=False, random_state=42, verbose=0,\n",
       "                      warm_start=False)"
      ]
     },
     "execution_count": 46,
     "metadata": {},
     "output_type": "execute_result"
    }
   ],
   "source": [
    "forest_reg.fit(x_train, y_train)"
   ]
  },
  {
   "cell_type": "code",
   "execution_count": 53,
   "metadata": {},
   "outputs": [],
   "source": [
    "y_test = forest_reg.predict(x_train)"
   ]
  },
  {
   "cell_type": "code",
   "execution_count": 65,
   "metadata": {},
   "outputs": [],
   "source": [
    "D = {'' : ['AL', 'AK', 'AZ', 'AR', 'CA', 'CO', 'CT', 'DE', 'FL', 'GA', 'HI', 'ID', 'IL', 'IN', 'IA', 'KS', 'KY', 'LA', 'ME', 'MD', 'MA', 'MI', 'MN', 'MS', 'MO', 'MT', 'NE', 'NV', 'NH', 'NJ', 'NM', 'NY', 'NC', 'ND', 'OH', 'OK', 'OR', 'PA', 'RI', 'SC', 'SD', 'TN', 'TX', 'UT', 'VT', 'VA', 'WA', 'WV', 'WI', 'WY']}\n",
    "predict = pd.DataFrame(data =D)"
   ]
  },
  {
   "cell_type": "code",
   "execution_count": 66,
   "metadata": {},
   "outputs": [
    {
     "name": "stderr",
     "output_type": "stream",
     "text": [
      "/Users/samsonweiner/opt/anaconda3/lib/python3.7/site-packages/ipykernel_launcher.py:2: FutureWarning: set_value is deprecated and will be removed in a future release. Please use .at[] or .iat[] accessors instead\n",
      "  \n",
      "/Users/samsonweiner/opt/anaconda3/lib/python3.7/site-packages/ipykernel_launcher.py:3: FutureWarning: set_value is deprecated and will be removed in a future release. Please use .at[] or .iat[] accessors instead\n",
      "  This is separate from the ipykernel package so we can avoid doing imports until\n"
     ]
    }
   ],
   "source": [
    "for i in range(50):\n",
    "    predict.set_value(i, \"predict_deaths\", y_test[i])\n",
    "    predict.set_value(i, \"real_deaths\", y_train[i])"
   ]
  },
  {
   "cell_type": "code",
   "execution_count": 68,
   "metadata": {},
   "outputs": [],
   "source": [
    "f = open('../STATE_FINAL/2016_output.csv', 'w+')\n",
    "predict.to_csv('../STATE_FINAL/2016_output.csv')"
   ]
  },
  {
   "cell_type": "code",
   "execution_count": 69,
   "metadata": {},
   "outputs": [],
   "source": [
    "from sklearn import metrics"
   ]
  },
  {
   "cell_type": "code",
   "execution_count": 71,
   "metadata": {},
   "outputs": [
    {
     "name": "stdout",
     "output_type": "stream",
     "text": [
      "Mean Absolute Error: 5.471283769725783\n",
      "Mean Squared Error: 49.796424463645444\n",
      "Root Mean Squared Error: 7.056658165424016\n"
     ]
    }
   ],
   "source": [
    "print('Mean Absolute Error:', metrics.mean_absolute_error(y_train, y_test))\n",
    "print('Mean Squared Error:', metrics.mean_squared_error(y_train, y_test))\n",
    "print('Root Mean Squared Error:', np.sqrt(metrics.mean_squared_error(y_train, y_test)))"
   ]
  },
  {
   "cell_type": "code",
   "execution_count": 72,
   "metadata": {},
   "outputs": [],
   "source": [
    "import pickle"
   ]
  },
  {
   "cell_type": "code",
   "execution_count": 73,
   "metadata": {},
   "outputs": [],
   "source": [
    "model_pkl = open(\"../STATE_FINAL/full_data_model.pkl\", \"wb\")"
   ]
  },
  {
   "cell_type": "code",
   "execution_count": 74,
   "metadata": {},
   "outputs": [],
   "source": [
    "pickle.dump(forest_reg, model_pkl)"
   ]
  },
  {
   "cell_type": "code",
   "execution_count": 75,
   "metadata": {},
   "outputs": [],
   "source": [
    "model_pkl.close()"
   ]
  },
  {
   "cell_type": "code",
   "execution_count": null,
   "metadata": {},
   "outputs": [],
   "source": []
  }
 ],
 "metadata": {
  "kernelspec": {
   "display_name": "Python 3",
   "language": "python",
   "name": "python3"
  },
  "language_info": {
   "codemirror_mode": {
    "name": "ipython",
    "version": 3
   },
   "file_extension": ".py",
   "mimetype": "text/x-python",
   "name": "python",
   "nbconvert_exporter": "python",
   "pygments_lexer": "ipython3",
   "version": "3.7.4"
  }
 },
 "nbformat": 4,
 "nbformat_minor": 2
}
