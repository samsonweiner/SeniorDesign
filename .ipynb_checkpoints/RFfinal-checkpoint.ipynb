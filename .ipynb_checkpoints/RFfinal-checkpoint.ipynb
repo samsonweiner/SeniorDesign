{
 "cells": [
  {
   "cell_type": "code",
   "execution_count": 1,
   "metadata": {},
   "outputs": [],
   "source": [
    "import pandas as pd\n",
    "import numpy as np"
   ]
  },
  {
   "cell_type": "code",
   "execution_count": 2,
   "metadata": {},
   "outputs": [],
   "source": [
    "trainData = pd.read_csv(\"RF_datasets/train_data.csv\")"
   ]
  },
  {
   "cell_type": "code",
   "execution_count": 3,
   "metadata": {},
   "outputs": [],
   "source": [
    "testData = pd.read_csv('RF_datasets/CA_data.csv')"
   ]
  },
  {
   "cell_type": "code",
   "execution_count": 4,
   "metadata": {},
   "outputs": [
    {
     "data": {
      "text/html": [
       "<div>\n",
       "<style scoped>\n",
       "    .dataframe tbody tr th:only-of-type {\n",
       "        vertical-align: middle;\n",
       "    }\n",
       "\n",
       "    .dataframe tbody tr th {\n",
       "        vertical-align: top;\n",
       "    }\n",
       "\n",
       "    .dataframe thead th {\n",
       "        text-align: right;\n",
       "    }\n",
       "</style>\n",
       "<table border=\"1\" class=\"dataframe\">\n",
       "  <thead>\n",
       "    <tr style=\"text-align: right;\">\n",
       "      <th></th>\n",
       "      <th>Unnamed: 0</th>\n",
       "      <th>0</th>\n",
       "      <th>1</th>\n",
       "      <th>2</th>\n",
       "      <th>3</th>\n",
       "      <th>4</th>\n",
       "    </tr>\n",
       "  </thead>\n",
       "  <tbody>\n",
       "    <tr>\n",
       "      <th>0</th>\n",
       "      <td>Autauga County, AL</td>\n",
       "      <td>4.143150</td>\n",
       "      <td>1001.0</td>\n",
       "      <td>5.1</td>\n",
       "      <td>1084.0</td>\n",
       "      <td>25.0</td>\n",
       "    </tr>\n",
       "    <tr>\n",
       "      <th>1</th>\n",
       "      <td>Baldwin County, AL</td>\n",
       "      <td>15.578400</td>\n",
       "      <td>1003.0</td>\n",
       "      <td>5.3</td>\n",
       "      <td>1148.5</td>\n",
       "      <td>30.7</td>\n",
       "    </tr>\n",
       "    <tr>\n",
       "      <th>2</th>\n",
       "      <td>Barbour County, AL</td>\n",
       "      <td>1.936425</td>\n",
       "      <td>1005.0</td>\n",
       "      <td>8.3</td>\n",
       "      <td>577.6</td>\n",
       "      <td>12.0</td>\n",
       "    </tr>\n",
       "    <tr>\n",
       "      <th>3</th>\n",
       "      <td>Bibb County, AL</td>\n",
       "      <td>1.693200</td>\n",
       "      <td>1007.0</td>\n",
       "      <td>6.4</td>\n",
       "      <td>563.0</td>\n",
       "      <td>13.2</td>\n",
       "    </tr>\n",
       "    <tr>\n",
       "      <th>4</th>\n",
       "      <td>Blount County, AL</td>\n",
       "      <td>4.313775</td>\n",
       "      <td>1009.0</td>\n",
       "      <td>5.4</td>\n",
       "      <td>459.0</td>\n",
       "      <td>13.1</td>\n",
       "    </tr>\n",
       "  </tbody>\n",
       "</table>\n",
       "</div>"
      ],
      "text/plain": [
       "           Unnamed: 0          0       1    2       3     4\n",
       "0  Autauga County, AL   4.143150  1001.0  5.1  1084.0  25.0\n",
       "1  Baldwin County, AL  15.578400  1003.0  5.3  1148.5  30.7\n",
       "2  Barbour County, AL   1.936425  1005.0  8.3   577.6  12.0\n",
       "3     Bibb County, AL   1.693200  1007.0  6.4   563.0  13.2\n",
       "4   Blount County, AL   4.313775  1009.0  5.4   459.0  13.1"
      ]
     },
     "execution_count": 4,
     "metadata": {},
     "output_type": "execute_result"
    }
   ],
   "source": [
    "trainData.head()"
   ]
  },
  {
   "cell_type": "code",
   "execution_count": 5,
   "metadata": {},
   "outputs": [
    {
     "data": {
      "text/html": [
       "<div>\n",
       "<style scoped>\n",
       "    .dataframe tbody tr th:only-of-type {\n",
       "        vertical-align: middle;\n",
       "    }\n",
       "\n",
       "    .dataframe tbody tr th {\n",
       "        vertical-align: top;\n",
       "    }\n",
       "\n",
       "    .dataframe thead th {\n",
       "        text-align: right;\n",
       "    }\n",
       "</style>\n",
       "<table border=\"1\" class=\"dataframe\">\n",
       "  <thead>\n",
       "    <tr style=\"text-align: right;\">\n",
       "      <th></th>\n",
       "      <th>Unnamed: 0</th>\n",
       "      <th>0</th>\n",
       "      <th>1</th>\n",
       "      <th>2</th>\n",
       "      <th>3</th>\n",
       "      <th>4</th>\n",
       "    </tr>\n",
       "  </thead>\n",
       "  <tbody>\n",
       "    <tr>\n",
       "      <th>0</th>\n",
       "      <td>Alameda County, CA</td>\n",
       "      <td>80.864994</td>\n",
       "      <td>6001.0</td>\n",
       "      <td>4.3</td>\n",
       "      <td>320.4</td>\n",
       "      <td>44.7</td>\n",
       "    </tr>\n",
       "    <tr>\n",
       "      <th>1</th>\n",
       "      <td>Amador County, CA</td>\n",
       "      <td>1.834462</td>\n",
       "      <td>6005.0</td>\n",
       "      <td>5.9</td>\n",
       "      <td>1514.8</td>\n",
       "      <td>22.1</td>\n",
       "    </tr>\n",
       "    <tr>\n",
       "      <th>2</th>\n",
       "      <td>Butte County, CA</td>\n",
       "      <td>11.099921</td>\n",
       "      <td>6007.0</td>\n",
       "      <td>6.6</td>\n",
       "      <td>1880.6</td>\n",
       "      <td>26.6</td>\n",
       "    </tr>\n",
       "    <tr>\n",
       "      <th>3</th>\n",
       "      <td>Calaveras County, CA</td>\n",
       "      <td>2.219847</td>\n",
       "      <td>6009.0</td>\n",
       "      <td>5.7</td>\n",
       "      <td>1476.4</td>\n",
       "      <td>19.3</td>\n",
       "    </tr>\n",
       "    <tr>\n",
       "      <th>4</th>\n",
       "      <td>Colusa County, CA</td>\n",
       "      <td>1.056097</td>\n",
       "      <td>6011.0</td>\n",
       "      <td>15.5</td>\n",
       "      <td>430.4</td>\n",
       "      <td>15.7</td>\n",
       "    </tr>\n",
       "  </tbody>\n",
       "</table>\n",
       "</div>"
      ],
      "text/plain": [
       "             Unnamed: 0          0       1     2       3     4\n",
       "0    Alameda County, CA  80.864994  6001.0   4.3   320.4  44.7\n",
       "1     Amador County, CA   1.834462  6005.0   5.9  1514.8  22.1\n",
       "2      Butte County, CA  11.099921  6007.0   6.6  1880.6  26.6\n",
       "3  Calaveras County, CA   2.219847  6009.0   5.7  1476.4  19.3\n",
       "4     Colusa County, CA   1.056097  6011.0  15.5   430.4  15.7"
      ]
     },
     "execution_count": 5,
     "metadata": {},
     "output_type": "execute_result"
    }
   ],
   "source": [
    "testData.head()"
   ]
  },
  {
   "cell_type": "code",
   "execution_count": 6,
   "metadata": {},
   "outputs": [],
   "source": [
    "X_train = trainData.iloc[:, 3:].values\n",
    "y_train = trainData.iloc[:, 1].values"
   ]
  },
  {
   "cell_type": "code",
   "execution_count": 7,
   "metadata": {},
   "outputs": [],
   "source": [
    "X_test = testData.iloc[:, 3:].values\n",
    "y_test = testData.iloc[:, 1].values"
   ]
  },
  {
   "cell_type": "code",
   "execution_count": 8,
   "metadata": {},
   "outputs": [],
   "source": [
    "from sklearn.preprocessing import StandardScaler\n",
    "\n",
    "sc = StandardScaler()\n",
    "X_train = sc.fit_transform(X_train)\n",
    "X_test = sc.transform(X_test)"
   ]
  },
  {
   "cell_type": "code",
   "execution_count": 24,
   "metadata": {},
   "outputs": [],
   "source": [
    "from sklearn.ensemble import RandomForestRegressor\n",
    "\n",
    "regressor = RandomForestRegressor(n_estimators=20, random_state=0)\n",
    "regressor.fit(X_train, y_train)\n",
    "y_pred = regressor.predict(X_test)"
   ]
  },
  {
   "cell_type": "code",
   "execution_count": 25,
   "metadata": {},
   "outputs": [
    {
     "name": "stdout",
     "output_type": "stream",
     "text": [
      "Mean Absolute Error: 31.926421890625\n",
      "Mean Squared Error: 4401.327567674659\n",
      "Root Mean Squared Error: 66.34250197026533\n"
     ]
    }
   ],
   "source": [
    "from sklearn import metrics\n",
    "\n",
    "print('Mean Absolute Error:', metrics.mean_absolute_error(y_test, y_pred))\n",
    "print('Mean Squared Error:', metrics.mean_squared_error(y_test, y_pred))\n",
    "print('Root Mean Squared Error:', np.sqrt(metrics.mean_squared_error(y_test, y_pred)))"
   ]
  },
  {
   "cell_type": "code",
   "execution_count": 30,
   "metadata": {},
   "outputs": [
    {
     "name": "stdout",
     "output_type": "stream",
     "text": [
      "Alameda County, CA 80.864994 80.864994 48.7973735\n",
      "Amador County, CA 1.834462 1.8344619999999998 7.623919699999997\n",
      "Butte County, CA 11.099921 11.099921 9.93737575\n",
      "Calaveras County, CA 2.219847 2.219847 7.1810022\n",
      "Colusa County, CA 1.056097 1.0560969999999998 1.3563490250000003\n",
      "Contra Costa County, CA 55.722506 55.722506 28.765656000000007\n",
      "Del Norte County, CA 1.343678 1.3436780000000002 7.557512949999999\n",
      "El Dorado County, CA 9.118018 9.118018 54.2311962\n",
      "Fresno County, CA 47.919844 47.919844 1.8027088\n",
      "Glenn County, CA 1.364699 1.3646989999999999 5.5119830499999996\n",
      "Humboldt County, CA 6.679386 6.679386 12.2539793\n",
      "Imperial County, CA 8.833132 8.833132 11.777828649999998\n",
      "Inyo County, CA 0.881804 0.881804 23.465211550000006\n",
      "Kern County, CA 43.235689 43.235689 4.447965700000001\n",
      "Kings County, CA 7.325941 7.325941 6.333002800000001\n",
      "Lake County, CA 3.130316 3.130316 2.4785959000000006\n",
      "Lassen County, CA 1.514394 1.514394 2.585930199999999\n",
      "Los Angeles County, CA 495.90646 495.90646 101.66757100000004\n",
      "Madera County, CA 7.55384 7.553839999999999 5.534746849999999\n",
      "Marin County, CA 12.771017 12.771017 30.69953645\n",
      "Mariposa County, CA 0.855295 0.855295 26.207398950000005\n",
      "Mendocino County, CA 4.281718 4.281718 20.3701558\n",
      "Merced County, CA 13.130579 13.130579000000001 5.469576249999999\n",
      "Modoc County, CA 0.437815 0.43781499999999995 13.767839749999997\n",
      "Mono County, CA 0.695898 0.6958979999999999 178.01152044999998\n",
      "Monterey County, CA 21.303583 21.303583 48.1809361\n",
      "Napa County, CA 6.918065 6.9180649999999995 47.54653445\n",
      "Orange County, CA 155.364643 155.364643 138.3834085\n",
      "Placer County, CA 18.585112 18.585112 80.73408810000001\n",
      "Plumas County, CA 0.919828 0.9198280000000001 8.341374300000002\n",
      "Riverside County, CA 116.74593 116.74593 10.7892095\n",
      "Sacramento County, CA 74.06399 74.06399 16.26385315\n",
      "San Benito County, CA 2.902515 2.902515 8.1391003\n",
      "San Bernardino County, CA 104.574526 104.574526 8.4059248\n",
      "San Diego County, CA 162.20372 162.20372 84.17216749999997\n",
      "San Francisco County, CA 42.766955 42.766954999999996 26.963831449999997\n",
      "San Joaquin County, CA 35.877065 35.877065 5.943697599999999\n",
      "San Luis Obispo County, CA 13.815942 13.815942000000001 48.107409549999986\n",
      "San Mateo County, CA 37.641996 37.641996 25.658070950000006\n",
      "Santa Barbara County, CA 21.789075 21.789075 29.66729135\n",
      "Santa Clara County, CA 94.549469 94.54946899999999 76.35727455000001\n",
      "Santa Cruz County, CA 13.460398 13.460398000000001 31.285049450000002\n",
      "Shasta County, CA 8.750469 8.750469 9.457651249999998\n",
      "Sierra County, CA 0.144893 0.144893 5.6034042\n",
      "Siskiyou County, CA 2.130471 2.130471 73.96443115\n",
      "Solano County, CA 21.5257 21.5257 8.96718635\n",
      "Sonoma County, CA 24.659201 24.659201 50.061748800000004\n",
      "Stanislaus County, CA 26.437558 26.437558000000003 6.490100150000001\n",
      "Sutter County, CA 4.699002 4.699002 4.747089100000001\n",
      "Tehama County, CA 3.104248 3.104248 4.893437199999999\n",
      "Trinity County, CA 0.62867 0.62867 32.0408459\n",
      "Tulare County, CA 22.541127 22.541127 5.5121882499999995\n",
      "Tuolumne County, CA 2.631496 2.631496 8.245766\n",
      "Ventura County, CA 41.597129 41.597128999999995 30.9382034\n",
      "Yolo County, CA 10.56097 10.56097 61.02772069999999\n",
      "Yuba County, CA 3.675098 3.675098 6.100470450000001\n"
     ]
    }
   ],
   "source": [
    "import csv\n",
    "\n",
    "finalDict = {}\n",
    "with open('RF_datasets/CA_data.csv') as CA_file:\n",
    "    CA_data = csv.reader(CA_file, delimiter=\",\")\n",
    "    i = 0\n",
    "    for row in CA_data:\n",
    "        if i > 0:\n",
    "            print(row[0], row[2], y_test[i - 1], y_pred[i - 1])\n",
    "        i += 1"
   ]
  },
  {
   "cell_type": "code",
   "execution_count": 32,
   "metadata": {},
   "outputs": [
    {
     "name": "stdout",
     "output_type": "stream",
     "text": [
      "80.864994 48.7973735\n",
      "1.8344619999999998 7.623919699999997\n",
      "11.099921 9.93737575\n",
      "2.219847 7.1810022\n",
      "1.0560969999999998 1.3563490250000003\n",
      "55.722506 28.765656000000007\n",
      "1.3436780000000002 7.557512949999999\n",
      "9.118018 54.2311962\n",
      "47.919844 1.8027088\n",
      "1.3646989999999999 5.5119830499999996\n",
      "6.679386 12.2539793\n",
      "8.833132 11.777828649999998\n",
      "0.881804 23.465211550000006\n",
      "43.235689 4.447965700000001\n",
      "7.325941 6.333002800000001\n",
      "3.130316 2.4785959000000006\n",
      "1.514394 2.585930199999999\n",
      "495.90646 101.66757100000004\n",
      "7.553839999999999 5.534746849999999\n",
      "12.771017 30.69953645\n",
      "0.855295 26.207398950000005\n",
      "4.281718 20.3701558\n",
      "13.130579000000001 5.469576249999999\n",
      "0.43781499999999995 13.767839749999997\n",
      "0.6958979999999999 178.01152044999998\n",
      "21.303583 48.1809361\n",
      "6.9180649999999995 47.54653445\n",
      "155.364643 138.3834085\n",
      "18.585112 80.73408810000001\n",
      "0.9198280000000001 8.341374300000002\n",
      "116.74593 10.7892095\n",
      "74.06399 16.26385315\n",
      "2.902515 8.1391003\n",
      "104.574526 8.4059248\n",
      "162.20372 84.17216749999997\n",
      "42.766954999999996 26.963831449999997\n",
      "35.877065 5.943697599999999\n",
      "13.815942000000001 48.107409549999986\n",
      "37.641996 25.658070950000006\n",
      "21.789075 29.66729135\n",
      "94.54946899999999 76.35727455000001\n",
      "13.460398000000001 31.285049450000002\n",
      "8.750469 9.457651249999998\n",
      "0.144893 5.6034042\n",
      "2.130471 73.96443115\n",
      "21.5257 8.96718635\n",
      "24.659201 50.061748800000004\n",
      "26.437558000000003 6.490100150000001\n",
      "4.699002 4.747089100000001\n",
      "3.104248 4.893437199999999\n",
      "0.62867 32.0408459\n",
      "22.541127 5.5121882499999995\n",
      "2.631496 8.245766\n",
      "41.597128999999995 30.9382034\n",
      "10.56097 61.02772069999999\n",
      "3.675098 6.100470450000001\n"
     ]
    }
   ],
   "source": [
    "for x in range(len(y_pred)):\n",
    "    print(y_test[x], y_pred[x])"
   ]
  },
  {
   "cell_type": "code",
   "execution_count": null,
   "metadata": {},
   "outputs": [],
   "source": []
  }
 ],
 "metadata": {
  "kernelspec": {
   "display_name": "Python 3",
   "language": "python",
   "name": "python3"
  },
  "language_info": {
   "codemirror_mode": {
    "name": "ipython",
    "version": 3
   },
   "file_extension": ".py",
   "mimetype": "text/x-python",
   "name": "python",
   "nbconvert_exporter": "python",
   "pygments_lexer": "ipython3",
   "version": "3.7.4"
  }
 },
 "nbformat": 4,
 "nbformat_minor": 2
}
