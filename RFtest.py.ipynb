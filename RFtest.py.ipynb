{
 "cells": [
  {
   "cell_type": "code",
   "execution_count": 1,
   "metadata": {},
   "outputs": [],
   "source": [
    "import pandas as pd\n",
    "import numpy as np"
   ]
  },
  {
   "cell_type": "code",
   "execution_count": 2,
   "metadata": {},
   "outputs": [],
   "source": [
    "dataset = pd.read_csv('petrol_consumption.csv')"
   ]
  },
  {
   "cell_type": "code",
   "execution_count": 4,
   "metadata": {
    "scrolled": true
   },
   "outputs": [
    {
     "data": {
      "text/html": [
       "<div>\n",
       "<style scoped>\n",
       "    .dataframe tbody tr th:only-of-type {\n",
       "        vertical-align: middle;\n",
       "    }\n",
       "\n",
       "    .dataframe tbody tr th {\n",
       "        vertical-align: top;\n",
       "    }\n",
       "\n",
       "    .dataframe thead th {\n",
       "        text-align: right;\n",
       "    }\n",
       "</style>\n",
       "<table border=\"1\" class=\"dataframe\">\n",
       "  <thead>\n",
       "    <tr style=\"text-align: right;\">\n",
       "      <th></th>\n",
       "      <th>Petrol_tax</th>\n",
       "      <th>Average_income</th>\n",
       "      <th>Paved_Highways</th>\n",
       "      <th>Population_Driver_licence(%)</th>\n",
       "      <th>Petrol_Consumption</th>\n",
       "    </tr>\n",
       "  </thead>\n",
       "  <tbody>\n",
       "    <tr>\n",
       "      <th>0</th>\n",
       "      <td>9.0</td>\n",
       "      <td>3571</td>\n",
       "      <td>1976</td>\n",
       "      <td>0.525</td>\n",
       "      <td>541</td>\n",
       "    </tr>\n",
       "    <tr>\n",
       "      <th>1</th>\n",
       "      <td>9.0</td>\n",
       "      <td>4092</td>\n",
       "      <td>1250</td>\n",
       "      <td>0.572</td>\n",
       "      <td>524</td>\n",
       "    </tr>\n",
       "    <tr>\n",
       "      <th>2</th>\n",
       "      <td>9.0</td>\n",
       "      <td>3865</td>\n",
       "      <td>1586</td>\n",
       "      <td>0.580</td>\n",
       "      <td>561</td>\n",
       "    </tr>\n",
       "    <tr>\n",
       "      <th>3</th>\n",
       "      <td>7.5</td>\n",
       "      <td>4870</td>\n",
       "      <td>2351</td>\n",
       "      <td>0.529</td>\n",
       "      <td>414</td>\n",
       "    </tr>\n",
       "    <tr>\n",
       "      <th>4</th>\n",
       "      <td>8.0</td>\n",
       "      <td>4399</td>\n",
       "      <td>431</td>\n",
       "      <td>0.544</td>\n",
       "      <td>410</td>\n",
       "    </tr>\n",
       "  </tbody>\n",
       "</table>\n",
       "</div>"
      ],
      "text/plain": [
       "   Petrol_tax  Average_income  Paved_Highways  Population_Driver_licence(%)  \\\n",
       "0         9.0            3571            1976                         0.525   \n",
       "1         9.0            4092            1250                         0.572   \n",
       "2         9.0            3865            1586                         0.580   \n",
       "3         7.5            4870            2351                         0.529   \n",
       "4         8.0            4399             431                         0.544   \n",
       "\n",
       "   Petrol_Consumption  \n",
       "0                 541  \n",
       "1                 524  \n",
       "2                 561  \n",
       "3                 414  \n",
       "4                 410  "
      ]
     },
     "execution_count": 4,
     "metadata": {},
     "output_type": "execute_result"
    }
   ],
   "source": [
    "dataset.head()"
   ]
  },
  {
   "cell_type": "code",
   "execution_count": 19,
   "metadata": {},
   "outputs": [
    {
     "name": "stdout",
     "output_type": "stream",
     "text": [
      "[ 9.    9.    9.    7.5   8.   10.    8.    8.    8.    7.    8.    7.5\n",
      "  7.    7.    7.    7.    7.    7.    7.    8.5   7.    8.    9.    9.\n",
      "  8.5   9.    8.    7.5   8.    9.    7.    7.    8.    7.5   8.    6.58\n",
      "  5.    7.    8.5   7.    7.    7.    7.    7.    6.    9.    7.    7.  ]\n"
     ]
    }
   ],
   "source": [
    "X = dataset.iloc[:, 1:4].values\n",
    "y = dataset.iloc[:, 4].values\n",
    "z = dataset.iloc[:, 0].values\n",
    "print(z)"
   ]
  },
  {
   "cell_type": "code",
   "execution_count": 17,
   "metadata": {
    "scrolled": true
   },
   "outputs": [
    {
     "name": "stdout",
     "output_type": "stream",
     "text": [
      "[[3.5710e+03 1.9760e+03 5.2500e-01]\n",
      " [4.0920e+03 1.2500e+03 5.7200e-01]\n",
      " [3.8650e+03 1.5860e+03 5.8000e-01]\n",
      " [4.8700e+03 2.3510e+03 5.2900e-01]\n",
      " [4.3990e+03 4.3100e+02 5.4400e-01]\n",
      " [5.3420e+03 1.3330e+03 5.7100e-01]\n",
      " [5.3190e+03 1.1868e+04 4.5100e-01]\n",
      " [5.1260e+03 2.1380e+03 5.5300e-01]\n",
      " [4.4470e+03 8.5770e+03 5.2900e-01]\n",
      " [4.5120e+03 8.5070e+03 5.5200e-01]\n",
      " [4.3910e+03 5.9390e+03 5.3000e-01]\n",
      " [5.1260e+03 1.4186e+04 5.2500e-01]\n",
      " [4.8170e+03 6.9300e+03 5.7400e-01]\n",
      " [4.2070e+03 6.5800e+03 5.4500e-01]\n",
      " [4.3320e+03 8.1590e+03 6.0800e-01]\n",
      " [4.3180e+03 1.0340e+04 5.8600e-01]\n",
      " [4.2060e+03 8.5080e+03 5.7200e-01]\n",
      " [3.7180e+03 4.7250e+03 5.4000e-01]\n",
      " [4.7160e+03 5.9150e+03 7.2400e-01]\n",
      " [4.3410e+03 6.0100e+03 6.7700e-01]\n",
      " [4.5930e+03 7.8340e+03 6.6300e-01]\n",
      " [4.9830e+03 6.0200e+02 6.0200e-01]\n",
      " [4.8970e+03 2.4490e+03 5.1100e-01]\n",
      " [4.2580e+03 4.6860e+03 5.1700e-01]\n",
      " [4.5740e+03 2.6190e+03 5.5100e-01]\n",
      " [3.7210e+03 4.7460e+03 5.4400e-01]\n",
      " [3.4480e+03 5.3990e+03 5.4800e-01]\n",
      " [3.8460e+03 9.0610e+03 5.7900e-01]\n",
      " [4.1880e+03 5.9750e+03 5.6300e-01]\n",
      " [3.6010e+03 4.6500e+03 4.9300e-01]\n",
      " [3.6400e+03 6.9050e+03 5.1800e-01]\n",
      " [3.3330e+03 6.5940e+03 5.1300e-01]\n",
      " [3.0630e+03 6.5240e+03 5.7800e-01]\n",
      " [3.3570e+03 4.1210e+03 5.4700e-01]\n",
      " [3.5280e+03 3.4950e+03 4.8700e-01]\n",
      " [3.8020e+03 7.8340e+03 6.2900e-01]\n",
      " [4.0450e+03 1.7782e+04 5.6600e-01]\n",
      " [3.8970e+03 6.3850e+03 5.8600e-01]\n",
      " [3.6350e+03 3.2740e+03 6.6300e-01]\n",
      " [4.3450e+03 3.9050e+03 6.7200e-01]\n",
      " [4.4490e+03 4.6390e+03 6.2600e-01]\n",
      " [3.6560e+03 3.9850e+03 5.6300e-01]\n",
      " [4.3000e+03 3.6350e+03 6.0300e-01]\n",
      " [3.7450e+03 2.6110e+03 5.0800e-01]\n",
      " [5.2150e+03 2.3020e+03 6.7200e-01]\n",
      " [4.4760e+03 3.9420e+03 5.7100e-01]\n",
      " [4.2960e+03 4.0830e+03 6.2300e-01]\n",
      " [5.0020e+03 9.7940e+03 5.9300e-01]]\n"
     ]
    }
   ],
   "source": [
    "print(X)"
   ]
  },
  {
   "cell_type": "code",
   "execution_count": 7,
   "metadata": {},
   "outputs": [],
   "source": [
    "from sklearn.model_selection import train_test_split\n",
    "\n",
    "X_train, X_test, y_train, y_test = train_test_split(X, y, test_size=0.2, random_state=0)"
   ]
  },
  {
   "cell_type": "code",
   "execution_count": 8,
   "metadata": {},
   "outputs": [],
   "source": [
    "from sklearn.preprocessing import StandardScaler\n",
    "\n",
    "sc = StandardScaler()\n",
    "X_train = sc.fit_transform(X_train)\n",
    "X_test = sc.transform(X_test)"
   ]
  },
  {
   "cell_type": "code",
   "execution_count": 9,
   "metadata": {},
   "outputs": [],
   "source": [
    "from sklearn.ensemble import RandomForestRegressor\n",
    "\n",
    "regressor = RandomForestRegressor(n_estimators=20, random_state=0)\n",
    "regressor.fit(X_train, y_train)\n",
    "y_pred = regressor.predict(X_test)"
   ]
  },
  {
   "cell_type": "code",
   "execution_count": 10,
   "metadata": {},
   "outputs": [
    {
     "name": "stdout",
     "output_type": "stream",
     "text": [
      "Mean Absolute Error: 51.76500000000001\n",
      "Mean Squared Error: 4216.166749999999\n",
      "Root Mean Squared Error: 64.93201637097064\n"
     ]
    }
   ],
   "source": [
    "from sklearn import metrics\n",
    "\n",
    "print('Mean Absolute Error:', metrics.mean_absolute_error(y_test, y_pred))\n",
    "print('Mean Squared Error:', metrics.mean_squared_error(y_test, y_pred))\n",
    "print('Root Mean Squared Error:', np.sqrt(metrics.mean_squared_error(y_test, y_pred)))"
   ]
  },
  {
   "cell_type": "code",
   "execution_count": 11,
   "metadata": {},
   "outputs": [
    {
     "name": "stdout",
     "output_type": "stream",
     "text": [
      "[574.1  514.6  604.8  589.75 625.55 592.5  594.9  573.3  468.55 536.8 ]\n"
     ]
    }
   ],
   "source": [
    "print(y_pred)"
   ]
  },
  {
   "cell_type": "code",
   "execution_count": 12,
   "metadata": {},
   "outputs": [
    {
     "name": "stdout",
     "output_type": "stream",
     "text": [
      "[534 410 577 571 577 704 487 587 467 580]\n"
     ]
    }
   ],
   "source": [
    "print(y_test)"
   ]
  },
  {
   "cell_type": "code",
   "execution_count": 13,
   "metadata": {},
   "outputs": [
    {
     "data": {
      "text/plain": [
       "Index(['Petrol_tax', 'Average_income', 'Paved_Highways',\n",
       "       'Population_Driver_licence(%)', 'Petrol_Consumption'],\n",
       "      dtype='object')"
      ]
     },
     "execution_count": 13,
     "metadata": {},
     "output_type": "execute_result"
    }
   ],
   "source": [
    "dataset.columns"
   ]
  },
  {
   "cell_type": "code",
   "execution_count": 14,
   "metadata": {},
   "outputs": [
    {
     "data": {
      "text/plain": [
       "5"
      ]
     },
     "execution_count": 14,
     "metadata": {},
     "output_type": "execute_result"
    }
   ],
   "source": [
    "len(dataset.columns)"
   ]
  },
  {
   "cell_type": "code",
   "execution_count": 15,
   "metadata": {},
   "outputs": [
    {
     "name": "stdout",
     "output_type": "stream",
     "text": [
      "[[-1.32525691e-01  1.50577399e+00  2.25854636e+00 -9.15791057e-01]\n",
      " [-6.28192647e-01 -1.83367022e+00  2.12333843e-01 -1.12852703e+00]\n",
      " [-1.32525691e-01 -1.78897047e+00 -4.54194551e-01 -5.25775100e-01]\n",
      " [-1.32525691e-01 -8.78212954e-01  8.77245103e-01  4.15208375e-02]\n",
      " [-6.28192647e-01  1.27482526e+00  1.07480487e+00  2.89712810e-01]\n",
      " [ 1.35447518e+00 -8.42825648e-01 -1.13743332e+00  5.92488356e-02]\n",
      " [-6.28192647e-01 -4.00925436e-02 -4.64436395e-01  8.21552752e-01]\n",
      " [-6.28192647e-01  7.42153173e-01  2.93282707e-02  2.61208055e+00]\n",
      " [-6.28192647e-01  8.82232011e-04  1.22196399e+00  1.65616824e-01]\n",
      " [ 3.63141265e-01 -2.41241442e-01  4.54996025e-02 -2.42127131e-01]\n",
      " [ 1.35447518e+00  1.07926383e+00 -9.04835665e-01 -1.16398303e+00]\n",
      " [-6.28192647e-01 -2.07716626e-01  7.28199328e-01 -8.25751488e-02]\n",
      " [-6.28192647e-01 -1.23208602e+00 -4.90849570e-01 -2.42127131e-01]\n",
      " [-6.28192647e-01  5.13066928e-01  5.46541367e-01  1.53067267e+00]\n",
      " [-6.28192647e-01 -3.26425844e-02 -5.85182339e-01  4.66992791e-01]\n",
      " [ 3.63141265e-01  2.41143416e-01  7.46796360e-01 -8.44879065e-01]\n",
      " [-6.28192647e-01 -2.05854136e-01  2.08560532e-01 -5.61231096e-01]\n",
      " [ 1.35447518e+00 -1.11102418e+00 -2.85743178e-01 -5.78959094e-01]\n",
      " [ 2.34580909e+00  1.90807179e+00 -1.20562244e+00 -1.00303147e-01]\n",
      " [-6.28192647e-01 -1.11661165e+00 -2.91403144e-01 -6.49871086e-01]\n",
      " [-1.04455289e+00 -9.60162506e-01  5.46541367e-01  9.27920740e-01]\n",
      " [-6.28192647e-01  2.69570892e-02  6.34136081e-01  5.55632781e-01]\n",
      " [ 8.58808221e-01 -1.27119830e+00 -6.82479852e-01  1.53067267e+00]\n",
      " [ 1.35447518e+00 -4.20040463e-01 -1.22799278e+00 -8.25751488e-02]\n",
      " [-6.28192647e-01  9.30264643e-01  3.02893301e-01 -4.71191527e-02]\n",
      " [-6.28192647e-01 -1.06632442e+00 -8.61173069e-01 -1.21716702e+00]\n",
      " [ 8.58808221e-01  4.77679621e-01 -8.59016891e-01 -4.54863108e-01]\n",
      " [ 3.63141265e-01  1.86523452e+00  1.63379391e+00 -2.22766291e+00]\n",
      " [ 1.35447518e+00 -1.10867156e-01 -3.01914510e-01 -1.05761504e+00]\n",
      " [-2.61086047e+00 -5.07577484e-01  3.22774818e+00 -1.88943137e-01]\n",
      " [ 3.63141265e-01  1.23943795e+00 -1.40264316e+00  4.49264793e-01]\n",
      " [ 8.58808221e-01  4.37194975e-02  5.49328794e-02  1.77886465e+00]\n",
      " [-6.28192647e-01  3.62205254e-01  7.27929806e-01 -4.37135110e-01]\n",
      " [-6.28192647e-01  5.11694567e-02 -5.12411346e-01  1.69022466e+00]\n",
      " [ 1.35447518e+00  2.95155621e-01 -5.02439024e-01 -1.00303147e-01]\n",
      " [-1.32525691e-01  1.02897660e+00 -9.31248840e-01 -8.44879065e-01]\n",
      " [ 1.35447518e+00 -1.39039765e+00 -1.03231966e+00 -9.15791057e-01]\n",
      " [-1.61952656e+00  1.67153558e+00 -9.44455428e-01  1.69022466e+00]]\n"
     ]
    }
   ],
   "source": [
    "print(X_train)"
   ]
  },
  {
   "cell_type": "code",
   "execution_count": null,
   "metadata": {},
   "outputs": [],
   "source": []
  }
 ],
 "metadata": {
  "kernelspec": {
   "display_name": "Python 3",
   "language": "python",
   "name": "python3"
  },
  "language_info": {
   "codemirror_mode": {
    "name": "ipython",
    "version": 3
   },
   "file_extension": ".py",
   "mimetype": "text/x-python",
   "name": "python",
   "nbconvert_exporter": "python",
   "pygments_lexer": "ipython3",
   "version": "3.7.4"
  }
 },
 "nbformat": 4,
 "nbformat_minor": 2
}
