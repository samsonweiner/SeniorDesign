{
 "cells": [
  {
   "cell_type": "code",
   "execution_count": 1,
   "metadata": {},
   "outputs": [],
   "source": [
    "import pandas as pd\n",
    "import numpy as np"
   ]
  },
  {
   "cell_type": "code",
   "execution_count": 2,
   "metadata": {},
   "outputs": [],
   "source": [
    "dataset = pd.read_csv('petrol_consumption.csv')"
   ]
  },
  {
   "cell_type": "code",
   "execution_count": 3,
   "metadata": {},
   "outputs": [
    {
     "name": "stdout",
     "output_type": "stream",
     "text": [
      "hello\n"
     ]
    }
   ],
   "source": [
    "print(\"hello\")"
   ]
  },
  {
   "cell_type": "code",
   "execution_count": 4,
   "metadata": {
    "scrolled": true
   },
   "outputs": [
    {
     "data": {
      "text/html": [
       "<div>\n",
       "<style scoped>\n",
       "    .dataframe tbody tr th:only-of-type {\n",
       "        vertical-align: middle;\n",
       "    }\n",
       "\n",
       "    .dataframe tbody tr th {\n",
       "        vertical-align: top;\n",
       "    }\n",
       "\n",
       "    .dataframe thead th {\n",
       "        text-align: right;\n",
       "    }\n",
       "</style>\n",
       "<table border=\"1\" class=\"dataframe\">\n",
       "  <thead>\n",
       "    <tr style=\"text-align: right;\">\n",
       "      <th></th>\n",
       "      <th>Petrol_tax</th>\n",
       "      <th>Average_income</th>\n",
       "      <th>Paved_Highways</th>\n",
       "      <th>Population_Driver_licence(%)</th>\n",
       "      <th>Petrol_Consumption</th>\n",
       "    </tr>\n",
       "  </thead>\n",
       "  <tbody>\n",
       "    <tr>\n",
       "      <th>0</th>\n",
       "      <td>9.0</td>\n",
       "      <td>3571</td>\n",
       "      <td>1976</td>\n",
       "      <td>0.525</td>\n",
       "      <td>541</td>\n",
       "    </tr>\n",
       "    <tr>\n",
       "      <th>1</th>\n",
       "      <td>9.0</td>\n",
       "      <td>4092</td>\n",
       "      <td>1250</td>\n",
       "      <td>0.572</td>\n",
       "      <td>524</td>\n",
       "    </tr>\n",
       "    <tr>\n",
       "      <th>2</th>\n",
       "      <td>9.0</td>\n",
       "      <td>3865</td>\n",
       "      <td>1586</td>\n",
       "      <td>0.580</td>\n",
       "      <td>561</td>\n",
       "    </tr>\n",
       "    <tr>\n",
       "      <th>3</th>\n",
       "      <td>7.5</td>\n",
       "      <td>4870</td>\n",
       "      <td>2351</td>\n",
       "      <td>0.529</td>\n",
       "      <td>414</td>\n",
       "    </tr>\n",
       "    <tr>\n",
       "      <th>4</th>\n",
       "      <td>8.0</td>\n",
       "      <td>4399</td>\n",
       "      <td>431</td>\n",
       "      <td>0.544</td>\n",
       "      <td>410</td>\n",
       "    </tr>\n",
       "  </tbody>\n",
       "</table>\n",
       "</div>"
      ],
      "text/plain": [
       "   Petrol_tax  Average_income  Paved_Highways  Population_Driver_licence(%)  \\\n",
       "0         9.0            3571            1976                         0.525   \n",
       "1         9.0            4092            1250                         0.572   \n",
       "2         9.0            3865            1586                         0.580   \n",
       "3         7.5            4870            2351                         0.529   \n",
       "4         8.0            4399             431                         0.544   \n",
       "\n",
       "   Petrol_Consumption  \n",
       "0                 541  \n",
       "1                 524  \n",
       "2                 561  \n",
       "3                 414  \n",
       "4                 410  "
      ]
     },
     "execution_count": 4,
     "metadata": {},
     "output_type": "execute_result"
    }
   ],
   "source": [
    "dataset.head()"
   ]
  },
  {
   "cell_type": "code",
   "execution_count": 5,
   "metadata": {},
   "outputs": [],
   "source": [
    "X = dataset.iloc[:, 0:4].values\n",
    "y = dataset.iloc[:, 4].values"
   ]
  },
  {
   "cell_type": "code",
   "execution_count": 6,
   "metadata": {},
   "outputs": [
    {
     "name": "stdout",
     "output_type": "stream",
     "text": [
      "[[9.0000e+00 3.5710e+03 1.9760e+03 5.2500e-01]\n",
      " [9.0000e+00 4.0920e+03 1.2500e+03 5.7200e-01]\n",
      " [9.0000e+00 3.8650e+03 1.5860e+03 5.8000e-01]\n",
      " [7.5000e+00 4.8700e+03 2.3510e+03 5.2900e-01]\n",
      " [8.0000e+00 4.3990e+03 4.3100e+02 5.4400e-01]\n",
      " [1.0000e+01 5.3420e+03 1.3330e+03 5.7100e-01]\n",
      " [8.0000e+00 5.3190e+03 1.1868e+04 4.5100e-01]\n",
      " [8.0000e+00 5.1260e+03 2.1380e+03 5.5300e-01]\n",
      " [8.0000e+00 4.4470e+03 8.5770e+03 5.2900e-01]\n",
      " [7.0000e+00 4.5120e+03 8.5070e+03 5.5200e-01]\n",
      " [8.0000e+00 4.3910e+03 5.9390e+03 5.3000e-01]\n",
      " [7.5000e+00 5.1260e+03 1.4186e+04 5.2500e-01]\n",
      " [7.0000e+00 4.8170e+03 6.9300e+03 5.7400e-01]\n",
      " [7.0000e+00 4.2070e+03 6.5800e+03 5.4500e-01]\n",
      " [7.0000e+00 4.3320e+03 8.1590e+03 6.0800e-01]\n",
      " [7.0000e+00 4.3180e+03 1.0340e+04 5.8600e-01]\n",
      " [7.0000e+00 4.2060e+03 8.5080e+03 5.7200e-01]\n",
      " [7.0000e+00 3.7180e+03 4.7250e+03 5.4000e-01]\n",
      " [7.0000e+00 4.7160e+03 5.9150e+03 7.2400e-01]\n",
      " [8.5000e+00 4.3410e+03 6.0100e+03 6.7700e-01]\n",
      " [7.0000e+00 4.5930e+03 7.8340e+03 6.6300e-01]\n",
      " [8.0000e+00 4.9830e+03 6.0200e+02 6.0200e-01]\n",
      " [9.0000e+00 4.8970e+03 2.4490e+03 5.1100e-01]\n",
      " [9.0000e+00 4.2580e+03 4.6860e+03 5.1700e-01]\n",
      " [8.5000e+00 4.5740e+03 2.6190e+03 5.5100e-01]\n",
      " [9.0000e+00 3.7210e+03 4.7460e+03 5.4400e-01]\n",
      " [8.0000e+00 3.4480e+03 5.3990e+03 5.4800e-01]\n",
      " [7.5000e+00 3.8460e+03 9.0610e+03 5.7900e-01]\n",
      " [8.0000e+00 4.1880e+03 5.9750e+03 5.6300e-01]\n",
      " [9.0000e+00 3.6010e+03 4.6500e+03 4.9300e-01]\n",
      " [7.0000e+00 3.6400e+03 6.9050e+03 5.1800e-01]\n",
      " [7.0000e+00 3.3330e+03 6.5940e+03 5.1300e-01]\n",
      " [8.0000e+00 3.0630e+03 6.5240e+03 5.7800e-01]\n",
      " [7.5000e+00 3.3570e+03 4.1210e+03 5.4700e-01]\n",
      " [8.0000e+00 3.5280e+03 3.4950e+03 4.8700e-01]\n",
      " [6.5800e+00 3.8020e+03 7.8340e+03 6.2900e-01]\n",
      " [5.0000e+00 4.0450e+03 1.7782e+04 5.6600e-01]\n",
      " [7.0000e+00 3.8970e+03 6.3850e+03 5.8600e-01]\n",
      " [8.5000e+00 3.6350e+03 3.2740e+03 6.6300e-01]\n",
      " [7.0000e+00 4.3450e+03 3.9050e+03 6.7200e-01]\n",
      " [7.0000e+00 4.4490e+03 4.6390e+03 6.2600e-01]\n",
      " [7.0000e+00 3.6560e+03 3.9850e+03 5.6300e-01]\n",
      " [7.0000e+00 4.3000e+03 3.6350e+03 6.0300e-01]\n",
      " [7.0000e+00 3.7450e+03 2.6110e+03 5.0800e-01]\n",
      " [6.0000e+00 5.2150e+03 2.3020e+03 6.7200e-01]\n",
      " [9.0000e+00 4.4760e+03 3.9420e+03 5.7100e-01]\n",
      " [7.0000e+00 4.2960e+03 4.0830e+03 6.2300e-01]\n",
      " [7.0000e+00 5.0020e+03 9.7940e+03 5.9300e-01]]\n"
     ]
    }
   ],
   "source": [
    "print(X)"
   ]
  },
  {
   "cell_type": "code",
   "execution_count": 7,
   "metadata": {},
   "outputs": [],
   "source": [
    "from sklearn.model_selection import train_test_split\n",
    "\n",
    "X_train, X_test, y_train, y_test = train_test_split(X, y, test_size=0.2, random_state=0)"
   ]
  },
  {
   "cell_type": "code",
   "execution_count": 8,
   "metadata": {},
   "outputs": [],
   "source": [
    "from sklearn.preprocessing import StandardScaler\n",
    "\n",
    "sc = StandardScaler()\n",
    "X_train = sc.fit_transform(X_train)\n",
    "X_test = sc.transform(X_test)"
   ]
  },
  {
   "cell_type": "code",
   "execution_count": 9,
   "metadata": {},
   "outputs": [],
   "source": [
    "from sklearn.ensemble import RandomForestRegressor\n",
    "\n",
    "regressor = RandomForestRegressor(n_estimators=20, random_state=0)\n",
    "regressor.fit(X_train, y_train)\n",
    "y_pred = regressor.predict(X_test)"
   ]
  },
  {
   "cell_type": "code",
   "execution_count": 10,
   "metadata": {},
   "outputs": [
    {
     "name": "stdout",
     "output_type": "stream",
     "text": [
      "Mean Absolute Error: 51.76500000000001\n",
      "Mean Squared Error: 4216.166749999999\n",
      "Root Mean Squared Error: 64.93201637097064\n"
     ]
    }
   ],
   "source": [
    "from sklearn import metrics\n",
    "\n",
    "print('Mean Absolute Error:', metrics.mean_absolute_error(y_test, y_pred))\n",
    "print('Mean Squared Error:', metrics.mean_squared_error(y_test, y_pred))\n",
    "print('Root Mean Squared Error:', np.sqrt(metrics.mean_squared_error(y_test, y_pred)))"
   ]
  },
  {
   "cell_type": "code",
   "execution_count": 11,
   "metadata": {},
   "outputs": [
    {
     "name": "stdout",
     "output_type": "stream",
     "text": [
      "[574.1  514.6  604.8  589.75 625.55 592.5  594.9  573.3  468.55 536.8 ]\n"
     ]
    }
   ],
   "source": [
    "print(y_pred)"
   ]
  },
  {
   "cell_type": "code",
   "execution_count": 12,
   "metadata": {},
   "outputs": [
    {
     "name": "stdout",
     "output_type": "stream",
     "text": [
      "[534 410 577 571 577 704 487 587 467 580]\n"
     ]
    }
   ],
   "source": [
    "print(y_test)"
   ]
  },
  {
   "cell_type": "code",
   "execution_count": null,
   "metadata": {},
   "outputs": [],
   "source": []
  }
 ],
 "metadata": {
  "kernelspec": {
   "display_name": "Python 3",
   "language": "python",
   "name": "python3"
  },
  "language_info": {
   "codemirror_mode": {
    "name": "ipython",
    "version": 3
   },
   "file_extension": ".py",
   "mimetype": "text/x-python",
   "name": "python",
   "nbconvert_exporter": "python",
   "pygments_lexer": "ipython3",
   "version": "3.7.4"
  }
 },
 "nbformat": 4,
 "nbformat_minor": 2
}
