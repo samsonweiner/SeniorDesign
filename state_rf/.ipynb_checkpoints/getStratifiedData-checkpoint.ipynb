{
 "cells": [
  {
   "cell_type": "code",
   "execution_count": 1,
   "metadata": {},
   "outputs": [],
   "source": [
    "import pandas as pd\n",
    "import numpy as np\n",
    "import csv"
   ]
  },
  {
   "cell_type": "code",
   "execution_count": 2,
   "metadata": {},
   "outputs": [],
   "source": [
    "state_df = pd.read_csv('../RF_datasets/stateData.csv')"
   ]
  },
  {
   "cell_type": "code",
   "execution_count": 3,
   "metadata": {},
   "outputs": [],
   "source": [
    "dataDict = {}\n",
    "with open('../RF_datasets/stateData.csv') as dataFile:\n",
    "    data = csv.reader(dataFile, delimiter=\",\")\n",
    "    i = 0\n",
    "    for row in data:\n",
    "        if i > 0:\n",
    "            dataDict[row[0]] = [row[1], row[2], row[3], row[4], row[5], -1]\n",
    "        i += 1"
   ]
  },
  {
   "cell_type": "code",
   "execution_count": 4,
   "metadata": {},
   "outputs": [],
   "source": [
    "stratValue = 0\n",
    "count = 0\n",
    "for i in range(50):\n",
    "    minValue = 2000\n",
    "    minState = ''\n",
    "    for x in dataDict:\n",
    "        if dataDict[x][5] == -1 and float(dataDict[x][4]) < minValue:\n",
    "            minValue = float(dataDict[x][4])\n",
    "            minState = x\n",
    "    if count % 10 == 0:\n",
    "        stratValue += 1\n",
    "    count += 1\n",
    "    dataDict[minState][5] = stratValue"
   ]
  },
  {
   "cell_type": "code",
   "execution_count": 5,
   "metadata": {},
   "outputs": [
    {
     "name": "stdout",
     "output_type": "stream",
     "text": [
      "10\n"
     ]
    }
   ],
   "source": [
    "count = 0\n",
    "for x in dataDict:\n",
    "    if dataDict[x][5] == 5:\n",
    "        count += 1\n",
    "print(count)"
   ]
  },
  {
   "cell_type": "code",
   "execution_count": 6,
   "metadata": {},
   "outputs": [],
   "source": [
    "strat_df = pd.DataFrame(dataDict)\n",
    "strat_df = strat_df.T\n",
    "state_df.columns = ['pop', 'deaths', 'edu', 'employ', 'MME', 'strat']"
   ]
  },
  {
   "cell_type": "code",
   "execution_count": 7,
   "metadata": {},
   "outputs": [],
   "source": [
    "f = open('../RF_datasets/stateData.csv', 'w+')\n",
    "strat_df.to_csv('../RF_datasets/stateData.csv')"
   ]
  },
  {
   "cell_type": "code",
   "execution_count": null,
   "metadata": {},
   "outputs": [],
   "source": []
  }
 ],
 "metadata": {
  "kernelspec": {
   "display_name": "Python 3",
   "language": "python",
   "name": "python3"
  },
  "language_info": {
   "codemirror_mode": {
    "name": "ipython",
    "version": 3
   },
   "file_extension": ".py",
   "mimetype": "text/x-python",
   "name": "python",
   "nbconvert_exporter": "python",
   "pygments_lexer": "ipython3",
   "version": "3.7.4"
  }
 },
 "nbformat": 4,
 "nbformat_minor": 2
}
