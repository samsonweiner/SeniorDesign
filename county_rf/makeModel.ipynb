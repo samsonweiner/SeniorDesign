{
 "cells": [
  {
   "cell_type": "code",
   "execution_count": 1,
   "metadata": {},
   "outputs": [],
   "source": [
    "from sklearn.ensemble import RandomForestRegressor\n",
    "import numpy as np"
   ]
  },
  {
   "cell_type": "code",
   "execution_count": 2,
   "metadata": {},
   "outputs": [],
   "source": [
    "forest_reg = RandomForestRegressor(random_state=42,\n",
    "                                   max_depth = 4,\n",
    "                                   max_features = 4,\n",
    "                                   max_leaf_nodes = 4,\n",
    "                                   min_samples_leaf = 4,\n",
    "                                   min_samples_split = 4,\n",
    "                                   n_estimators = 150)"
   ]
  },
  {
   "cell_type": "code",
   "execution_count": 3,
   "metadata": {},
   "outputs": [],
   "source": [
    "import pandas as pd\n",
    "data = pd.read_csv(\"countyData.csv\", usecols=[1, 2, 3, 4, 5, 6])"
   ]
  },
  {
   "cell_type": "code",
   "execution_count": 4,
   "metadata": {},
   "outputs": [],
   "source": [
    "data.index = data['FIPS']"
   ]
  },
  {
   "cell_type": "code",
   "execution_count": 5,
   "metadata": {},
   "outputs": [
    {
     "data": {
      "text/html": [
       "<div>\n",
       "<style scoped>\n",
       "    .dataframe tbody tr th:only-of-type {\n",
       "        vertical-align: middle;\n",
       "    }\n",
       "\n",
       "    .dataframe tbody tr th {\n",
       "        vertical-align: top;\n",
       "    }\n",
       "\n",
       "    .dataframe thead th {\n",
       "        text-align: right;\n",
       "    }\n",
       "</style>\n",
       "<table border=\"1\" class=\"dataframe\">\n",
       "  <thead>\n",
       "    <tr style=\"text-align: right;\">\n",
       "      <th></th>\n",
       "      <th>FIPS</th>\n",
       "      <th>Poverty Rate</th>\n",
       "      <th>Income</th>\n",
       "      <th>Unemployment Rate</th>\n",
       "      <th>Prescription Rate</th>\n",
       "      <th>Death Rate</th>\n",
       "    </tr>\n",
       "    <tr>\n",
       "      <th>FIPS</th>\n",
       "      <th></th>\n",
       "      <th></th>\n",
       "      <th></th>\n",
       "      <th></th>\n",
       "      <th></th>\n",
       "      <th></th>\n",
       "    </tr>\n",
       "  </thead>\n",
       "  <tbody>\n",
       "    <tr>\n",
       "      <th>1003</th>\n",
       "      <td>1003</td>\n",
       "      <td>13.3</td>\n",
       "      <td>48637.0</td>\n",
       "      <td>9.8</td>\n",
       "      <td>143.9</td>\n",
       "      <td>5.57</td>\n",
       "    </tr>\n",
       "    <tr>\n",
       "      <th>1073</th>\n",
       "      <td>1073</td>\n",
       "      <td>16.5</td>\n",
       "      <td>43312.0</td>\n",
       "      <td>10.8</td>\n",
       "      <td>134.3</td>\n",
       "      <td>9.11</td>\n",
       "    </tr>\n",
       "    <tr>\n",
       "      <th>1097</th>\n",
       "      <td>1097</td>\n",
       "      <td>18.7</td>\n",
       "      <td>39828.0</td>\n",
       "      <td>11.3</td>\n",
       "      <td>150.3</td>\n",
       "      <td>5.34</td>\n",
       "    </tr>\n",
       "    <tr>\n",
       "      <th>1117</th>\n",
       "      <td>1117</td>\n",
       "      <td>6.9</td>\n",
       "      <td>65408.0</td>\n",
       "      <td>7.8</td>\n",
       "      <td>122.5</td>\n",
       "      <td>7.78</td>\n",
       "    </tr>\n",
       "    <tr>\n",
       "      <th>2020</th>\n",
       "      <td>2020</td>\n",
       "      <td>7.6</td>\n",
       "      <td>72210.0</td>\n",
       "      <td>6.5</td>\n",
       "      <td>74.6</td>\n",
       "      <td>13.90</td>\n",
       "    </tr>\n",
       "  </tbody>\n",
       "</table>\n",
       "</div>"
      ],
      "text/plain": [
       "      FIPS  Poverty Rate   Income  Unemployment Rate  Prescription Rate  \\\n",
       "FIPS                                                                      \n",
       "1003  1003          13.3  48637.0                9.8              143.9   \n",
       "1073  1073          16.5  43312.0               10.8              134.3   \n",
       "1097  1097          18.7  39828.0               11.3              150.3   \n",
       "1117  1117           6.9  65408.0                7.8              122.5   \n",
       "2020  2020           7.6  72210.0                6.5               74.6   \n",
       "\n",
       "      Death Rate  \n",
       "FIPS              \n",
       "1003        5.57  \n",
       "1073        9.11  \n",
       "1097        5.34  \n",
       "1117        7.78  \n",
       "2020       13.90  "
      ]
     },
     "execution_count": 5,
     "metadata": {},
     "output_type": "execute_result"
    }
   ],
   "source": [
    "data.head()"
   ]
  },
  {
   "cell_type": "code",
   "execution_count": 6,
   "metadata": {},
   "outputs": [],
   "source": [
    "y_train = data.iloc[:, 5]"
   ]
  },
  {
   "cell_type": "code",
   "execution_count": 7,
   "metadata": {},
   "outputs": [
    {
     "name": "stdout",
     "output_type": "stream",
     "text": [
      "       Poverty Rate   Income  Unemployment Rate  Prescription Rate\n",
      "FIPS                                                              \n",
      "1003           13.3  48637.0                9.8              143.9\n",
      "1073           16.5  43312.0               10.8              134.3\n",
      "1097           18.7  39828.0               11.3              150.3\n",
      "1117            6.9  65408.0                7.8              122.5\n",
      "2020            7.6  72210.0                6.5               74.6\n",
      "...             ...      ...                ...                ...\n",
      "55127          10.6  60675.0                3.3               51.4\n",
      "55131           5.3  76551.0                2.8               54.9\n",
      "55133           4.8  82627.0                2.9               58.2\n",
      "55139          11.1  57529.0                3.0               48.5\n",
      "56021           9.7  61658.0                3.7               64.5\n",
      "\n",
      "[4718 rows x 4 columns]\n"
     ]
    }
   ],
   "source": [
    "x_train = data.iloc[:, 1:5]\n",
    "print(x_train)\n"
   ]
  },
  {
   "cell_type": "code",
   "execution_count": 8,
   "metadata": {},
   "outputs": [
    {
     "data": {
      "text/plain": [
       "RandomForestRegressor(bootstrap=True, criterion='mse', max_depth=4,\n",
       "                      max_features=4, max_leaf_nodes=4,\n",
       "                      min_impurity_decrease=0.0, min_impurity_split=None,\n",
       "                      min_samples_leaf=4, min_samples_split=4,\n",
       "                      min_weight_fraction_leaf=0.0, n_estimators=150,\n",
       "                      n_jobs=None, oob_score=False, random_state=42, verbose=0,\n",
       "                      warm_start=False)"
      ]
     },
     "execution_count": 8,
     "metadata": {},
     "output_type": "execute_result"
    }
   ],
   "source": [
    "forest_reg.fit(x_train, y_train)"
   ]
  },
  {
   "cell_type": "code",
   "execution_count": 9,
   "metadata": {},
   "outputs": [],
   "source": [
    "import pickle"
   ]
  },
  {
   "cell_type": "code",
   "execution_count": 10,
   "metadata": {},
   "outputs": [],
   "source": [
    "model_pkl = open(\"store_model.pkl\", \"wb\")"
   ]
  },
  {
   "cell_type": "code",
   "execution_count": 11,
   "metadata": {},
   "outputs": [],
   "source": [
    "pickle.dump(forest_reg, model_pkl)"
   ]
  },
  {
   "cell_type": "code",
   "execution_count": 12,
   "metadata": {},
   "outputs": [],
   "source": [
    "model_pkl.close()"
   ]
  },
  {
   "cell_type": "code",
   "execution_count": null,
   "metadata": {},
   "outputs": [],
   "source": []
  }
 ],
 "metadata": {
  "kernelspec": {
   "display_name": "Python 3",
   "language": "python",
   "name": "python3"
  },
  "language_info": {
   "codemirror_mode": {
    "name": "ipython",
    "version": 3
   },
   "file_extension": ".py",
   "mimetype": "text/x-python",
   "name": "python",
   "nbconvert_exporter": "python",
   "pygments_lexer": "ipython3",
   "version": "3.7.4"
  }
 },
 "nbformat": 4,
 "nbformat_minor": 2
}
