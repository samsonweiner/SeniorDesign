{
 "cells": [
  {
   "cell_type": "code",
   "execution_count": 1,
   "metadata": {},
   "outputs": [],
   "source": [
    "import pandas as pd\n",
    "import numpy as np\n",
    "import csv"
   ]
  },
  {
   "cell_type": "code",
   "execution_count": 2,
   "metadata": {},
   "outputs": [],
   "source": [
    "state_df = pd.read_csv('../RF_datasets/stateData.csv')"
   ]
  },
  {
   "cell_type": "code",
   "execution_count": 3,
   "metadata": {},
   "outputs": [],
   "source": [
    "statekeys = {'AL': 'Alabama', 'AK': 'Alaska', 'AZ': 'Arizona', 'AR': 'Arkansas', 'CA': 'California', 'CO': 'Colorado', 'CT': 'Connecticut', 'DE': 'Delaware', 'FL': 'Florida', 'GA': 'Georgia', 'HI': 'Hawaii', 'ID': 'Idaho', 'IL': 'Illinois', 'IN': 'Indiana', 'IA': 'Iowa', 'KS': 'Kansas', 'KY': 'Kentucky', 'LA': 'Louisiana', 'ME': 'Maine', 'MD': 'Maryland', 'MA': 'Massachusetts', 'MI': 'Michigan', 'MN': 'Minnesota', 'MS': 'Mississippi', 'MO': 'Missouri', 'MT': 'Montana', 'NE': 'Nebraska', 'NV': 'Nevada', 'NH': 'New Hampshire', 'NJ': 'New Jersey', 'NM': 'New Mexico', 'NY': 'New York', 'NC': 'North Carolina', 'ND': 'North Dakota', 'OH': 'Ohio', 'OK': 'Oklahoma', 'OR': 'Oregon', 'PA': 'Pennsylvania', 'RI': 'Rhode Island', 'SC': 'South Carolina', 'SD': 'South Dakota', 'TN': 'Tennessee', 'TX': 'Texas', 'UT': 'Utah', 'VT': 'Vermont', 'VA': 'Virginia', 'WA': 'Washington', 'WV': 'West Virginia', 'WI': 'Wisconsin', 'WY': 'Wyoming'}"
   ]
  },
  {
   "cell_type": "code",
   "execution_count": 4,
   "metadata": {},
   "outputs": [],
   "source": [
    "income = {'Alabama': \"46,257\", \"Alaska\": \"76,440\", \"Arizona\": \"53,558\", \"Arkansas\": \"44,334\", \n",
    "          \"California\": \"67,739\", \"Colorado\": \"65,685\", \"Connecticut\": \"73,433\", \"Delaware\": \"61,757\",\n",
    "          \"Florida\": \"50,860\", \"Georgia\": \"51,753\", \"Hawaii\": \"74,451\", \"Idaho\": \"48,728\",\n",
    "          \"Illinois\": \"60,094\", \"Indiana\": \"50,896\", \"Iowa\": \"55,172\", \"Kansas\": \"54,520\",\n",
    "          \"Kentucky\": \"45,541\", \"Louisiana\": \"46,106\", \"Maine\": \"52,111\", \"Maryland\": \"76,596\",\n",
    "          \"Massachusetts\": \"71,146\", \"Michigan\": \"51,584\", \"Minnesota\": \"64,188\", \"Mississippi\": \"40,910\",\n",
    "          \"Missouri\": \"50,642\", \"Montana\": \"49,924\", \"Nebraska\": \"55,474\", \"Nevada\": \"53,320\",\n",
    "          \"New Hampshire\": \"70,813\", \"New Jersey\": \"73,242\", \"New Mexico\": \"45,710\", \"New York\": \"61,311\",\n",
    "          \"North Carolina\": \"48,420\", \"North Dakota\": \"60,944\", \"Ohio\": \"51,610\", \"Oklahoma\": \"49,062\",\n",
    "          \"Oregon\": \"54,748\", \"Pennsylvania\": \"56,207\", \"Rhode Island\": \"58,826\", \"South Carolina\": \"47,790\",\n",
    "          \"South Dakota\": \"53,746\", \"Tennessee\": \"47,818\", \"Texas\": \"56,139\", \"Utah\": \"63,794\",\n",
    "          \"Vermont\": \"57,565\", \"Virginia\": \"66,916\", \"Washington\": \"64,764\", \"West Virginia\": \"42,620\",\n",
    "          \"Wisconsin\": \"56,115\", \"Wyoming\": \"60,570\"}"
   ]
  },
  {
   "cell_type": "code",
   "execution_count": 5,
   "metadata": {},
   "outputs": [],
   "source": [
    "religion = {'Alabama': 0.77, 'Mississippi': 0.77, 'Tennessee': 0.73, 'Louisiana': 0.71,\n",
    "            'Arkansas': 0.70, 'South Carolina': 0.70, 'West Virginia': 0.69, 'Georgia': 0.66,\n",
    "            'Oklahoma': 0.66, 'North Carolina': 0.65, 'Texas': 0.64, 'Utah': 0.64,\n",
    "            'Kentucky': 0.63, 'Virginia': 0.61, 'Missouri': 0.60, 'South Dakota': 0.59,\n",
    "            'Ohio': 0.58, 'New Mexico': 0.57, 'Iowa': 0.55, 'Kansas': 0.55,\n",
    "            'New Jersey': 0.55, 'Florida': 0.54, 'Indiana': 0.54, 'Maryland': 0.54,\n",
    "            'Nebraska': 0.54, 'Wyoming': 0.54, 'Arizona': 0.53, 'Michigan': 0.53,\n",
    "            'North Dakota': 0.53, 'Pennsylvania': 0.53, 'Delaware': 0.52, 'Idaho': 0.51,\n",
    "            'Illinois': 0.51, 'California': 0.49, 'Minnesota': 0.49, 'Nevada': 0.49,\n",
    "            'Nevada': 0.49, 'Rhode Island': 0.49, 'Montana': 0.48, 'Oregon': 0.48,\n",
    "            'Colorado': 0.47, 'Hawaii': 0.47, 'New York': 0.46, 'Alaska': 0.45,\n",
    "            'Washington': 0.45, 'Wisconsin': 0.45, 'Connecticut': 0.43, 'Maine': 0.34,\n",
    "            'Vermont': 0.34, 'Massachusetts': 0.33, 'New Hampshire': 0.33}"
   ]
  },
  {
   "cell_type": "code",
   "execution_count": 6,
   "metadata": {},
   "outputs": [],
   "source": [
    "HIV = {\"ME\": 2.2, \"NH\": 2.5, \"VT\": 3.0, \"MA\": 8.8, \"RI\": 7.8, \"CT\": 7.4, \"NY\": 14.0, \"NJ\": 12.3, \"PA\": 8.5,\n",
    "       \"DE\": 13.0, \"MD\": 17.0, \"VA\": 10.3, \"NC\": 12.8, \"WV\": 4.3, \"SC\": 14.3, \"GA\": 24.9, \"FL\": 22.9, \"OH\": 8.8,\n",
    "       \"KY\": 7.9, \"TN\": 10.3, \"AL\": 13.5, \"MI\": 7.8, \"IN\": 7.8, \"WI\": 4.5, \"IL\": 9.9, \"MS\": 14.3, \"MN\": 5.0,\n",
    "       \"IA\": 4.0, \"MO\": 8.3, \"AR\": 9.7, \"LA\": 22.1, \"ND\": 4.8, \"SD\": 4.3, \"NE\": 4.6, \"KS\": 4.1, \"OK\": 7.7,\n",
    "       \"TX\": 15.4, \"MT\": 3.0, \"WY\": 1.7, \"CO\": 7.9, \"NM\": 5.5, \"ID\": 2.7, \"UT\": 3.4, \"AZ\": 10.9, \"NV\": 16.5,\n",
    "       \"WA\": 6.0, \"OR\": 4.8, \"CA\": 11.4, \"AK\": 3.9, \"HI\": 5.7}"
   ]
  },
  {
   "cell_type": "code",
   "execution_count": 7,
   "metadata": {},
   "outputs": [],
   "source": [
    "depression = {\"ME\": 6, \"NH\": 5, \"VT\": 5, \"MA\": 5, \"CT\": 5, \"RI\": 6, \"NY\": 4, \"PA\": 4, \"NJ\": 4, \"DE\": 5, \"MD\": 4,\n",
    "              \"VA\": 4, \"NC\": 5, \"SC\": 4, \"GA\": 4, \"FL\": 4, \"WV\": 5, \"OH\": 4, \"MI\": 5, \"KY\": 5, \"TN\": 5, \"AL\": 5,\n",
    "              \"IN\": 4, \"WI\": 4, \"IL\": 4, \"MS\": 4, \"MN\": 6, \"IA\": 5, \"MO\": 5, \"AR\": 5, \"LA\": 5, \"ND\": 5, \"SD\": 4,\n",
    "              \"NE\": 4, \"KS\": 5, \"OK\": 5, \"TX\": 4, \"MT\": 5, \"WY\": 3, \"CO\": 3, \"NM\": 4, \"ID\": 5, \"UT\": 6, \"AZ\": 3,\n",
    "              \"NV\": 3, \"WA\": 5, \"OR\": 5, \"CA\": 4, \"AK\": 3, \"HI\": 2}"
   ]
  },
  {
   "cell_type": "code",
   "execution_count": null,
   "metadata": {},
   "outputs": [],
   "source": []
  },
  {
   "cell_type": "code",
   "execution_count": 8,
   "metadata": {},
   "outputs": [],
   "source": [
    "for x in income:\n",
    "    value = int(income[x].replace(\",\", \"\"))\n",
    "    income[x] = value"
   ]
  },
  {
   "cell_type": "code",
   "execution_count": 9,
   "metadata": {},
   "outputs": [],
   "source": [
    "dataDict = {}\n",
    "with open('../RF_datasets/stateData.csv') as dataFile:\n",
    "    data = csv.reader(dataFile, delimiter=\",\")\n",
    "    i = 0\n",
    "    for row in data:\n",
    "        if i > 0:\n",
    "            dataDict[row[0]] = [row[1], row[2], row[3], row[4], row[5], row[6]]\n",
    "        i += 1"
   ]
  },
  {
   "cell_type": "code",
   "execution_count": 10,
   "metadata": {},
   "outputs": [],
   "source": [
    "for x in dataDict:\n",
    "    dataDict[x].append(income[statekeys[x]])\n",
    "    dataDict[x].append(religion[statekeys[x]])\n",
    "    dataDict[x].append(HIV[x])\n",
    "    dataDict[x].append(depression[x])"
   ]
  },
  {
   "cell_type": "code",
   "execution_count": 11,
   "metadata": {},
   "outputs": [],
   "source": [
    "add_df = pd.DataFrame(dataDict)\n",
    "add_df = add_df.T"
   ]
  },
  {
   "cell_type": "code",
   "execution_count": 12,
   "metadata": {},
   "outputs": [
    {
     "name": "stdout",
     "output_type": "stream",
     "text": [
      "Index(['pop', 'deaths', 'edu', 'employ', 'MME', 'strat', 'income', 'religion',\n",
      "       'HIV', 'depression'],\n",
      "      dtype='object')\n"
     ]
    }
   ],
   "source": [
    "add_df.columns = ['pop', 'deaths', 'edu', 'employ', 'MME', 'strat', 'income', 'religion', 'HIV', 'depression']\n",
    "print(add_df.columns)"
   ]
  },
  {
   "cell_type": "code",
   "execution_count": 13,
   "metadata": {},
   "outputs": [],
   "source": [
    "f = open('../RF_datasets/stateData.csv', 'w+')\n",
    "add_df.to_csv('../RF_datasets/stateData.csv')"
   ]
  },
  {
   "cell_type": "code",
   "execution_count": null,
   "metadata": {},
   "outputs": [],
   "source": []
  }
 ],
 "metadata": {
  "kernelspec": {
   "display_name": "Python 3",
   "language": "python",
   "name": "python3"
  },
  "language_info": {
   "codemirror_mode": {
    "name": "ipython",
    "version": 3
   },
   "file_extension": ".py",
   "mimetype": "text/x-python",
   "name": "python",
   "nbconvert_exporter": "python",
   "pygments_lexer": "ipython3",
   "version": "3.7.4"
  }
 },
 "nbformat": 4,
 "nbformat_minor": 2
}
