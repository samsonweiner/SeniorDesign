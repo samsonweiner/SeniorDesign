{
 "cells": [
  {
   "cell_type": "code",
   "execution_count": 1,
   "metadata": {},
   "outputs": [],
   "source": [
    "import pandas as pd\n",
    "import numpy as np\n",
    "import csv"
   ]
  },
  {
   "cell_type": "code",
   "execution_count": 2,
   "metadata": {},
   "outputs": [],
   "source": [
    "abrvKeys = {'Alabama': 'AL', 'Alaska': 'AK', 'Arizona': 'AZ', 'Arkansas': 'AR', 'California': 'CA', 'Colorado': 'CO', 'Connecticut': 'CT', 'Delaware': 'DE', 'Florida': 'FL', 'Georgia': 'GA', 'Hawaii': 'HI', 'Idaho': 'ID', 'Illinois': 'IL', 'Indiana': 'IN', 'Iowa': 'IA', 'Kansas': 'KS', 'Kentucky': 'KY', 'Louisiana': 'LA', 'Maine': 'ME', 'Maryland': 'MD', 'Massachusetts': 'MA', 'Michigan': 'MI', 'Minnesota': 'MN', 'Mississippi': 'MS', 'Missouri': 'MO', 'Montana': 'MT', 'Nebraska': 'NE', 'Nevada': 'NV', 'New Hampshire': 'NH', 'New Jersey': 'NJ', 'New Mexico': 'NM', 'New York': 'NY', 'North Carolina': 'NC', 'North Dakota': 'ND', 'Ohio': 'OH', 'Oklahoma': 'OK', 'Oregon': 'OR', 'Pennsylvania': 'PA', 'Rhode Island': 'RI', 'South Carolina': 'SC', 'South Dakota': 'SD', 'Tennessee': 'TN', 'Texas': 'TX', 'Utah': 'UT', 'Vermont': 'VT', 'Virginia': 'VA', 'Washington': 'WA', 'West Virginia': 'WV', 'Wisconsin': 'WI', 'Wyoming': 'WY'}\n",
    "fullkeys = {'AL': 'Alabama', 'AK': 'Alaska', 'AZ': 'Arizona', 'AR': 'Arkansas', 'CA': 'California', 'CO': 'Colorado', 'CT': 'Connecticut', 'DE': 'Delaware', 'FL': 'Florida', 'GA': 'Georgia', 'HI': 'Hawaii', 'ID': 'Idaho', 'IL': 'Illinois', 'IN': 'Indiana', 'IA': 'Iowa', 'KS': 'Kansas', 'KY': 'Kentucky', 'LA': 'Louisiana', 'ME': 'Maine', 'MD': 'Maryland', 'MA': 'Massachusetts', 'MI': 'Michigan', 'MN': 'Minnesota', 'MS': 'Mississippi', 'MO': 'Missouri', 'MT': 'Montana', 'NE': 'Nebraska', 'NV': 'Nevada', 'NH': 'New Hampshire', 'NJ': 'New Jersey', 'NM': 'New Mexico', 'NY': 'New York', 'NC': 'North Carolina', 'ND': 'North Dakota', 'OH': 'Ohio', 'OK': 'Oklahoma', 'OR': 'Oregon', 'PA': 'Pennsylvania', 'RI': 'Rhode Island', 'SC': 'South Carolina', 'SD': 'South Dakota', 'TN': 'Tennessee', 'TX': 'Texas', 'UT': 'Utah', 'VT': 'Vermont', 'VA': 'Virginia', 'WA': 'Washington', 'WV': 'West Virginia', 'WI': 'Wisconsin', 'WY': 'Wyoming'}"
   ]
  },
  {
   "cell_type": "code",
   "execution_count": 3,
   "metadata": {},
   "outputs": [],
   "source": [
    "stateDict = {}\n",
    "#state = pop, number of deaths, education, unemployment, mme per cap"
   ]
  },
  {
   "cell_type": "code",
   "execution_count": 4,
   "metadata": {},
   "outputs": [],
   "source": [
    "#get state keys, and initialize values with pop and death count\n",
    "with open('RF_datasets/Used_Data/stateCounts.csv') as stateFile:\n",
    "    stateData = csv.reader(stateFile, delimiter=\",\")\n",
    "    i = 0\n",
    "    for row in stateData:\n",
    "        if i > 0:\n",
    "            stateDict[row[0]] = [float(row[2]), float(row[3])]\n",
    "        i += 1"
   ]
  },
  {
   "cell_type": "code",
   "execution_count": 5,
   "metadata": {},
   "outputs": [],
   "source": [
    "#education\n",
    "with open('RF_datasets/Used_Data/Education.csv') as eduFile:\n",
    "    eduData = csv.reader(eduFile, delimiter=\",\")\n",
    "    i = 0\n",
    "    for row in eduData:\n",
    "        if i > 4:\n",
    "            if row[1] in fullkeys:\n",
    "                if fullkeys[row[1]] == row[2]:\n",
    "                    stateDict[row[1]].append(float(row[46]))\n",
    "        i += 1"
   ]
  },
  {
   "cell_type": "code",
   "execution_count": 6,
   "metadata": {},
   "outputs": [],
   "source": [
    "#unemployment\n",
    "with open('RF_datasets/Used_Data/Unemployment.csv') as employFile:\n",
    "    employData = csv.reader(employFile, delimiter=\",\")\n",
    "    i = 0\n",
    "    for row in employData:\n",
    "        if i > 7:\n",
    "            if row[1] in fullkeys:\n",
    "                if fullkeys[row[1]] == row[2]:\n",
    "                    stateDict[row[1]].append(float(row[45]))\n",
    "        i += 1"
   ]
  },
  {
   "cell_type": "code",
   "execution_count": 28,
   "metadata": {},
   "outputs": [],
   "source": [
    "#make seperate dictionary with state populations from the file\n",
    "popDict = {}\n",
    "for state in abrvKeys:\n",
    "    popDict[state] = 0\n",
    "with open('RF_datasets/Used_Data/Prescription_Population_Combined.csv') as presFile:\n",
    "    presData = csv.reader(presFile, delimiter=\",\")\n",
    "    i = 0\n",
    "    for row in presData:\n",
    "        if i > 0:\n",
    "            tempIndex = row[1].index(',')\n",
    "            county = row[1][:tempIndex]\n",
    "            state = row[1][tempIndex + 2:]\n",
    "            if state in popDict and row[14] != \"N/A\":\n",
    "                popDict[state] += float(row[10])\n",
    "        i += 1"
   ]
  },
  {
   "cell_type": "code",
   "execution_count": 34,
   "metadata": {},
   "outputs": [],
   "source": [
    "#finally prescription mme per cap. need to do some extra work here\n",
    "with open('RF_datasets/Used_Data/Prescription_Population_Combined.csv') as presFile:\n",
    "    presData = csv.reader(presFile, delimiter=\",\")\n",
    "    i = 0\n",
    "    curState = ''\n",
    "    curAverage = 0\n",
    "    statePop = 0\n",
    "    for row in presData:\n",
    "        if i > 0:\n",
    "            tempIndex = row[1].index(',')\n",
    "            county = row[1][:tempIndex]\n",
    "            state = row[1][tempIndex + 2:]\n",
    "            if state in abrvKeys and row[14] != \"N/A\":\n",
    "                #different state\n",
    "                if state != curState:\n",
    "                    #print(curState, curAverage)\n",
    "                    if curState != '':\n",
    "                        stateDict[abrvKeys[curState]].append(curAverage)\n",
    "                    curState = state\n",
    "                    curAverage = 0\n",
    "                    statePop = popDict[state]\n",
    "                countyPop = float(row[10])\n",
    "                countyMME = float(row[14])\n",
    "                popPercent = countyPop / statePop\n",
    "                curAverage += countyMME * popPercent\n",
    "                \n",
    "        i += 1\n",
    "    stateDict[abrvKeys[curState]].append(curAverage)"
   ]
  },
  {
   "cell_type": "code",
   "execution_count": 35,
   "metadata": {},
   "outputs": [
    {
     "name": "stdout",
     "output_type": "stream",
     "text": [
      "AL [4863300.0, 364.7475, 24.5, 5.8, 1037.8242300470015]\n",
      "AK [741894.0, 92.73675, 29.0, 6.9, 757.6506955085102]\n",
      "AZ [6931071.0, 790.142094, 28.4, 5.4, 849.2371723827332]\n",
      "AR [2988248.0, 176.306632, 22.0, 4.0, 922.8335752490757]\n",
      "CA [39250017.0, 1923.250833, 32.6, 5.5, 462.578769445663]\n",
      "CO [5540545.0, 526.351775, 39.4, 618.7235606021876]\n",
      "CT [3576452.0, 876.23074, 38.4, 5.1, 644.4168851926719]\n",
      "DE [952065.0, 160.898985, 31.0, 4.5, 1028.3672432828776]\n",
      "FL [20612439.0, 2968.191216, 28.5, 4.8, 728.007192192412]\n",
      "GA [10310371.0, 907.312648, 29.9, 5.4, 743.5112468863844]\n",
      "HI [1428557.0, 74.284964, 32.0, 3.0, 445.73388089917705]\n",
      "ID [1683140.0, 124.55236, 26.8, 3.8, 829.843540534393]\n",
      "IL [12801539.0, 1958.635467, 33.4, 5.8, 693.5843413534509]\n",
      "IN [6633053.0, 835.764678, 25.3, 4.4, 1074.4919720581356]\n",
      "IA [3134693.0, 194.350966, 27.7, 3.6, 762.417407452612]\n",
      "KS [2907289.0, 148.271739, 32.3, 4.0, 686.0230564685546]\n",
      "KY [4436974.0, 1047.125864, 23.2, 5.1, 904.4018486951575]\n",
      "LA [4681666.0, 360.488282, 6.1, 692.0305160425748]\n",
      "ME [1331479.0, 335.532708, 30.3, 3.8, 712.2554399603415]\n",
      "MD [6016447.0, 1786.884759, 39.0, 4.5, 707.1539214712053]\n",
      "MA [6811779.0, 2023.098363, 42.1, 3.9, 568.8080003404618]\n",
      "MI [9928300.0, 1836.7355, 28.1, 5.0, 963.3947839599202]\n",
      "MN [5519952.0, 408.476448, 34.8, 3.9, 450.75459832867705]\n",
      "MS [2988726.0, 185.301012, 21.3, 5.8, 739.7295495978661]\n",
      "MO [6093000.0, 968.787, 28.2, 4.6, 797.4826650614045]\n",
      "MT [1042520.0, 43.78584, 30.7, 4.1, 802.9658607045719]\n",
      "NE [1907116.0, 45.770784, 30.6, 3.1, 512.1612091487503]\n",
      "NV [2940058.0, 391.027714, 23.7, 5.7, 708.9838731392492]\n",
      "NH [1334795.0, 477.85661, 36.0, 2.9, 922.1013388231139]\n",
      "NJ [8944469.0, 1431.11504, 38.1, 5.0, 615.5194261298305]\n",
      "NM [2081015.0, 364.177625, 26.9, 6.6, 651.7169082286491]\n",
      "NY [19745289.0, 2981.538639, 35.3, 4.9, 591.885189986411]\n",
      "NC [10146788.0, 1562.605352, 29.9, 5.1, 750.6273940822588]\n",
      "ND [757952.0, 57.604352, 28.9, 3.1, 610.0864005827345]\n",
      "OH [11614373.0, 3821.128717, 27.2, 5.0, 776.9114746241949]\n",
      "OK [3923561.0, 455.133076, 24.8, 4.8, 895.8506564948333]\n",
      "OR [4093465.0, 311.10334, 32.3, 4.8, 819.455525609302]\n",
      "PA [12784227.0, 2365.081995, 30.1, 5.4, 706.0286575796999]\n",
      "RI [1056426.0, 282.065742, 33.0, 5.2, 608.3542926012924]\n",
      "SC [4961119.0, 649.906589, 27.0, 5.0, 822.050092764865]\n",
      "SD [865454.0, 43.2727, 27.8, 3.0, 569.7886049678885]\n",
      "TN [6651194.0, 1203.866114, 26.1, 4.7, 868.6408411900132]\n",
      "TX [27862596.0, 1365.267204, 28.7, 4.6, 522.6928169031074]\n",
      "UT [3051217.0, 500.399588, 32.5, 3.4, 691.4706052258937]\n",
      "VT [624594.0, 114.925296, 36.8, 3.2, 675.2005156788168]\n",
      "VA [8411808.0, 1135.59408, 37.6, 4.1, 623.5238525468313]\n",
      "WA [7288000.0, 685.072, 34.5, 5.3, 701.3723002816636]\n",
      "WV [1831102.0, 794.698268, 19.9, 6.1, 904.5276534542633]\n",
      "WI [5778708.0, 913.035864, 29.0, 4.0, 648.2320162038246]\n",
      "WY [585501.0, 50.938587, 26.7, 5.3]\n"
     ]
    }
   ],
   "source": [
    "for x in stateDict:\n",
    "    print(x, stateDict[x])"
   ]
  },
  {
   "cell_type": "code",
   "execution_count": null,
   "metadata": {},
   "outputs": [],
   "source": []
  }
 ],
 "metadata": {
  "kernelspec": {
   "display_name": "Python 3",
   "language": "python",
   "name": "python3"
  },
  "language_info": {
   "codemirror_mode": {
    "name": "ipython",
    "version": 3
   },
   "file_extension": ".py",
   "mimetype": "text/x-python",
   "name": "python",
   "nbconvert_exporter": "python",
   "pygments_lexer": "ipython3",
   "version": "3.7.4"
  }
 },
 "nbformat": 4,
 "nbformat_minor": 2
}
