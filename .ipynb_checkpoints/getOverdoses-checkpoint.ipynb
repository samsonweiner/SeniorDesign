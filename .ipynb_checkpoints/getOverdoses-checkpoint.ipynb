{
 "cells": [
  {
   "cell_type": "code",
   "execution_count": 1,
   "metadata": {},
   "outputs": [],
   "source": [
    "import pandas as pd\n",
    "import numpy as np\n",
    "import csv"
   ]
  },
  {
   "cell_type": "code",
   "execution_count": 2,
   "metadata": {},
   "outputs": [],
   "source": [
    "al = [\"AL\", \"AK\", \"AZ\", \"AR\", \"CA\", \"CO\", \"CT\", \"DE\", \"FL\", \"GA\", \n",
    "          \"HI\", \"ID\", \"IL\", \"IN\", \"IA\", \"KS\", \"KY\", \"LA\", \"ME\", \"MD\", \n",
    "          \"MA\", \"MI\", \"MN\", \"MS\", \"MO\", \"MT\", \"NE\", \"NV\", \"NH\", \"NJ\", \n",
    "          \"NM\", \"NY\", \"NC\", \"ND\", \"OH\", \"OK\", \"OR\", \"PA\", \"RI\", \"SC\", \n",
    "          \"SD\", \"TN\", \"TX\", \"UT\", \"VT\", \"VA\", \"WA\", \"WV\", \"WI\", \"WY\"]"
   ]
  },
  {
   "cell_type": "code",
   "execution_count": 3,
   "metadata": {},
   "outputs": [],
   "source": [
    "opDict = {}\n",
    "for state in al:\n",
    "    opDict[state] = []\n",
    "#list for each state has the following information: deathRate per 100,000, state pop, death count"
   ]
  },
  {
   "cell_type": "code",
   "execution_count": 4,
   "metadata": {},
   "outputs": [],
   "source": [
    "stateKeys = {'Alabama': 'AL', 'Alaska': 'AK', 'Arizona': 'AZ', 'Arkansas': 'AR', 'California': 'CA', 'Colorado': 'CO', 'Connecticut': 'CT', 'Delaware': 'DE', 'Florida': 'FL', 'Georgia': 'GA', 'Hawaii': 'HI', 'Idaho': 'ID', 'Illinois': 'IL', 'Indiana': 'IN', 'Iowa': 'IA', 'Kansas': 'KS', 'Kentucky': 'KY', 'Louisiana': 'LA', 'Maine': 'ME', 'Maryland': 'MD', 'Massachusetts': 'MA', 'Michigan': 'MI', 'Minnesota': 'MN', 'Mississippi': 'MS', 'Missouri': 'MO', 'Montana': 'MT', 'Nebraska': 'NE', 'Nevada': 'NV', 'New Hampshire': 'NH', 'New Jersey': 'NJ', 'New Mexico': 'NM', 'New York': 'NY', 'North Carolina': 'NC', 'North Dakota': 'ND', 'Ohio': 'OH', 'Oklahoma': 'OK', 'Oregon': 'OR', 'Pennsylvania': 'PA', 'Rhode Island': 'RI', 'South Carolina': 'SC', 'South Dakota': 'SD', 'Tennessee': 'TN', 'Texas': 'TX', 'Utah': 'UT', 'Vermont': 'VT', 'Virginia': 'VA', 'Washington': 'WA', 'West Virginia': 'WV', 'Wisconsin': 'WI', 'Wyoming': 'WY'}"
   ]
  },
  {
   "cell_type": "code",
   "execution_count": 5,
   "metadata": {},
   "outputs": [],
   "source": [
    "\n",
    "with open('RF_datasets/deathRate.csv') as deathRateFile:\n",
    "    deathRateData = csv.reader(deathRateFile, delimiter=\",\")\n",
    "    i = 0\n",
    "    for row in deathRateData:\n",
    "        if i > 3 and i < 55 and i != 12:\n",
    "            abrv = stateKeys[row[0]]\n",
    "            opDict[abrv].append(row[1])\n",
    "        i += 1"
   ]
  },
  {
   "cell_type": "code",
   "execution_count": 6,
   "metadata": {},
   "outputs": [
    {
     "name": "stdout",
     "output_type": "stream",
     "text": [
      "{'AL': ['7.5'], 'AK': ['12.5'], 'AZ': ['11.4'], 'AR': ['5.9'], 'CA': ['4.9'], 'CO': ['9.5'], 'CT': ['24.5'], 'DE': ['16.9'], 'FL': ['14.4'], 'GA': ['8.8'], 'HI': ['5.2'], 'ID': ['7.4'], 'IL': ['15.3'], 'IN': ['12.6'], 'IA': ['6.2'], 'KS': ['5.1'], 'KY': ['23.6'], 'LA': ['7.7'], 'ME': ['25.2'], 'MD': ['29.7'], 'MA': ['29.7'], 'MI': ['18.5'], 'MN': ['7.4'], 'MS': ['6.2'], 'MO': ['15.9'], 'MT': ['4.2'], 'NE': ['2.4'], 'NV': ['13.3'], 'NH': ['35.8'], 'NJ': ['16'], 'NM': ['17.5'], 'NY': ['15.1'], 'NC': ['15.4'], 'ND': ['7.6'], 'OH': ['32.9'], 'OK': ['11.6'], 'OR': ['7.6'], 'PA': ['18.5'], 'RI': ['26.7'], 'SC': ['13.1'], 'SD': ['5'], 'TN': ['18.1'], 'TX': ['4.9'], 'UT': ['16.4'], 'VT': ['18.4'], 'VA': ['13.5'], 'WA': ['9.4'], 'WV': ['43.4'], 'WI': ['15.8'], 'WY': ['8.7']}\n"
     ]
    }
   ],
   "source": [
    "print(opDict)"
   ]
  },
  {
   "cell_type": "code",
   "execution_count": 7,
   "metadata": {},
   "outputs": [],
   "source": [
    "with open('RF_datasets/PEP_2016_PEPANNRES_with_ann.csv') as stateFile:\n",
    "    stateData = csv.reader(stateFile, delimiter=\",\")\n",
    "    i = 0\n",
    "    for row in stateData:\n",
    "        if i > 2 and i < 54 and i != 11:\n",
    "            abrv = stateKeys[row[2]]\n",
    "            opDict[abrv].append(row[-1])\n",
    "        i += 1"
   ]
  },
  {
   "cell_type": "code",
   "execution_count": 8,
   "metadata": {},
   "outputs": [],
   "source": [
    "for x in opDict:\n",
    "    curState = opDict[x]\n",
    "    val = (float(curState[1]) / 100000) * float(curState[0])\n",
    "    opDict[x].append(val)\n",
    "\n"
   ]
  },
  {
   "cell_type": "code",
   "execution_count": 11,
   "metadata": {},
   "outputs": [
    {
     "name": "stdout",
     "output_type": "stream",
     "text": [
      "AL ['7.5', '4863300', 364.7475]\n",
      "AK ['12.5', '741894', 92.73675]\n",
      "AZ ['11.4', '6931071', 790.142094]\n",
      "AR ['5.9', '2988248', 176.306632]\n",
      "CA ['4.9', '39250017', 1923.2508330000003]\n",
      "CO ['9.5', '5540545', 526.351775]\n",
      "CT ['24.5', '3576452', 876.23074]\n",
      "DE ['16.9', '952065', 160.89898499999998]\n",
      "FL ['14.4', '20612439', 2968.191216]\n",
      "GA ['8.8', '10310371', 907.3126480000001]\n",
      "HI ['5.2', '1428557', 74.284964]\n",
      "ID ['7.4', '1683140', 124.55236]\n",
      "IL ['15.3', '12801539', 1958.635467]\n",
      "IN ['12.6', '6633053', 835.7646779999999]\n",
      "IA ['6.2', '3134693', 194.350966]\n",
      "KS ['5.1', '2907289', 148.271739]\n",
      "KY ['23.6', '4436974', 1047.125864]\n",
      "LA ['7.7', '4681666', 360.488282]\n",
      "ME ['25.2', '1331479', 335.532708]\n",
      "MD ['29.7', '6016447', 1786.884759]\n",
      "MA ['29.7', '6811779', 2023.0983629999998]\n",
      "MI ['18.5', '9928300', 1836.7355]\n",
      "MN ['7.4', '5519952', 408.476448]\n",
      "MS ['6.2', '2988726', 185.30101200000001]\n",
      "MO ['15.9', '6093000', 968.787]\n",
      "MT ['4.2', '1042520', 43.78584]\n",
      "NE ['2.4', '1907116', 45.770784]\n",
      "NV ['13.3', '2940058', 391.02771400000006]\n",
      "NH ['35.8', '1334795', 477.85661]\n",
      "NJ ['16', '8944469', 1431.11504]\n",
      "NM ['17.5', '2081015', 364.177625]\n",
      "NY ['15.1', '19745289', 2981.538639]\n",
      "NC ['15.4', '10146788', 1562.605352]\n",
      "ND ['7.6', '757952', 57.60435199999999]\n",
      "OH ['32.9', '11614373', 3821.128717]\n",
      "OK ['11.6', '3923561', 455.133076]\n",
      "OR ['7.6', '4093465', 311.10333999999995]\n",
      "PA ['18.5', '12784227', 2365.081995]\n",
      "RI ['26.7', '1056426', 282.065742]\n",
      "SC ['13.1', '4961119', 649.9065889999999]\n",
      "SD ['5', '865454', 43.2727]\n",
      "TN ['18.1', '6651194', 1203.866114]\n",
      "TX ['4.9', '27862596', 1365.2672040000002]\n",
      "UT ['16.4', '3051217', 500.399588]\n",
      "VT ['18.4', '624594', 114.92529599999999]\n",
      "VA ['13.5', '8411808', 1135.59408]\n",
      "WA ['9.4', '7288000', 685.072]\n",
      "WV ['43.4', '1831102', 794.698268]\n",
      "WI ['15.8', '5778708', 913.0358640000001]\n",
      "WY ['8.7', '585501', 50.938587]\n"
     ]
    }
   ],
   "source": [
    "for x in opDict:\n",
    "    print(x, opDict[x])"
   ]
  },
  {
   "cell_type": "code",
   "execution_count": 17,
   "metadata": {},
   "outputs": [],
   "source": [
    "df = pd.DataFrame(opDict)\n",
    "df = df.T\n",
    "df.columns=[\"State\", \"Rate\", \"Pop\", \"Total Deaths\"]"
   ]
  },
  {
   "cell_type": "code",
   "execution_count": 19,
   "metadata": {},
   "outputs": [
    {
     "ename": "TypeError",
     "evalue": "to_csv() got an unexpected keyword argument 'names'",
     "output_type": "error",
     "traceback": [
      "\u001b[0;31m---------------------------------------------------------------------------\u001b[0m",
      "\u001b[0;31mTypeError\u001b[0m                                 Traceback (most recent call last)",
      "\u001b[0;32m<ipython-input-19-3835a6f62807>\u001b[0m in \u001b[0;36m<module>\u001b[0;34m\u001b[0m\n\u001b[1;32m      1\u001b[0m \u001b[0mf\u001b[0m \u001b[0;34m=\u001b[0m \u001b[0mopen\u001b[0m\u001b[0;34m(\u001b[0m\u001b[0;34m'RF_datasets/stateCounts.csv'\u001b[0m\u001b[0;34m,\u001b[0m \u001b[0;34m'w+'\u001b[0m\u001b[0;34m)\u001b[0m\u001b[0;34m\u001b[0m\u001b[0;34m\u001b[0m\u001b[0m\n\u001b[0;32m----> 2\u001b[0;31m \u001b[0mdf\u001b[0m\u001b[0;34m.\u001b[0m\u001b[0mto_csv\u001b[0m\u001b[0;34m(\u001b[0m\u001b[0;34m'RF_datasets/stateCounts.csv'\u001b[0m\u001b[0;34m,\u001b[0m \u001b[0msep\u001b[0m\u001b[0;34m=\u001b[0m\u001b[0;34m'\\t'\u001b[0m\u001b[0;34m,\u001b[0m \u001b[0mnames\u001b[0m\u001b[0;34m=\u001b[0m\u001b[0;34m[\u001b[0m\u001b[0;34m\"State\"\u001b[0m\u001b[0;34m,\u001b[0m \u001b[0;34m\"Rate\"\u001b[0m\u001b[0;34m,\u001b[0m \u001b[0;34m\"Pop\"\u001b[0m\u001b[0;34m,\u001b[0m \u001b[0;34m\"Total Deaths\"\u001b[0m\u001b[0;34m]\u001b[0m\u001b[0;34m)\u001b[0m\u001b[0;34m\u001b[0m\u001b[0;34m\u001b[0m\u001b[0m\n\u001b[0m",
      "\u001b[0;31mTypeError\u001b[0m: to_csv() got an unexpected keyword argument 'names'"
     ]
    }
   ],
   "source": [
    "f = open('RF_datasets/stateCounts.csv', 'w+')\n",
    "df.to_csv('RF_datasets/stateCounts.csv')"
   ]
  },
  {
   "cell_type": "code",
   "execution_count": null,
   "metadata": {},
   "outputs": [],
   "source": []
  }
 ],
 "metadata": {
  "kernelspec": {
   "display_name": "Python 3",
   "language": "python",
   "name": "python3"
  },
  "language_info": {
   "codemirror_mode": {
    "name": "ipython",
    "version": 3
   },
   "file_extension": ".py",
   "mimetype": "text/x-python",
   "name": "python",
   "nbconvert_exporter": "python",
   "pygments_lexer": "ipython3",
   "version": "3.7.4"
  }
 },
 "nbformat": 4,
 "nbformat_minor": 2
}
