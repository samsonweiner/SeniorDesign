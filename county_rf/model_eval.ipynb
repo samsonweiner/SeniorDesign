{
 "cells": [
  {
   "cell_type": "code",
   "execution_count": 1,
   "metadata": {},
   "outputs": [],
   "source": [
    "from model_select_eval_utils import load_data, select_model_one_fold, select_model_all_folds\n",
    "from model_select_eval_utils import evaluate_model, evaluate_bagging_model, write_model_results_to_file\n",
    "from sklearn.ensemble import RandomForestRegressor\n",
    "import numpy as np"
   ]
  },
  {
   "cell_type": "code",
   "execution_count": 4,
   "metadata": {},
   "outputs": [],
   "source": [
    "source_directory = \"/Users/samsonweiner/Desktop/SeniorDesign/epidemic_modeling/SeniorDesign/county_rf/stratified_data/\"\n",
    "input_features = [\"Poverty Rate\", \"Income\", \"Unemployment Rate\", \"Prescription Rate\"]\n",
    "labels = ['Death Rate']\n",
    "desc_features = ['id', 'description']\n",
    "\n",
    "forest_reg = RandomForestRegressor(random_state=42)\n",
    "param_grid = [\n",
    "        {'bootstrap':[False],'max_depth':[2,4,6,8], 'max_features':[2,3,4], 'min_samples_leaf':[2,4,6,8],\n",
    "         'max_leaf_nodes': [4,6,8,10,12],'min_samples_split':[2,4,6,8,10],'n_estimators': [20, 100, 150]},\n",
    "  ]"
   ]
  },
  {
   "cell_type": "code",
   "execution_count": 5,
   "metadata": {},
   "outputs": [],
   "source": [
    "best_models = select_model_all_folds(source_directory, forest_reg, \n",
    "                              input_features, labels, param_grid)"
   ]
  },
  {
   "cell_type": "code",
   "execution_count": null,
   "metadata": {},
   "outputs": [],
   "source": []
  },
  {
   "cell_type": "code",
   "execution_count": null,
   "metadata": {},
   "outputs": [],
   "source": []
  },
  {
   "cell_type": "code",
   "execution_count": null,
   "metadata": {},
   "outputs": [],
   "source": []
  }
 ],
 "metadata": {
  "kernelspec": {
   "display_name": "Python 3",
   "language": "python",
   "name": "python3"
  },
  "language_info": {
   "codemirror_mode": {
    "name": "ipython",
    "version": 3
   },
   "file_extension": ".py",
   "mimetype": "text/x-python",
   "name": "python",
   "nbconvert_exporter": "python",
   "pygments_lexer": "ipython3",
   "version": "3.7.4"
  }
 },
 "nbformat": 4,
 "nbformat_minor": 2
}
