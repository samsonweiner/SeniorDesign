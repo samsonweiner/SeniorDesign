{
 "cells": [
  {
   "cell_type": "code",
   "execution_count": 1,
   "metadata": {},
   "outputs": [],
   "source": [
    "import pandas as pd\n",
    "import numpy as np"
   ]
  },
  {
   "cell_type": "code",
   "execution_count": 2,
   "metadata": {},
   "outputs": [],
   "source": [
    "dataset = pd.read_csv(\"RF_datasets/finishedData.csv\")"
   ]
  },
  {
   "cell_type": "code",
   "execution_count": 3,
   "metadata": {},
   "outputs": [
    {
     "data": {
      "text/html": [
       "<div>\n",
       "<style scoped>\n",
       "    .dataframe tbody tr th:only-of-type {\n",
       "        vertical-align: middle;\n",
       "    }\n",
       "\n",
       "    .dataframe tbody tr th {\n",
       "        vertical-align: top;\n",
       "    }\n",
       "\n",
       "    .dataframe thead th {\n",
       "        text-align: right;\n",
       "    }\n",
       "</style>\n",
       "<table border=\"1\" class=\"dataframe\">\n",
       "  <thead>\n",
       "    <tr style=\"text-align: right;\">\n",
       "      <th></th>\n",
       "      <th>Unnamed: 0</th>\n",
       "      <th>Opioid Deaths</th>\n",
       "      <th>FIP</th>\n",
       "      <th>unemployment rate</th>\n",
       "      <th>MME per cap</th>\n",
       "      <th>% with bachelors</th>\n",
       "    </tr>\n",
       "  </thead>\n",
       "  <tbody>\n",
       "    <tr>\n",
       "      <th>0</th>\n",
       "      <td>Autauga County, AL</td>\n",
       "      <td>4.143150</td>\n",
       "      <td>1001.0</td>\n",
       "      <td>5.1</td>\n",
       "      <td>1084.0</td>\n",
       "      <td>25.0</td>\n",
       "    </tr>\n",
       "    <tr>\n",
       "      <th>1</th>\n",
       "      <td>Baldwin County, AL</td>\n",
       "      <td>15.578400</td>\n",
       "      <td>1003.0</td>\n",
       "      <td>5.3</td>\n",
       "      <td>1148.5</td>\n",
       "      <td>30.7</td>\n",
       "    </tr>\n",
       "    <tr>\n",
       "      <th>2</th>\n",
       "      <td>Barbour County, AL</td>\n",
       "      <td>1.936425</td>\n",
       "      <td>1005.0</td>\n",
       "      <td>8.3</td>\n",
       "      <td>577.6</td>\n",
       "      <td>12.0</td>\n",
       "    </tr>\n",
       "    <tr>\n",
       "      <th>3</th>\n",
       "      <td>Bibb County, AL</td>\n",
       "      <td>1.693200</td>\n",
       "      <td>1007.0</td>\n",
       "      <td>6.4</td>\n",
       "      <td>563.0</td>\n",
       "      <td>13.2</td>\n",
       "    </tr>\n",
       "    <tr>\n",
       "      <th>4</th>\n",
       "      <td>Blount County, AL</td>\n",
       "      <td>4.313775</td>\n",
       "      <td>1009.0</td>\n",
       "      <td>5.4</td>\n",
       "      <td>459.0</td>\n",
       "      <td>13.1</td>\n",
       "    </tr>\n",
       "  </tbody>\n",
       "</table>\n",
       "</div>"
      ],
      "text/plain": [
       "           Unnamed: 0  Opioid Deaths     FIP  unemployment rate  MME per cap  \\\n",
       "0  Autauga County, AL       4.143150  1001.0                5.1       1084.0   \n",
       "1  Baldwin County, AL      15.578400  1003.0                5.3       1148.5   \n",
       "2  Barbour County, AL       1.936425  1005.0                8.3        577.6   \n",
       "3     Bibb County, AL       1.693200  1007.0                6.4        563.0   \n",
       "4   Blount County, AL       4.313775  1009.0                5.4        459.0   \n",
       "\n",
       "   % with bachelors  \n",
       "0              25.0  \n",
       "1              30.7  \n",
       "2              12.0  \n",
       "3              13.2  \n",
       "4              13.1  "
      ]
     },
     "execution_count": 3,
     "metadata": {},
     "output_type": "execute_result"
    }
   ],
   "source": [
    "dataset.head()"
   ]
  },
  {
   "cell_type": "code",
   "execution_count": 4,
   "metadata": {},
   "outputs": [],
   "source": [
    "X = dataset.iloc[:, 3:].values\n",
    "y = dataset.iloc[:, 1].values"
   ]
  },
  {
   "cell_type": "code",
   "execution_count": 5,
   "metadata": {},
   "outputs": [
    {
     "name": "stdout",
     "output_type": "stream",
     "text": [
      "[[   5.1 1084.    25. ]\n",
      " [   5.3 1148.5   30.7]\n",
      " [   8.3  577.6   12. ]\n",
      " ...\n",
      " [   5.8 1067.8   17.4]\n",
      " [   4.8 1444.    21. ]\n",
      " [   5.   566.9   19.8]]\n"
     ]
    }
   ],
   "source": [
    "print(X)"
   ]
  },
  {
   "cell_type": "code",
   "execution_count": 6,
   "metadata": {},
   "outputs": [],
   "source": [
    "from sklearn.model_selection import train_test_split\n",
    "\n",
    "X_train, X_test, y_train, y_test = train_test_split(X, y, test_size=0.2, random_state=0)"
   ]
  },
  {
   "cell_type": "code",
   "execution_count": 7,
   "metadata": {},
   "outputs": [],
   "source": [
    "#from sklearn.preprocessing import StandardScaler\n",
    "\n",
    "#sc = StandardScaler()\n",
    "#X_train = sc.fit_transform(X_train)\n",
    "#X_test = sc.transform(X_test)"
   ]
  },
  {
   "cell_type": "code",
   "execution_count": 8,
   "metadata": {},
   "outputs": [],
   "source": [
    "from sklearn.ensemble import RandomForestRegressor\n",
    "\n",
    "regressor = RandomForestRegressor(n_estimators=20, random_state=0)\n",
    "regressor.fit(X_train, y_train)\n",
    "y_pred = regressor.predict(X_test)"
   ]
  },
  {
   "cell_type": "code",
   "execution_count": 9,
   "metadata": {},
   "outputs": [
    {
     "name": "stdout",
     "output_type": "stream",
     "text": [
      "Mean Absolute Error: 14.986720763499164\n",
      "Mean Squared Error: 1571.8607112257591\n",
      "Root Mean Squared Error: 39.64669861698145\n"
     ]
    }
   ],
   "source": [
    "from sklearn import metrics\n",
    "\n",
    "print('Mean Absolute Error:', metrics.mean_absolute_error(y_test, y_pred))\n",
    "print('Mean Squared Error:', metrics.mean_squared_error(y_test, y_pred))\n",
    "print('Root Mean Squared Error:', np.sqrt(metrics.mean_squared_error(y_test, y_pred)))"
   ]
  },
  {
   "cell_type": "code",
   "execution_count": 10,
   "metadata": {},
   "outputs": [
    {
     "name": "stdout",
     "output_type": "stream",
     "text": [
      "[ 2.986074  1.077015 10.517985  1.131328  0.593464  6.34868   2.454456\n",
      "  0.186456  4.717168  1.715714]\n",
      "[[   4.8 1463.8   12.9]\n",
      " [   4.9  967.6   23.7]\n",
      " [   4.1  766.6   28.3]\n",
      " [   7.9 1229.7   17.2]\n",
      " [   4.2  424.7   20.6]\n",
      " [   5.   377.5   18.9]\n",
      " [   4.9  571.1   19.8]\n",
      " [   3.2 1559.5   20.1]\n",
      " [   6.3  515.4    9.9]\n",
      " [   7.   735.9    8.5]]\n"
     ]
    }
   ],
   "source": [
    "print(y_train[0:10])\n",
    "print(X_train[0:10])"
   ]
  },
  {
   "cell_type": "code",
   "execution_count": null,
   "metadata": {},
   "outputs": [],
   "source": []
  }
 ],
 "metadata": {
  "kernelspec": {
   "display_name": "Python 3",
   "language": "python",
   "name": "python3"
  },
  "language_info": {
   "codemirror_mode": {
    "name": "ipython",
    "version": 3
   },
   "file_extension": ".py",
   "mimetype": "text/x-python",
   "name": "python",
   "nbconvert_exporter": "python",
   "pygments_lexer": "ipython3",
   "version": "3.7.4"
  }
 },
 "nbformat": 4,
 "nbformat_minor": 2
}
