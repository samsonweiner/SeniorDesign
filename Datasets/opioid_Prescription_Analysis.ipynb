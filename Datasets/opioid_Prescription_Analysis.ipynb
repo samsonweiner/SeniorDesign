{
 "cells": [
  {
   "cell_type": "code",
   "execution_count": 2,
   "metadata": {
    "scrolled": true
   },
   "outputs": [],
   "source": [
    "import pandas as pd \n",
    "#from matplotlib import pyplot as plt\n",
    "\n",
    "county = pd.read_csv('Opioid_prescription_amounts.csv')\n",
    "#print(county.head(10))"
   ]
  },
  {
   "cell_type": "code",
   "execution_count": 3,
   "metadata": {
    "scrolled": true
   },
   "outputs": [],
   "source": [
    "change = county[['State', '2010-2015_Change']]\n",
    "#print(change.head(10))"
   ]
  },
  {
   "cell_type": "code",
   "execution_count": 4,
   "metadata": {
    "scrolled": false
   },
   "outputs": [],
   "source": [
    "# Counts number of Stable among all states\n",
    "change_filter = change[(change['2010-2015_Change'] == 'Stable') | \n",
    "                       (change['2010-2015_Change'] == 'Increased') |\n",
    "                       (change['2010-2015_Change'] == 'Decreased')]\n",
    "#print(change_filter.head())"
   ]
  },
  {
   "cell_type": "code",
   "execution_count": 5,
   "metadata": {
    "scrolled": true
   },
   "outputs": [
    {
     "name": "stdout",
     "output_type": "stream",
     "text": [
      "Total number of counties labeled as stable, increased, or decreased:\n",
      "Stable:     761\n",
      "Increased:  617\n",
      "Decreased:  1356\n",
      "\n",
      "\n",
      "Below Represents the change in opioid prescriptions between the years 2010 and 2015:\n",
      "Percent Stable:     27.83 %\n",
      "Percent Increased:  22.57 %\n",
      "Percent Decreased:  49.6  %\n",
      "\n",
      "\n"
     ]
    }
   ],
   "source": [
    "# Get number of stable, increased, decreased\n",
    "stable = change_filter[change_filter['2010-2015_Change'] == 'Stable'].count().State\n",
    "increased = change_filter[change_filter['2010-2015_Change'] == 'Increased'].count().State\n",
    "decreased = change_filter[change_filter['2010-2015_Change'] == 'Decreased'].count().State\n",
    "total = stable + increased + decreased\n",
    "print('Total number of counties labeled as stable, increased, or decreased:')\n",
    "print('Stable:    ' , stable)\n",
    "print('Increased: ' , increased)\n",
    "print('Decreased: ' , decreased)\n",
    "print('\\n')\n",
    "print('Below Represents the change in opioid prescriptions between the years 2010 and 2015:')\n",
    "print('Percent Stable:    ', round((stable / total) * 100, 2), '%')\n",
    "print('Percent Increased: ', round((increased / total) * 100, 2), '%')\n",
    "print('Percent Decreased: ', round((decreased / total) * 100, 2), ' %')\n",
    "print('\\n')\n",
    "\n",
    "# Input a pie chart here\n"
   ]
  },
  {
   "cell_type": "code",
   "execution_count": 16,
   "metadata": {},
   "outputs": [
    {
     "name": "stdout",
     "output_type": "stream",
     "text": [
      "    FIPS State                County  MME_PerCap_2010  MME_PerCap_2015\n",
      "17  2122    AK       KENAI PENINSULA           1362.1           1343.7\n",
      "18  2170    AK     MATANUSKA SUSITNA            930.4            869.3\n",
      "19  2020    AK             ANCHORAGE            863.8            808.9\n",
      "20  2130    AK     KETCHIKAN GATEWAY            817.4            731.1\n",
      "21  2195    AK            PETERSBURG           1017.7            682.9\n",
      "22  2110    AK                JUNEAU            742.9            577.2\n",
      "23  2261    AK        VALDEZ CORDOVA            568.1            470.0\n",
      "25  2090    AK  FAIRBANKS NORTH STAR            461.0            413.6\n",
      "26  2150    AK         KODIAK ISLAND            386.3            199.4\n",
      "28  2275    AK              WRANGELL            250.3              1.6\n"
     ]
    }
   ],
   "source": [
    "# Filters out entries with no data \n",
    "county_filter = county[(county['2010-2015_Change'] == 'Stable') | \n",
    "                       (county['2010-2015_Change'] == 'Increased') |\n",
    "                       (county['2010-2015_Change'] == 'Decreased')]\n",
    "county_filter_new = county_filter[['FIPS', 'State', 'County', 'MME_PerCap_2010', 'MME_PerCap_2015']]\n",
    "print(county_filter_new.head(10))"
   ]
  },
  {
   "cell_type": "code",
   "execution_count": 18,
   "metadata": {
    "scrolled": false
   },
   "outputs": [
    {
     "name": "stdout",
     "output_type": "stream",
     "text": [
      "    FIPS State             County  MME_PerCap_2010  MME_PerCap_2015  Change\n",
      "17  2122    AK    KENAI PENINSULA           1362.1           1343.7   -1.35\n",
      "18  2170    AK  MATANUSKA SUSITNA            930.4            869.3   -6.57\n",
      "19  2020    AK          ANCHORAGE            863.8            808.9   -6.36\n",
      "20  2130    AK  KETCHIKAN GATEWAY            817.4            731.1  -10.56\n",
      "21  2195    AK         PETERSBURG           1017.7            682.9  -32.90\n"
     ]
    },
    {
     "name": "stderr",
     "output_type": "stream",
     "text": [
      "<ipython-input-18-02991f15fc98>:2: SettingWithCopyWarning: \n",
      "A value is trying to be set on a copy of a slice from a DataFrame.\n",
      "Try using .loc[row_indexer,col_indexer] = value instead\n",
      "\n",
      "See the caveats in the documentation: http://pandas.pydata.org/pandas-docs/stable/user_guide/indexing.html#returning-a-view-versus-a-copy\n",
      "  county_filter_new['Change'] = round(((county_filter_new['MME_PerCap_2015'] - county_filter_new['MME_PerCap_2010']) / \\\n"
     ]
    }
   ],
   "source": [
    "# Add new column to the countyu_filter_new\n",
    "county_filter_new['Change'] = round(((county_filter_new['MME_PerCap_2015'] - county_filter_new['MME_PerCap_2010']) / \\\n",
    "                              county_filter_new['MME_PerCap_2010']) * 100, 2)\n",
    "print(county_filter_new.head())"
   ]
  },
  {
   "cell_type": "code",
   "execution_count": 19,
   "metadata": {},
   "outputs": [
    {
     "name": "stdout",
     "output_type": "stream",
     "text": [
      "Below represents each state's average change in opioid prescription: \n",
      "\n",
      "\n",
      "Note: NC either has an inconsistency or a dangerous increase in prescriptions.\n",
      "FYI:  NC has one of the highest prescription opioid overdose levels.\n",
      "\n",
      "\n",
      "   State       Change\n",
      "0     AK   -25.533000\n",
      "1     AL    11.753485\n",
      "2     AR    17.139851\n",
      "3     AZ    -7.622857\n",
      "4     CA   -17.860179\n",
      "5     CO   -10.919608\n",
      "6     CT    -8.500000\n",
      "7     DC   -14.320000\n",
      "8     DE   -25.366667\n",
      "9     FL   -30.752424\n",
      "10    GA     5.171203\n",
      "11    HI   -31.365000\n",
      "12    IA    10.566809\n",
      "13    ID     5.983684\n",
      "14    IL   -10.059667\n",
      "15    IN   -17.454889\n",
      "16    KS    31.615217\n",
      "17    KY    -9.813684\n",
      "18    LA    -1.610536\n",
      "19    MA   -16.872143\n",
      "20    MD   -19.296250\n",
      "21    ME   -16.596250\n",
      "22    MI    -0.079136\n",
      "23    MN    -5.404578\n",
      "24    MO    31.105385\n",
      "25    MS    19.060548\n",
      "26    MT    -9.418378\n",
      "27    NC  6423.287766\n",
      "28    ND   -17.238571\n",
      "29    NE     5.032679\n",
      "30    NH    -2.188000\n",
      "31    NJ    -4.320476\n",
      "32    NM     2.360000\n",
      "33    NV    -5.133333\n",
      "34    NY     9.358197\n",
      "35    OH   -23.761932\n",
      "36    OK     0.805484\n",
      "37    OR   -16.547576\n",
      "38    PA    -3.380299\n",
      "39    RI   -16.938000\n",
      "40    SC   431.292826\n",
      "41    SD    -7.007674\n",
      "42    TN    14.121720\n",
      "43    TX   -14.481209\n",
      "44    UT    -1.778462\n",
      "45    VA    -2.072437\n",
      "46    VT    35.955385\n",
      "47    WA    -5.713947\n",
      "48    WI    -6.513571\n",
      "49    WV   121.419273\n",
      "50    WY     6.388182\n"
     ]
    }
   ],
   "source": [
    "# Now lets get the average percent change in each state\n",
    "county_new = county_filter_new.groupby(['State'])['Change'].mean().reset_index()\n",
    "print('Below represents each state\\'s average change in opioid prescription: ')\n",
    "print('\\n')\n",
    "print('Note: NC either has an inconsistency or a dangerous increase in prescriptions.')\n",
    "print('FYI:  NC has one of the highest prescription opioid overdose levels.')\n",
    "print('\\n')\n",
    "print(county_new)"
   ]
  },
  {
   "cell_type": "code",
   "execution_count": null,
   "metadata": {},
   "outputs": [],
   "source": []
  }
 ],
 "metadata": {
  "kernelspec": {
   "display_name": "Python 3",
   "language": "python",
   "name": "python3"
  },
  "language_info": {
   "codemirror_mode": {
    "name": "ipython",
    "version": 3
   },
   "file_extension": ".py",
   "mimetype": "text/x-python",
   "name": "python",
   "nbconvert_exporter": "python",
   "pygments_lexer": "ipython3",
   "version": "3.8.0"
  }
 },
 "nbformat": 4,
 "nbformat_minor": 2
}
