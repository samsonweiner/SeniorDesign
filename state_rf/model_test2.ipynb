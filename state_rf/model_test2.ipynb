{
 "cells": [
  {
   "cell_type": "code",
   "execution_count": 1,
   "metadata": {},
   "outputs": [],
   "source": [
    "from model_select_eval_utils import load_data, select_model_one_fold, select_model_all_folds\n",
    "from model_select_eval_utils import evaluate_model, evaluate_bagging_model, write_model_results_to_file\n",
    "from sklearn.ensemble import RandomForestRegressor\n",
    "import numpy as np"
   ]
  },
  {
   "cell_type": "code",
   "execution_count": 2,
   "metadata": {},
   "outputs": [],
   "source": [
    "source_directory = \"/Users/samsonweiner/Desktop/SeniorDesign/epidemic_modeling/SeniorDesign/state_rf/stratified_data/\"\n",
    "input_features = [\"edu\", \"employ\", \"MME\"]\n",
    "labels = ['deaths']\n",
    "desc_features = ['']\n",
    "\n",
    "forest_reg = RandomForestRegressor(random_state=42)\n",
    "param_grid = [\n",
    "        {'bootstrap':[False],'max_depth':[2,4,6,8], 'max_features':[2,3], 'min_samples_leaf':[2,4,6,8],\n",
    "         'max_leaf_nodes': [4,6,8,10,12],'min_samples_split':[2,4,6,8,10],'n_estimators': [3, 4, 5, 10, 15, 20]},\n",
    "  ]"
   ]
  },
  {
   "cell_type": "code",
   "execution_count": 3,
   "metadata": {},
   "outputs": [
    {
     "name": "stderr",
     "output_type": "stream",
     "text": [
      "/Users/samsonweiner/opt/anaconda3/lib/python3.7/site-packages/sklearn/model_selection/_search.py:814: DeprecationWarning: The default of the `iid` parameter will change from True to False in version 0.22 and will be removed in 0.24. This will change numeric results when test-set sizes are unequal.\n",
      "  DeprecationWarning)\n",
      "/Users/samsonweiner/opt/anaconda3/lib/python3.7/site-packages/sklearn/model_selection/_search.py:814: DeprecationWarning: The default of the `iid` parameter will change from True to False in version 0.22 and will be removed in 0.24. This will change numeric results when test-set sizes are unequal.\n",
      "  DeprecationWarning)\n",
      "/Users/samsonweiner/opt/anaconda3/lib/python3.7/site-packages/sklearn/model_selection/_search.py:814: DeprecationWarning: The default of the `iid` parameter will change from True to False in version 0.22 and will be removed in 0.24. This will change numeric results when test-set sizes are unequal.\n",
      "  DeprecationWarning)\n",
      "/Users/samsonweiner/opt/anaconda3/lib/python3.7/site-packages/sklearn/model_selection/_search.py:814: DeprecationWarning: The default of the `iid` parameter will change from True to False in version 0.22 and will be removed in 0.24. This will change numeric results when test-set sizes are unequal.\n",
      "  DeprecationWarning)\n",
      "/Users/samsonweiner/opt/anaconda3/lib/python3.7/site-packages/sklearn/model_selection/_search.py:814: DeprecationWarning: The default of the `iid` parameter will change from True to False in version 0.22 and will be removed in 0.24. This will change numeric results when test-set sizes are unequal.\n",
      "  DeprecationWarning)\n"
     ]
    }
   ],
   "source": [
    "best_models = select_model_all_folds(source_directory, forest_reg, \n",
    "                              input_features, labels, param_grid)"
   ]
  },
  {
   "cell_type": "code",
   "execution_count": 4,
   "metadata": {},
   "outputs": [
    {
     "name": "stdout",
     "output_type": "stream",
     "text": [
      "{'run_time': 265.949442, 'best_mse': -65.92663059208387, 'best_params': {'bootstrap': False, 'max_depth': 2, 'max_features': 2, 'max_leaf_nodes': 4, 'min_samples_leaf': 4, 'min_samples_split': 2, 'n_estimators': 3}}\n",
      "{'run_time': 253.29255800000004, 'best_mse': -65.61431749171189, 'best_params': {'bootstrap': False, 'max_depth': 4, 'max_features': 2, 'max_leaf_nodes': 6, 'min_samples_leaf': 2, 'min_samples_split': 8, 'n_estimators': 4}}\n",
      "{'run_time': 252.29503599999998, 'best_mse': -97.88952243832472, 'best_params': {'bootstrap': False, 'max_depth': 2, 'max_features': 2, 'max_leaf_nodes': 4, 'min_samples_leaf': 8, 'min_samples_split': 2, 'n_estimators': 3}}\n",
      "{'run_time': 249.4616900000001, 'best_mse': -100.71773208387984, 'best_params': {'bootstrap': False, 'max_depth': 4, 'max_features': 2, 'max_leaf_nodes': 4, 'min_samples_leaf': 6, 'min_samples_split': 2, 'n_estimators': 3}}\n",
      "{'run_time': 264.7341859999999, 'best_mse': -92.7771659253451, 'best_params': {'bootstrap': False, 'max_depth': 2, 'max_features': 2, 'max_leaf_nodes': 4, 'min_samples_leaf': 8, 'min_samples_split': 2, 'n_estimators': 15}}\n"
     ]
    }
   ],
   "source": [
    "for i in range(5):\n",
    "    print(best_models['best_model_' + str(i+1)])"
   ]
  },
  {
   "cell_type": "code",
   "execution_count": null,
   "metadata": {},
   "outputs": [],
   "source": []
  }
 ],
 "metadata": {
  "kernelspec": {
   "display_name": "Python 3",
   "language": "python",
   "name": "python3"
  },
  "language_info": {
   "codemirror_mode": {
    "name": "ipython",
    "version": 3
   },
   "file_extension": ".py",
   "mimetype": "text/x-python",
   "name": "python",
   "nbconvert_exporter": "python",
   "pygments_lexer": "ipython3",
   "version": "3.7.4"
  }
 },
 "nbformat": 4,
 "nbformat_minor": 2
}
