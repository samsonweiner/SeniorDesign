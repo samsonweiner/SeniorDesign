{
 "cells": [
  {
   "cell_type": "code",
   "execution_count": 1,
   "metadata": {},
   "outputs": [],
   "source": [
    "import pandas as pd\n",
    "import county_library as CL"
   ]
  },
  {
   "cell_type": "markdown",
   "metadata": {},
   "source": [
    "# Read and Prepare Data"
   ]
  },
  {
   "cell_type": "code",
   "execution_count": 2,
   "metadata": {},
   "outputs": [],
   "source": [
    "county2017 = pd.read_csv('county2017.csv')\n",
    "county2017 = CL.remove_suppressed(county2017)"
   ]
  },
  {
   "cell_type": "markdown",
   "metadata": {},
   "source": [
    "# Load Datasets"
   ]
  },
  {
   "cell_type": "code",
   "execution_count": 3,
   "metadata": {},
   "outputs": [],
   "source": [
    "poverty2017 = pd.read_csv('Poverty2017.csv')\n",
    "unemployment2017 = pd.read_excel('Unemployment.xls')\n",
    "prescription2017 = pd.read_csv('Prescriptions2017.csv')"
   ]
  },
  {
   "cell_type": "markdown",
   "metadata": {},
   "source": [
    "# Process Data"
   ]
  },
  {
   "cell_type": "code",
   "execution_count": 4,
   "metadata": {},
   "outputs": [],
   "source": [
    "county2017 = CL.merge_poverty(county2017, poverty2017)\n",
    "county2017 = CL.merge_unemployment(county2017, unemployment2017, '2017')\n",
    "county2017 = CL.merge_prescription_rate(county2017, prescription2017, '2017')"
   ]
  },
  {
   "cell_type": "markdown",
   "metadata": {},
   "source": [
    "# Finalize"
   ]
  },
  {
   "cell_type": "code",
   "execution_count": 5,
   "metadata": {},
   "outputs": [],
   "source": [
    "county2017 = CL.county_cleanup(county2017)"
   ]
  },
  {
   "cell_type": "code",
   "execution_count": 6,
   "metadata": {},
   "outputs": [
    {
     "data": {
      "text/html": [
       "<div>\n",
       "<style scoped>\n",
       "    .dataframe tbody tr th:only-of-type {\n",
       "        vertical-align: middle;\n",
       "    }\n",
       "\n",
       "    .dataframe tbody tr th {\n",
       "        vertical-align: top;\n",
       "    }\n",
       "\n",
       "    .dataframe thead th {\n",
       "        text-align: right;\n",
       "    }\n",
       "</style>\n",
       "<table border=\"1\" class=\"dataframe\">\n",
       "  <thead>\n",
       "    <tr style=\"text-align: right;\">\n",
       "      <th></th>\n",
       "      <th>FIPS</th>\n",
       "      <th>Poverty Rate</th>\n",
       "      <th>Income</th>\n",
       "      <th>Unemployment Rate</th>\n",
       "      <th>Prescription Rate</th>\n",
       "      <th>Death Rate</th>\n",
       "    </tr>\n",
       "  </thead>\n",
       "  <tbody>\n",
       "    <tr>\n",
       "      <th>0</th>\n",
       "      <td>1003</td>\n",
       "      <td>10.1</td>\n",
       "      <td>56607</td>\n",
       "      <td>4.1</td>\n",
       "      <td>106.7</td>\n",
       "      <td>9.88</td>\n",
       "    </tr>\n",
       "    <tr>\n",
       "      <th>1</th>\n",
       "      <td>1043</td>\n",
       "      <td>13.8</td>\n",
       "      <td>45925</td>\n",
       "      <td>3.8</td>\n",
       "      <td>141.1</td>\n",
       "      <td>13.29</td>\n",
       "    </tr>\n",
       "    <tr>\n",
       "      <th>2</th>\n",
       "      <td>1049</td>\n",
       "      <td>19.5</td>\n",
       "      <td>39906</td>\n",
       "      <td>4.5</td>\n",
       "      <td>103.2</td>\n",
       "      <td>15.36</td>\n",
       "    </tr>\n",
       "    <tr>\n",
       "      <th>3</th>\n",
       "      <td>1055</td>\n",
       "      <td>18.1</td>\n",
       "      <td>41791</td>\n",
       "      <td>4.6</td>\n",
       "      <td>130.5</td>\n",
       "      <td>26.28</td>\n",
       "    </tr>\n",
       "    <tr>\n",
       "      <th>4</th>\n",
       "      <td>1073</td>\n",
       "      <td>16.7</td>\n",
       "      <td>50731</td>\n",
       "      <td>4.3</td>\n",
       "      <td>104.2</td>\n",
       "      <td>24.42</td>\n",
       "    </tr>\n",
       "    <tr>\n",
       "      <th>5</th>\n",
       "      <td>1089</td>\n",
       "      <td>12.8</td>\n",
       "      <td>62750</td>\n",
       "      <td>3.9</td>\n",
       "      <td>100.5</td>\n",
       "      <td>4.99</td>\n",
       "    </tr>\n",
       "    <tr>\n",
       "      <th>6</th>\n",
       "      <td>1097</td>\n",
       "      <td>19.7</td>\n",
       "      <td>45615</td>\n",
       "      <td>5.2</td>\n",
       "      <td>118.4</td>\n",
       "      <td>3.38</td>\n",
       "    </tr>\n",
       "    <tr>\n",
       "      <th>7</th>\n",
       "      <td>1115</td>\n",
       "      <td>13.5</td>\n",
       "      <td>52755</td>\n",
       "      <td>4</td>\n",
       "      <td>105.0</td>\n",
       "      <td>14.74</td>\n",
       "    </tr>\n",
       "    <tr>\n",
       "      <th>8</th>\n",
       "      <td>1117</td>\n",
       "      <td>7.4</td>\n",
       "      <td>74098</td>\n",
       "      <td>3.2</td>\n",
       "      <td>89.6</td>\n",
       "      <td>12.64</td>\n",
       "    </tr>\n",
       "    <tr>\n",
       "      <th>9</th>\n",
       "      <td>1125</td>\n",
       "      <td>15.9</td>\n",
       "      <td>51644</td>\n",
       "      <td>4.2</td>\n",
       "      <td>99.9</td>\n",
       "      <td>5.77</td>\n",
       "    </tr>\n",
       "    <tr>\n",
       "      <th>10</th>\n",
       "      <td>2020</td>\n",
       "      <td>9.6</td>\n",
       "      <td>78579</td>\n",
       "      <td>5.8</td>\n",
       "      <td>59.4</td>\n",
       "      <td>16.99</td>\n",
       "    </tr>\n",
       "    <tr>\n",
       "      <th>11</th>\n",
       "      <td>2170</td>\n",
       "      <td>11.3</td>\n",
       "      <td>72296</td>\n",
       "      <td>8.2</td>\n",
       "      <td>69.3</td>\n",
       "      <td>14.08</td>\n",
       "    </tr>\n",
       "    <tr>\n",
       "      <th>12</th>\n",
       "      <td>4003</td>\n",
       "      <td>16.1</td>\n",
       "      <td>48966</td>\n",
       "      <td>5.6</td>\n",
       "      <td>69.0</td>\n",
       "      <td>12.83</td>\n",
       "    </tr>\n",
       "    <tr>\n",
       "      <th>13</th>\n",
       "      <td>4005</td>\n",
       "      <td>18.4</td>\n",
       "      <td>54399</td>\n",
       "      <td>5.5</td>\n",
       "      <td>42.4</td>\n",
       "      <td>7.10</td>\n",
       "    </tr>\n",
       "    <tr>\n",
       "      <th>14</th>\n",
       "      <td>4013</td>\n",
       "      <td>13.5</td>\n",
       "      <td>62221</td>\n",
       "      <td>4.2</td>\n",
       "      <td>59.2</td>\n",
       "      <td>13.70</td>\n",
       "    </tr>\n",
       "  </tbody>\n",
       "</table>\n",
       "</div>"
      ],
      "text/plain": [
       "    FIPS Poverty Rate Income Unemployment Rate  Prescription Rate  Death Rate\n",
       "0   1003         10.1  56607               4.1              106.7        9.88\n",
       "1   1043         13.8  45925               3.8              141.1       13.29\n",
       "2   1049         19.5  39906               4.5              103.2       15.36\n",
       "3   1055         18.1  41791               4.6              130.5       26.28\n",
       "4   1073         16.7  50731               4.3              104.2       24.42\n",
       "5   1089         12.8  62750               3.9              100.5        4.99\n",
       "6   1097         19.7  45615               5.2              118.4        3.38\n",
       "7   1115         13.5  52755                 4              105.0       14.74\n",
       "8   1117          7.4  74098               3.2               89.6       12.64\n",
       "9   1125         15.9  51644               4.2               99.9        5.77\n",
       "10  2020          9.6  78579               5.8               59.4       16.99\n",
       "11  2170         11.3  72296               8.2               69.3       14.08\n",
       "12  4003         16.1  48966               5.6               69.0       12.83\n",
       "13  4005         18.4  54399               5.5               42.4        7.10\n",
       "14  4013         13.5  62221               4.2               59.2       13.70"
      ]
     },
     "execution_count": 6,
     "metadata": {},
     "output_type": "execute_result"
    }
   ],
   "source": [
    "county2017.head(15)"
   ]
  },
  {
   "cell_type": "markdown",
   "metadata": {},
   "source": [
    "# Export to CSV"
   ]
  },
  {
   "cell_type": "code",
   "execution_count": 7,
   "metadata": {},
   "outputs": [],
   "source": [
    "county2017.to_csv('county2017_final.csv')"
   ]
  },
  {
   "cell_type": "code",
   "execution_count": null,
   "metadata": {},
   "outputs": [],
   "source": []
  }
 ],
 "metadata": {
  "kernelspec": {
   "display_name": "Python 3",
   "language": "python",
   "name": "python3"
  },
  "language_info": {
   "codemirror_mode": {
    "name": "ipython",
    "version": 3
   },
   "file_extension": ".py",
   "mimetype": "text/x-python",
   "name": "python",
   "nbconvert_exporter": "python",
   "pygments_lexer": "ipython3",
   "version": "3.7.6"
  }
 },
 "nbformat": 4,
 "nbformat_minor": 2
}
