{
 "cells": [
  {
   "cell_type": "code",
   "execution_count": 1,
   "metadata": {},
   "outputs": [],
   "source": [
    "import pandas as pd\n",
    "import numpy as np\n",
    "import csv"
   ]
  },
  {
   "cell_type": "code",
   "execution_count": 2,
   "metadata": {},
   "outputs": [],
   "source": [
    "abrvKeys = {'Alabama': 'AL', 'Alaska': 'AK', 'Arizona': 'AZ', 'Arkansas': 'AR', 'California': 'CA', 'Colorado': 'CO', 'Connecticut': 'CT', 'Delaware': 'DE', 'Florida': 'FL', 'Georgia': 'GA', 'Hawaii': 'HI', 'Idaho': 'ID', 'Illinois': 'IL', 'Indiana': 'IN', 'Iowa': 'IA', 'Kansas': 'KS', 'Kentucky': 'KY', 'Louisiana': 'LA', 'Maine': 'ME', 'Maryland': 'MD', 'Massachusetts': 'MA', 'Michigan': 'MI', 'Minnesota': 'MN', 'Mississippi': 'MS', 'Missouri': 'MO', 'Montana': 'MT', 'Nebraska': 'NE', 'Nevada': 'NV', 'New Hampshire': 'NH', 'New Jersey': 'NJ', 'New Mexico': 'NM', 'New York': 'NY', 'North Carolina': 'NC', 'North Dakota': 'ND', 'Ohio': 'OH', 'Oklahoma': 'OK', 'Oregon': 'OR', 'Pennsylvania': 'PA', 'Rhode Island': 'RI', 'South Carolina': 'SC', 'South Dakota': 'SD', 'Tennessee': 'TN', 'Texas': 'TX', 'Utah': 'UT', 'Vermont': 'VT', 'Virginia': 'VA', 'Washington': 'WA', 'West Virginia': 'WV', 'Wisconsin': 'WI', 'Wyoming': 'WY'}\n",
    "fullkeys = {'AL': 'Alabama', 'AK': 'Alaska', 'AZ': 'Arizona', 'AR': 'Arkansas', 'CA': 'California', 'CO': 'Colorado', 'CT': 'Connecticut', 'DE': 'Delaware', 'FL': 'Florida', 'GA': 'Georgia', 'HI': 'Hawaii', 'ID': 'Idaho', 'IL': 'Illinois', 'IN': 'Indiana', 'IA': 'Iowa', 'KS': 'Kansas', 'KY': 'Kentucky', 'LA': 'Louisiana', 'ME': 'Maine', 'MD': 'Maryland', 'MA': 'Massachusetts', 'MI': 'Michigan', 'MN': 'Minnesota', 'MS': 'Mississippi', 'MO': 'Missouri', 'MT': 'Montana', 'NE': 'Nebraska', 'NV': 'Nevada', 'NH': 'New Hampshire', 'NJ': 'New Jersey', 'NM': 'New Mexico', 'NY': 'New York', 'NC': 'North Carolina', 'ND': 'North Dakota', 'OH': 'Ohio', 'OK': 'Oklahoma', 'OR': 'Oregon', 'PA': 'Pennsylvania', 'RI': 'Rhode Island', 'SC': 'South Carolina', 'SD': 'South Dakota', 'TN': 'Tennessee', 'TX': 'Texas', 'UT': 'Utah', 'VT': 'Vermont', 'VA': 'Virginia', 'WA': 'Washington', 'WV': 'West Virginia', 'WI': 'Wisconsin', 'WY': 'Wyoming'}"
   ]
  },
  {
   "cell_type": "code",
   "execution_count": 3,
   "metadata": {},
   "outputs": [],
   "source": [
    "stateDict = {}\n",
    "#state = pop, number of deaths, education, unemployment, mme per cap"
   ]
  },
  {
   "cell_type": "code",
   "execution_count": 6,
   "metadata": {},
   "outputs": [],
   "source": [
    "#get state keys, and initialize values with pop and death count\n",
    "with open('../RF_datasets/Used_Data/stateCounts.csv') as stateFile:\n",
    "    stateData = csv.reader(stateFile, delimiter=\",\")\n",
    "    i = 0\n",
    "    stateDict['state'] = []\n",
    "    stateDict['rate'] = []\n",
    "    for row in stateData:\n",
    "        #print(row)\n",
    "        if i > 0:\n",
    "            #stateDict[row[0]] = [float(row[2]), float(row[1])]\n",
    "            stateDict['state'].append(row[0])\n",
    "            stateDict['rate'].append(row[1])\n",
    "        i += 1"
   ]
  },
  {
   "cell_type": "code",
   "execution_count": 5,
   "metadata": {},
   "outputs": [],
   "source": [
    "#education\n",
    "with open('RF_datasets/Used_Data/Education.csv') as eduFile:\n",
    "    eduData = csv.reader(eduFile, delimiter=\",\")\n",
    "    i = 0\n",
    "    stateDict['edu'] = []\n",
    "    for row in eduData:\n",
    "        if i > 4:\n",
    "            if row[1] in fullkeys:\n",
    "                if fullkeys[row[1]] == row[2]:\n",
    "                    stateDict['edu'].append(float(row[46]))\n",
    "        i += 1"
   ]
  },
  {
   "cell_type": "code",
   "execution_count": 6,
   "metadata": {},
   "outputs": [],
   "source": [
    "#unemployment\n",
    "with open('RF_datasets/Used_Data/Unemployment.csv') as employFile:\n",
    "    employData = csv.reader(employFile, delimiter=\",\")\n",
    "    i = 0\n",
    "    stateDict['employ'] = []\n",
    "    for row in employData:\n",
    "        if i > 7:\n",
    "            if row[1] in fullkeys:\n",
    "                if fullkeys[row[1]] == row[2]:\n",
    "                    stateDict['employ'].append(float(row[45]))\n",
    "        i += 1"
   ]
  },
  {
   "cell_type": "code",
   "execution_count": 7,
   "metadata": {},
   "outputs": [],
   "source": [
    "#make seperate dictionary with state populations from the file\n",
    "popDict = {}\n",
    "for state in abrvKeys:\n",
    "    popDict[state] = 0\n",
    "with open('RF_datasets/Used_Data/Prescription_Population_Combined.csv') as presFile:\n",
    "    presData = csv.reader(presFile, delimiter=\",\")\n",
    "    i = 0\n",
    "    for row in presData:\n",
    "        if i > 0:\n",
    "            tempIndex = row[1].index(',')\n",
    "            county = row[1][:tempIndex]\n",
    "            state = row[1][tempIndex + 2:]\n",
    "            if state in popDict and row[14] != \"N/A\":\n",
    "                popDict[state] += float(row[10])\n",
    "        i += 1"
   ]
  },
  {
   "cell_type": "code",
   "execution_count": 8,
   "metadata": {},
   "outputs": [],
   "source": [
    "#finally prescription mme per cap. need to do some extra work here\n",
    "with open('RF_datasets/Used_Data/Prescription_Population_Combined.csv') as presFile:\n",
    "    presData = csv.reader(presFile, delimiter=\",\")\n",
    "    i = 0\n",
    "    curState = ''\n",
    "    curAverage = 0\n",
    "    statePop = 0\n",
    "    for row in presData:\n",
    "        if i > 0:\n",
    "            tempIndex = row[1].index(',')\n",
    "            county = row[1][:tempIndex]\n",
    "            state = row[1][tempIndex + 2:]\n",
    "            if state in abrvKeys and row[14] != \"N/A\":\n",
    "                #different state\n",
    "                if state != curState:\n",
    "                    #print(curState, curAverage)\n",
    "                    if curState != '':\n",
    "                        stateDict[abrvKeys[curState]].append(curAverage)\n",
    "                    curState = state\n",
    "                    curAverage = 0\n",
    "                    statePop = popDict[state]\n",
    "                countyPop = float(row[10])\n",
    "                countyMME = float(row[14])\n",
    "                popPercent = countyPop / statePop\n",
    "                curAverage += countyMME * popPercent\n",
    "                \n",
    "        i += 1\n",
    "    print(abrvKeys[curState])\n",
    "    #stateDict[abrvKeys[curState]].append(curAverage)"
   ]
  },
  {
   "cell_type": "code",
   "execution_count": 14,
   "metadata": {},
   "outputs": [
    {
     "name": "stdout",
     "output_type": "stream",
     "text": [
      "CO [5540545.0, 526.351775, 39.4, 618.7235606021876]\n",
      "LA [4681666.0, 360.488282, 6.1, 692.0305160425748]\n"
     ]
    }
   ],
   "source": [
    "for x in stateDict:\n",
    "    if len(stateDict[x]) != 5:\n",
    "        print(x, stateDict[x])"
   ]
  },
  {
   "cell_type": "code",
   "execution_count": 15,
   "metadata": {},
   "outputs": [
    {
     "name": "stdout",
     "output_type": "stream",
     "text": [
      "[5540545.0, 526.351775, 39.4, '3.2', 618.7235606021876]\n"
     ]
    }
   ],
   "source": [
    "stateDict['CO'].insert(3, 3.2)\n",
    "print(stateDict['CO'])"
   ]
  },
  {
   "cell_type": "code",
   "execution_count": 16,
   "metadata": {},
   "outputs": [
    {
     "name": "stdout",
     "output_type": "stream",
     "text": [
      "[4681666.0, 360.488282, 23.4, 6.1, 692.0305160425748]\n"
     ]
    }
   ],
   "source": [
    "stateDict['LA'].insert(2, 23.4)\n",
    "print(stateDict['LA'])"
   ]
  },
  {
   "cell_type": "code",
   "execution_count": 7,
   "metadata": {},
   "outputs": [],
   "source": [
    "state_df = pd.DataFrame(stateDict)\n",
    "#state_df = state_df.T"
   ]
  },
  {
   "cell_type": "code",
   "execution_count": 9,
   "metadata": {},
   "outputs": [],
   "source": [
    "f = open('../RF_datasets/test_stateData.csv', 'w+')\n",
    "state_df.to_csv('../RF_datasets/test_stateData.csv')"
   ]
  },
  {
   "cell_type": "code",
   "execution_count": null,
   "metadata": {},
   "outputs": [],
   "source": []
  }
 ],
 "metadata": {
  "kernelspec": {
   "display_name": "Python 3",
   "language": "python",
   "name": "python3"
  },
  "language_info": {
   "codemirror_mode": {
    "name": "ipython",
    "version": 3
   },
   "file_extension": ".py",
   "mimetype": "text/x-python",
   "name": "python",
   "nbconvert_exporter": "python",
   "pygments_lexer": "ipython3",
   "version": "3.7.4"
  }
 },
 "nbformat": 4,
 "nbformat_minor": 2
}
