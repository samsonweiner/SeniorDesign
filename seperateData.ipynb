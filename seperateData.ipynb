{
 "cells": [
  {
   "cell_type": "code",
   "execution_count": 1,
   "metadata": {},
   "outputs": [],
   "source": [
    "import pandas as pd\n",
    "import numpy as np\n",
    "import csv"
   ]
  },
  {
   "cell_type": "code",
   "execution_count": 13,
   "metadata": {},
   "outputs": [],
   "source": [
    "CA_dict = {}\n",
    "other_dict = {}\n",
    "with open('RF_datasets/finishedData.csv') as dataFile:\n",
    "    dataset = csv.reader(dataFile, delimiter=\",\")\n",
    "    i = 0\n",
    "    for row in dataset:\n",
    "        if i > 0:\n",
    "            curIndex = row[0].index(',') + 2\n",
    "            state = row[0][curIndex:]\n",
    "            if state == \"CA\":\n",
    "                CA_dict[row[0]] = row[1:]\n",
    "            else:\n",
    "                other_dict[row[0]] = row[1:]\n",
    "        i += 1"
   ]
  },
  {
   "cell_type": "code",
   "execution_count": 15,
   "metadata": {},
   "outputs": [],
   "source": [
    "CA_df = pd.DataFrame(CA_dict)\n",
    "CA_df = CA_df.T"
   ]
  },
  {
   "cell_type": "code",
   "execution_count": 16,
   "metadata": {},
   "outputs": [],
   "source": [
    "f = open('RF_datasets/CA_data.csv', 'w+')\n",
    "CA_df.to_csv('RF_datasets/CA_data.csv')"
   ]
  },
  {
   "cell_type": "code",
   "execution_count": null,
   "metadata": {},
   "outputs": [],
   "source": []
  }
 ],
 "metadata": {
  "kernelspec": {
   "display_name": "Python 3",
   "language": "python",
   "name": "python3"
  },
  "language_info": {
   "codemirror_mode": {
    "name": "ipython",
    "version": 3
   },
   "file_extension": ".py",
   "mimetype": "text/x-python",
   "name": "python",
   "nbconvert_exporter": "python",
   "pygments_lexer": "ipython3",
   "version": "3.7.4"
  }
 },
 "nbformat": 4,
 "nbformat_minor": 2
}
