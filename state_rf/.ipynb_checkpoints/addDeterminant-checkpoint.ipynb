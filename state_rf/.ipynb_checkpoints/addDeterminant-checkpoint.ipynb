{
 "cells": [
  {
   "cell_type": "code",
   "execution_count": 1,
   "metadata": {},
   "outputs": [],
   "source": [
    "import pandas as pd\n",
    "import numpy as np\n",
    "import csv"
   ]
  },
  {
   "cell_type": "code",
   "execution_count": 2,
   "metadata": {},
   "outputs": [],
   "source": [
    "state_df = pd.read_csv('../RF_datasets/stateData.csv')"
   ]
  },
  {
   "cell_type": "code",
   "execution_count": 4,
   "metadata": {},
   "outputs": [],
   "source": [
    "income = {'Alabama': \"46,257\", \"Alaska\": \"76,440\", \"Arizona\": \"53,558\", \"Arkansas\": \"44,334\", \n",
    "          \"California\": \"67,739\", \"Colorado\": \"65,685\", \"Connecticut\": \"73,433\", \"Delaware\": \"61,757\",\n",
    "          \"Florida\": \"50,860\", \"Georgia\": \"51,753\", \"Hawaii\": \"74,451\", \"Idaho\": \"48,728\",\n",
    "          \"Illinois\": \"60,094\", \"Indiana\": \"50,896\", \"Iowa\": \"55,172\", \"Kansas\": \"54,520\",\n",
    "          \"Kentucky\": \"45,541\", \"Luisiana\": \"46,106\", \"Maine\": \"52,111\", \"Maryland\": \"76,596\",\n",
    "          \"Massachusetts\": \"71,146\", \"Michigan\": \"51,584\", \"Minnesota\": \"64,188\", \"Mississippi\": \"40,910\",\n",
    "          \"Missouri\": \"50,642\", \"Montana\": \"49,924\", \"Nebraska\": \"55,474\", \"Nevada\": \"53,320\",\n",
    "          \"New Hampshire\": \"70,813\", \"New Jersey\": \"73,242\", \"New Mexico\": \"45,710\", \"New York\": \"61,311\",\n",
    "          \"North Carolina\": \"48,420\", \"North Dakota\": \"60,944\", \"Ohio\": \"51,610\", \"Oklahoma\": \"49,062\",\n",
    "          \"Oregon\": \"54,748\", \"Pennsylvania\": \"56,207\", \"Rhode Island\": \"58,826\", \"South Carolina\": \"47,790\",\n",
    "          \"South Dakota\": \"53,746\", \"Tennessee\": \"47,818\", \"Texas\": \"56,139\", \"Utah\": \"63,794\",\n",
    "          \"Vermont\": \"57,565\", \"Virginia\": \"66,916\", \"Washington\": \"64,764\", \"West Virginia\": \"42,620\",\n",
    "          \"Wisconsin\": \"56,115\", \"Wyoming\": \"60,570\"}"
   ]
  },
  {
   "cell_type": "code",
   "execution_count": 6,
   "metadata": {},
   "outputs": [
    {
     "name": "stdout",
     "output_type": "stream",
     "text": [
      "Alabama 46,257\n",
      "Alaska 76,440\n",
      "Arizona 53,558\n",
      "Arkansas 44,334\n",
      "California 67,739\n",
      "Colorado 65,685\n",
      "Connecticut 73,433\n",
      "Delaware 61,757\n",
      "Florida 50,860\n",
      "Georgia 51,753\n",
      "Hawaii 74,451\n",
      "Idaho 48,728\n",
      "Illinois 60,094\n",
      "Indiana 50,896\n",
      "Iowa 55,172\n",
      "Kansas 54,520\n",
      "Kentucky 45,541\n",
      "Luisiana 46,106\n",
      "Maine 52,111\n",
      "Maryland 76,596\n",
      "Massachusetts 71,146\n",
      "Michigan 51,584\n",
      "Minnesota 64,188\n",
      "Mississippi 40,910\n",
      "Missouri 50,642\n",
      "Montana 49,924\n",
      "Nebraska 55,474\n",
      "Nevada 53,320\n",
      "New Hampshire 70,813\n",
      "New Jersey 73,242\n",
      "New Mexico 45,710\n",
      "New York 61,311\n",
      "North Carolina 48,420\n",
      "North Dakota 60,944\n",
      "Ohio 51,610\n",
      "Oklahoma 49,062\n",
      "Oregon 54,748\n",
      "Pennsylvania 56,207\n",
      "Rhode Island 58,826\n",
      "South Carolina 47,790\n",
      "South Dakota 53,746\n",
      "Tennessee 47,818\n",
      "Texas 56,139\n",
      "Utah 63,794\n",
      "Vermont 57,565\n",
      "Virginia 66,916\n",
      "Washington 64,764\n",
      "West Virginia 42,620\n",
      "Wisconsin 56,115\n",
      "Wyoming 60,570\n"
     ]
    }
   ],
   "source": [
    "for x in income:\n",
    "    value = income[x]\n",
    "    print(value.replace(\",\", \"\"))"
   ]
  },
  {
   "cell_type": "code",
   "execution_count": null,
   "metadata": {},
   "outputs": [],
   "source": []
  }
 ],
 "metadata": {
  "kernelspec": {
   "display_name": "Python 3",
   "language": "python",
   "name": "python3"
  },
  "language_info": {
   "codemirror_mode": {
    "name": "ipython",
    "version": 3
   },
   "file_extension": ".py",
   "mimetype": "text/x-python",
   "name": "python",
   "nbconvert_exporter": "python",
   "pygments_lexer": "ipython3",
   "version": "3.7.4"
  }
 },
 "nbformat": 4,
 "nbformat_minor": 2
}
