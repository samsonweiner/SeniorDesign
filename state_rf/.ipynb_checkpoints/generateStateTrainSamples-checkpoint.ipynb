{
 "cells": [
  {
   "cell_type": "code",
   "execution_count": 2,
   "metadata": {},
   "outputs": [],
   "source": [
    "import pandas as pd\n",
    "import numpy as np\n",
    "import os\n",
    "from sklearn.model_selection import StratifiedShuffleSplit"
   ]
  },
  {
   "cell_type": "code",
   "execution_count": 3,
   "metadata": {},
   "outputs": [],
   "source": [
    "def createStratifiedShuffleSplits(df, extreme_data, strat_feature, dest_directory) :\n",
    "    # creates 5-fold CV train/test 80/20 splits with stratified sampling, using a strat field supplied as an\n",
    "    # input parameter.\n",
    "    # \n",
    "    # Parameters:\n",
    "    #\n",
    "    # df -- the pandas dataframe to split into 5 folds\n",
    "    # extreme_data -- boolean value - True for creating splits for the data having extreme values of \n",
    "    #                                        strat field\n",
    "    #                                        False for creating splits for the data with non-extreme values\n",
    "    # strat_feature - name of the field to do stratified sampling on. occlus_elast_cat, or occlusive_cat\n",
    "    # dest_directory - destination directory for the splits files.\n",
    "    \n",
    "    #print_value_counts(df, \"Complete Data Set\", strat_feature)\n",
    "    split = StratifiedShuffleSplit(n_splits=5, test_size=0.2, random_state=42)\n",
    "    i = 1\n",
    "    for train_index, test_index in split.split(df, df[strat_feature]):\n",
    "        # create train/test split from the indexes produced by the \n",
    "        # call on the StratShuffleSplit.split() method.\n",
    "        strat_train_set = df.loc[train_index]\n",
    "        strat_test_set = df.loc[test_index]\n",
    "\n",
    "        # report the distribution of records across occlusive categories.\n",
    "        # should be very similar to distribution for entire dataset.\n",
    "        print_value_counts(strat_train_set, 'training set ' + str(i), strat_feature)\n",
    "        print_value_counts(strat_test_set, 'test set ' + str(i), strat_feature)\n",
    "        \n",
    "        # save each train/test set split to a .csv file.\n",
    "        strat_train_set.to_csv(dest_directory + '/strat_fold_' + str(i) + '_train.csv')\n",
    "        strat_test_set.to_csv(dest_directory + '/strat_fold_' + str(i) + '_test.csv')\n",
    "\n",
    "        #increment index for next train/test split\n",
    "        i += 1"
   ]
  },
  {
   "cell_type": "code",
   "execution_count": 4,
   "metadata": {},
   "outputs": [],
   "source": [
    "def print_value_counts(df, df_name, fieldName):\n",
    "    print(fieldName + ' Distribution: ' + df_name)\n",
    "    print('Value \\t Percentage')\n",
    "    print(df[fieldName].value_counts() / len(df))\n",
    "    print('Total count: ' + str(len(df)))\n",
    "    print()"
   ]
  },
  {
   "cell_type": "code",
   "execution_count": 5,
   "metadata": {},
   "outputs": [],
   "source": [
    "state_df = pd.read_csv('../RF_datasets/stateData.csv')"
   ]
  },
  {
   "cell_type": "code",
   "execution_count": 6,
   "metadata": {},
   "outputs": [],
   "source": [
    "#createStratifiedShuffleSplits(df = state_df, extreme_data = True, strat_feature = \"num deaths\", dest_directory = '/Users/samsonweiner/Desktop/SeniorDesign/epidemic_modeling/SeniorDesign/state_rf')"
   ]
  },
  {
   "cell_type": "code",
   "execution_count": 7,
   "metadata": {},
   "outputs": [
    {
     "data": {
      "text/plain": [
       "5"
      ]
     },
     "execution_count": 7,
     "metadata": {},
     "output_type": "execute_result"
    }
   ],
   "source": [
    "X2 = np.array([[1, 2], [3, 4], [1, 2], [3, 4], [1, 2], [3, 4]])\n",
    "Y2 = np.array([0, 0, 0, 1, 1, 1])\n",
    "sss = StratifiedShuffleSplit(n_splits=5, test_size=0.2, random_state=0)\n",
    "sss.get_n_splits(X2, Y2)"
   ]
  },
  {
   "cell_type": "code",
   "execution_count": 16,
   "metadata": {},
   "outputs": [
    {
     "name": "stdout",
     "output_type": "stream",
     "text": [
      "TRAIN: [2 5 1 3] TEST: [0 4]\n",
      "TRAIN: [0 4 3 1] TEST: [2 5]\n",
      "TRAIN: [0 4 3 1] TEST: [2 5]\n",
      "TRAIN: [5 4 1 2] TEST: [0 3]\n"
     ]
    }
   ],
   "source": [
    "for train_index, test_index in sss.split(X2, Y2):\n",
    "    print(\"TRAIN:\", train_index, \"TEST:\", test_index)"
   ]
  },
  {
   "cell_type": "code",
   "execution_count": 10,
   "metadata": {},
   "outputs": [
    {
     "data": {
      "text/html": [
       "<div>\n",
       "<style scoped>\n",
       "    .dataframe tbody tr th:only-of-type {\n",
       "        vertical-align: middle;\n",
       "    }\n",
       "\n",
       "    .dataframe tbody tr th {\n",
       "        vertical-align: top;\n",
       "    }\n",
       "\n",
       "    .dataframe thead th {\n",
       "        text-align: right;\n",
       "    }\n",
       "</style>\n",
       "<table border=\"1\" class=\"dataframe\">\n",
       "  <thead>\n",
       "    <tr style=\"text-align: right;\">\n",
       "      <th></th>\n",
       "      <th>Unnamed: 0</th>\n",
       "      <th>population</th>\n",
       "      <th>num deaths</th>\n",
       "      <th>education</th>\n",
       "      <th>unemployment</th>\n",
       "      <th>MME per cap</th>\n",
       "    </tr>\n",
       "  </thead>\n",
       "  <tbody>\n",
       "    <tr>\n",
       "      <th>0</th>\n",
       "      <td>AL</td>\n",
       "      <td>4863300.0</td>\n",
       "      <td>364.747500</td>\n",
       "      <td>24.5</td>\n",
       "      <td>5.8</td>\n",
       "      <td>1037.824230</td>\n",
       "    </tr>\n",
       "    <tr>\n",
       "      <th>1</th>\n",
       "      <td>AK</td>\n",
       "      <td>741894.0</td>\n",
       "      <td>92.736750</td>\n",
       "      <td>29.0</td>\n",
       "      <td>6.9</td>\n",
       "      <td>757.650696</td>\n",
       "    </tr>\n",
       "    <tr>\n",
       "      <th>2</th>\n",
       "      <td>AZ</td>\n",
       "      <td>6931071.0</td>\n",
       "      <td>790.142094</td>\n",
       "      <td>28.4</td>\n",
       "      <td>5.4</td>\n",
       "      <td>849.237172</td>\n",
       "    </tr>\n",
       "    <tr>\n",
       "      <th>3</th>\n",
       "      <td>AR</td>\n",
       "      <td>2988248.0</td>\n",
       "      <td>176.306632</td>\n",
       "      <td>22.0</td>\n",
       "      <td>4.0</td>\n",
       "      <td>922.833575</td>\n",
       "    </tr>\n",
       "    <tr>\n",
       "      <th>4</th>\n",
       "      <td>CA</td>\n",
       "      <td>39250017.0</td>\n",
       "      <td>1923.250833</td>\n",
       "      <td>32.6</td>\n",
       "      <td>5.5</td>\n",
       "      <td>462.578769</td>\n",
       "    </tr>\n",
       "  </tbody>\n",
       "</table>\n",
       "</div>"
      ],
      "text/plain": [
       "  Unnamed: 0  population   num deaths  education  unemployment  MME per cap\n",
       "0         AL   4863300.0   364.747500       24.5           5.8  1037.824230\n",
       "1         AK    741894.0    92.736750       29.0           6.9   757.650696\n",
       "2         AZ   6931071.0   790.142094       28.4           5.4   849.237172\n",
       "3         AR   2988248.0   176.306632       22.0           4.0   922.833575\n",
       "4         CA  39250017.0  1923.250833       32.6           5.5   462.578769"
      ]
     },
     "execution_count": 10,
     "metadata": {},
     "output_type": "execute_result"
    }
   ],
   "source": [
    "state_df.head()"
   ]
  },
  {
   "cell_type": "code",
   "execution_count": 11,
   "metadata": {},
   "outputs": [],
   "source": [
    "X = state_df.iloc[:, 3:].values\n",
    "Y = state_df.iloc[:, 2].values"
   ]
  },
  {
   "cell_type": "code",
   "execution_count": 14,
   "metadata": {},
   "outputs": [
    {
     "data": {
      "text/plain": [
       "4"
      ]
     },
     "execution_count": 14,
     "metadata": {},
     "output_type": "execute_result"
    }
   ],
   "source": [
    "sss = StratifiedShuffleSplit(n_splits=4, test_size=0.2, random_state=0)\n",
    "sss.get_n_splits(X2, Y2)"
   ]
  },
  {
   "cell_type": "code",
   "execution_count": 13,
   "metadata": {},
   "outputs": [],
   "source": [
    "from sklearn.model_selection import train_test_split\n",
    "x_train, x_test, y_train, y_test = train_test_split(X,Y,test_size=0.1, random_state=42)"
   ]
  },
  {
   "cell_type": "code",
   "execution_count": 18,
   "metadata": {},
   "outputs": [],
   "source": [
    "trainingSets = []\n",
    "for i in range(5):\n",
    "    x_train_split, x_test_split, y_train_split, y_test_split = train_test_split(x_train, y_train, test_size = 0.11, random_state=42)\n",
    "    trainingSets.append((x_train_split, x_test_split, y_train_split, y_test_split))"
   ]
  },
  {
   "cell_type": "code",
   "execution_count": 34,
   "metadata": {},
   "outputs": [],
   "source": [
    "i = 0\n",
    "for i in range(5):\n",
    "    df_train = pd.DataFrame(trainingSets[i][0])   \n",
    "    df_test = pd.DataFrame(trainingSets[i][1])\n",
    "    df_train[3] = trainingSets[i][2]\n",
    "    df_test[3] = trainingSets[i][3]\n",
    "    f = open('stratified_data/strat_fold_' + str(i) + '_train.csv', 'w+')\n",
    "    f = open('stratified_data/strat_fold_' + str(i) + '_test.csv', 'w+')\n",
    "    df_train.to_csv('stratified_data/strat_fold_' + str(i) + '_train.csv')\n",
    "    df_test.to_csv('stratified_data/strat_fold_' + str(i) + '_test.csv')"
   ]
  },
  {
   "cell_type": "code",
   "execution_count": null,
   "metadata": {},
   "outputs": [],
   "source": []
  },
  {
   "cell_type": "code",
   "execution_count": null,
   "metadata": {},
   "outputs": [],
   "source": []
  }
 ],
 "metadata": {
  "kernelspec": {
   "display_name": "Python 3",
   "language": "python",
   "name": "python3"
  },
  "language_info": {
   "codemirror_mode": {
    "name": "ipython",
    "version": 3
   },
   "file_extension": ".py",
   "mimetype": "text/x-python",
   "name": "python",
   "nbconvert_exporter": "python",
   "pygments_lexer": "ipython3",
   "version": "3.7.4"
  }
 },
 "nbformat": 4,
 "nbformat_minor": 2
}
