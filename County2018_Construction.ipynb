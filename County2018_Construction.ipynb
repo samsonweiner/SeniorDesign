{
 "cells": [
  {
   "cell_type": "code",
   "execution_count": 1,
   "metadata": {},
   "outputs": [],
   "source": [
    "import pandas as pd\n",
    "import county_library as CL"
   ]
  },
  {
   "cell_type": "markdown",
   "metadata": {},
   "source": [
    "# Read and Prepare Data"
   ]
  },
  {
   "cell_type": "code",
   "execution_count": 2,
   "metadata": {},
   "outputs": [],
   "source": [
    "county2018 = pd.read_csv('county2018.csv')\n",
    "county2018 = CL.remove_suppressed(county2018)"
   ]
  },
  {
   "cell_type": "markdown",
   "metadata": {},
   "source": [
    "# Load Datasets"
   ]
  },
  {
   "cell_type": "code",
   "execution_count": 3,
   "metadata": {},
   "outputs": [],
   "source": [
    "poverty2018 = pd.read_csv('Poverty2018.csv')\n",
    "unemployment2018 = pd.read_excel('Unemployment.xls')\n",
    "prescription2018 = pd.read_csv('Prescriptions2018.csv')"
   ]
  },
  {
   "cell_type": "markdown",
   "metadata": {},
   "source": [
    "# Process Data"
   ]
  },
  {
   "cell_type": "code",
   "execution_count": 4,
   "metadata": {},
   "outputs": [],
   "source": [
    "county2018 = CL.merge_poverty(county2018, poverty2018)\n",
    "county2018 = CL.merge_unemployment(county2018, unemployment2018, '2018')\n",
    "county2018 = CL.merge_prescription_rate(county2018, prescription2018, '2018')"
   ]
  },
  {
   "cell_type": "markdown",
   "metadata": {},
   "source": [
    "# Finalize"
   ]
  },
  {
   "cell_type": "code",
   "execution_count": 5,
   "metadata": {},
   "outputs": [],
   "source": [
    "county2018 = CL.county_cleanup(county2018)"
   ]
  },
  {
   "cell_type": "code",
   "execution_count": 7,
   "metadata": {},
   "outputs": [],
   "source": [
    "county2018 = county2018.drop(['Unnamed: 0'], axis=1)"
   ]
  },
  {
   "cell_type": "code",
   "execution_count": 8,
   "metadata": {},
   "outputs": [
    {
     "data": {
      "text/html": [
       "<div>\n",
       "<style scoped>\n",
       "    .dataframe tbody tr th:only-of-type {\n",
       "        vertical-align: middle;\n",
       "    }\n",
       "\n",
       "    .dataframe tbody tr th {\n",
       "        vertical-align: top;\n",
       "    }\n",
       "\n",
       "    .dataframe thead th {\n",
       "        text-align: right;\n",
       "    }\n",
       "</style>\n",
       "<table border=\"1\" class=\"dataframe\">\n",
       "  <thead>\n",
       "    <tr style=\"text-align: right;\">\n",
       "      <th></th>\n",
       "      <th>FIPS</th>\n",
       "      <th>Poverty Rate</th>\n",
       "      <th>Income</th>\n",
       "      <th>Unemployment Rate</th>\n",
       "      <th>Prescription Rate</th>\n",
       "      <th>Death Rate</th>\n",
       "    </tr>\n",
       "  </thead>\n",
       "  <tbody>\n",
       "    <tr>\n",
       "      <th>0</th>\n",
       "      <td>1003</td>\n",
       "      <td>9.8</td>\n",
       "      <td>57588</td>\n",
       "      <td>3.6</td>\n",
       "      <td>93.6</td>\n",
       "      <td>6.42</td>\n",
       "    </tr>\n",
       "    <tr>\n",
       "      <th>1</th>\n",
       "      <td>1043</td>\n",
       "      <td>14.5</td>\n",
       "      <td>45796</td>\n",
       "      <td>3.3</td>\n",
       "      <td>126.7</td>\n",
       "      <td>13.18</td>\n",
       "    </tr>\n",
       "    <tr>\n",
       "      <th>2</th>\n",
       "      <td>1055</td>\n",
       "      <td>17.5</td>\n",
       "      <td>44903</td>\n",
       "      <td>4.1</td>\n",
       "      <td>126.1</td>\n",
       "      <td>14.63</td>\n",
       "    </tr>\n",
       "    <tr>\n",
       "      <th>3</th>\n",
       "      <td>1073</td>\n",
       "      <td>16.1</td>\n",
       "      <td>55013</td>\n",
       "      <td>3.7</td>\n",
       "      <td>95.8</td>\n",
       "      <td>20.63</td>\n",
       "    </tr>\n",
       "    <tr>\n",
       "      <th>4</th>\n",
       "      <td>1089</td>\n",
       "      <td>11.9</td>\n",
       "      <td>63755</td>\n",
       "      <td>3.5</td>\n",
       "      <td>85.4</td>\n",
       "      <td>3.00</td>\n",
       "    </tr>\n",
       "    <tr>\n",
       "      <th>5</th>\n",
       "      <td>1097</td>\n",
       "      <td>20.8</td>\n",
       "      <td>43598</td>\n",
       "      <td>4.7</td>\n",
       "      <td>107.6</td>\n",
       "      <td>7.98</td>\n",
       "    </tr>\n",
       "    <tr>\n",
       "      <th>6</th>\n",
       "      <td>1103</td>\n",
       "      <td>13.2</td>\n",
       "      <td>52797</td>\n",
       "      <td>3.5</td>\n",
       "      <td>108.9</td>\n",
       "      <td>11.76</td>\n",
       "    </tr>\n",
       "    <tr>\n",
       "      <th>7</th>\n",
       "      <td>1115</td>\n",
       "      <td>12</td>\n",
       "      <td>57284</td>\n",
       "      <td>3.5</td>\n",
       "      <td>100.1</td>\n",
       "      <td>18.04</td>\n",
       "    </tr>\n",
       "    <tr>\n",
       "      <th>8</th>\n",
       "      <td>1117</td>\n",
       "      <td>8</td>\n",
       "      <td>75663</td>\n",
       "      <td>2.9</td>\n",
       "      <td>81.2</td>\n",
       "      <td>11.13</td>\n",
       "    </tr>\n",
       "    <tr>\n",
       "      <th>9</th>\n",
       "      <td>1125</td>\n",
       "      <td>16.8</td>\n",
       "      <td>52557</td>\n",
       "      <td>3.7</td>\n",
       "      <td>89.1</td>\n",
       "      <td>5.74</td>\n",
       "    </tr>\n",
       "    <tr>\n",
       "      <th>10</th>\n",
       "      <td>2020</td>\n",
       "      <td>9.5</td>\n",
       "      <td>82113</td>\n",
       "      <td>5.5</td>\n",
       "      <td>51.2</td>\n",
       "      <td>9.60</td>\n",
       "    </tr>\n",
       "    <tr>\n",
       "      <th>11</th>\n",
       "      <td>2122</td>\n",
       "      <td>12.4</td>\n",
       "      <td>65439</td>\n",
       "      <td>7.7</td>\n",
       "      <td>76.3</td>\n",
       "      <td>18.79</td>\n",
       "    </tr>\n",
       "    <tr>\n",
       "      <th>12</th>\n",
       "      <td>2170</td>\n",
       "      <td>10.4</td>\n",
       "      <td>74649</td>\n",
       "      <td>7.6</td>\n",
       "      <td>60.8</td>\n",
       "      <td>10.22</td>\n",
       "    </tr>\n",
       "    <tr>\n",
       "      <th>13</th>\n",
       "      <td>4003</td>\n",
       "      <td>15.1</td>\n",
       "      <td>49164</td>\n",
       "      <td>5.6</td>\n",
       "      <td>60.3</td>\n",
       "      <td>11.83</td>\n",
       "    </tr>\n",
       "    <tr>\n",
       "      <th>14</th>\n",
       "      <td>4005</td>\n",
       "      <td>15.9</td>\n",
       "      <td>60187</td>\n",
       "      <td>5.5</td>\n",
       "      <td>34.7</td>\n",
       "      <td>16.10</td>\n",
       "    </tr>\n",
       "  </tbody>\n",
       "</table>\n",
       "</div>"
      ],
      "text/plain": [
       "    FIPS Poverty Rate Income Unemployment Rate  Prescription Rate  Death Rate\n",
       "0   1003          9.8  57588               3.6               93.6        6.42\n",
       "1   1043         14.5  45796               3.3              126.7       13.18\n",
       "2   1055         17.5  44903               4.1              126.1       14.63\n",
       "3   1073         16.1  55013               3.7               95.8       20.63\n",
       "4   1089         11.9  63755               3.5               85.4        3.00\n",
       "5   1097         20.8  43598               4.7              107.6        7.98\n",
       "6   1103         13.2  52797               3.5              108.9       11.76\n",
       "7   1115           12  57284               3.5              100.1       18.04\n",
       "8   1117            8  75663               2.9               81.2       11.13\n",
       "9   1125         16.8  52557               3.7               89.1        5.74\n",
       "10  2020          9.5  82113               5.5               51.2        9.60\n",
       "11  2122         12.4  65439               7.7               76.3       18.79\n",
       "12  2170         10.4  74649               7.6               60.8       10.22\n",
       "13  4003         15.1  49164               5.6               60.3       11.83\n",
       "14  4005         15.9  60187               5.5               34.7       16.10"
      ]
     },
     "execution_count": 8,
     "metadata": {},
     "output_type": "execute_result"
    }
   ],
   "source": [
    "county2018.head(15)"
   ]
  },
  {
   "cell_type": "markdown",
   "metadata": {},
   "source": [
    "# Export to CSV"
   ]
  },
  {
   "cell_type": "code",
   "execution_count": 9,
   "metadata": {},
   "outputs": [],
   "source": [
    "county2018.to_csv('county2018_final.csv')"
   ]
  },
  {
   "cell_type": "code",
   "execution_count": null,
   "metadata": {},
   "outputs": [],
   "source": []
  }
 ],
 "metadata": {
  "kernelspec": {
   "display_name": "Python 3",
   "language": "python",
   "name": "python3"
  },
  "language_info": {
   "codemirror_mode": {
    "name": "ipython",
    "version": 3
   },
   "file_extension": ".py",
   "mimetype": "text/x-python",
   "name": "python",
   "nbconvert_exporter": "python",
   "pygments_lexer": "ipython3",
   "version": "3.7.6"
  }
 },
 "nbformat": 4,
 "nbformat_minor": 2
}
